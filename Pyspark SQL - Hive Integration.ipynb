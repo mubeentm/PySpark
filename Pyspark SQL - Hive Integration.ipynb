{
 "cells": [
  {
   "cell_type": "code",
   "execution_count": 1,
   "id": "307e7ddb",
   "metadata": {},
   "outputs": [
    {
     "data": {
      "text/html": [
       "\n",
       "        <div>\n",
       "            <p><b>SparkContext</b></p>\n",
       "\n",
       "            <p><a href=\"http://10.0.2.15:4041\">Spark UI</a></p>\n",
       "\n",
       "            <dl>\n",
       "              <dt>Version</dt>\n",
       "                <dd><code>v2.4.8</code></dd>\n",
       "              <dt>Master</dt>\n",
       "                <dd><code>local[*]</code></dd>\n",
       "              <dt>AppName</dt>\n",
       "                <dd><code>PySparkShell</code></dd>\n",
       "            </dl>\n",
       "        </div>\n",
       "        "
      ],
      "text/plain": [
       "<SparkContext master=local[*] appName=PySparkShell>"
      ]
     },
     "execution_count": 1,
     "metadata": {},
     "output_type": "execute_result"
    }
   ],
   "source": [
    "sc"
   ]
  },
  {
   "cell_type": "code",
   "execution_count": 2,
   "id": "d6e25d81",
   "metadata": {},
   "outputs": [],
   "source": [
    "from pyspark import SparkConf, SparkContext\n",
    "from pyspark.sql import SparkSession, HiveContext"
   ]
  },
  {
   "cell_type": "code",
   "execution_count": 3,
   "id": "10770909",
   "metadata": {},
   "outputs": [],
   "source": [
    "sc.stop()"
   ]
  },
  {
   "cell_type": "code",
   "execution_count": 4,
   "id": "ea5c48f0",
   "metadata": {},
   "outputs": [],
   "source": [
    "config = SparkConf().setAppName('SparkHiveSession').setMaster('local[4]')\n",
    "sc = SparkContext.getOrCreate(conf = config)"
   ]
  },
  {
   "cell_type": "code",
   "execution_count": 5,
   "id": "ff1ae23f",
   "metadata": {},
   "outputs": [
    {
     "data": {
      "text/html": [
       "\n",
       "        <div>\n",
       "            <p><b>SparkContext</b></p>\n",
       "\n",
       "            <p><a href=\"http://10.0.2.15:4041\">Spark UI</a></p>\n",
       "\n",
       "            <dl>\n",
       "              <dt>Version</dt>\n",
       "                <dd><code>v2.4.8</code></dd>\n",
       "              <dt>Master</dt>\n",
       "                <dd><code>local[4]</code></dd>\n",
       "              <dt>AppName</dt>\n",
       "                <dd><code>SparkHiveSession</code></dd>\n",
       "            </dl>\n",
       "        </div>\n",
       "        "
      ],
      "text/plain": [
       "<SparkContext master=local[4] appName=SparkHiveSession>"
      ]
     },
     "execution_count": 5,
     "metadata": {},
     "output_type": "execute_result"
    }
   ],
   "source": [
    "sc"
   ]
  },
  {
   "cell_type": "code",
   "execution_count": 9,
   "id": "d246d373",
   "metadata": {},
   "outputs": [],
   "source": [
    "#spark integration with Hive \n",
    "spark = (SparkSession.builder.appName(\"pyspark-hive-intergraion\")\n",
    "        .config('spark.sql.warehouse.dir','/user/hive/warehouse')\n",
    "        .enableHiveSupport().getOrCreate())"
   ]
  },
  {
   "cell_type": "code",
   "execution_count": null,
   "id": "218abb80",
   "metadata": {},
   "outputs": [],
   "source": [
    "spark.sql()"
   ]
  },
  {
   "cell_type": "code",
   "execution_count": 10,
   "id": "f2ccccc9",
   "metadata": {},
   "outputs": [
    {
     "data": {
      "text/html": [
       "\n",
       "        <div>\n",
       "            <p><b>SparkContext</b></p>\n",
       "\n",
       "            <p><a href=\"http://10.0.2.15:4041\">Spark UI</a></p>\n",
       "\n",
       "            <dl>\n",
       "              <dt>Version</dt>\n",
       "                <dd><code>v2.4.8</code></dd>\n",
       "              <dt>Master</dt>\n",
       "                <dd><code>local[4]</code></dd>\n",
       "              <dt>AppName</dt>\n",
       "                <dd><code>SparkHiveSession</code></dd>\n",
       "            </dl>\n",
       "        </div>\n",
       "        "
      ],
      "text/plain": [
       "<SparkContext master=local[4] appName=SparkHiveSession>"
      ]
     },
     "execution_count": 10,
     "metadata": {},
     "output_type": "execute_result"
    }
   ],
   "source": [
    "sc"
   ]
  },
  {
   "cell_type": "code",
   "execution_count": 12,
   "id": "c8aaeff6",
   "metadata": {},
   "outputs": [
    {
     "name": "stdout",
     "output_type": "stream",
     "text": [
      "+------------+\n",
      "|databaseName|\n",
      "+------------+\n",
      "|     default|\n",
      "+------------+\n",
      "\n"
     ]
    }
   ],
   "source": [
    "spark.sql(\"show databases\").show()"
   ]
  },
  {
   "cell_type": "code",
   "execution_count": 13,
   "id": "1aec417f",
   "metadata": {},
   "outputs": [
    {
     "name": "stdout",
     "output_type": "stream",
     "text": [
      "++\n",
      "||\n",
      "++\n",
      "++\n",
      "\n"
     ]
    }
   ],
   "source": [
    "spark.sql(\"drop database if exists bankDB\").show()"
   ]
  },
  {
   "cell_type": "code",
   "execution_count": 15,
   "id": "1833b4e6",
   "metadata": {},
   "outputs": [
    {
     "name": "stdout",
     "output_type": "stream",
     "text": [
      "++\n",
      "||\n",
      "++\n",
      "++\n",
      "\n"
     ]
    }
   ],
   "source": [
    "spark.sql(\"create database if not exists banking_db\").show()"
   ]
  },
  {
   "cell_type": "code",
   "execution_count": 16,
   "id": "3087d937",
   "metadata": {},
   "outputs": [
    {
     "name": "stdout",
     "output_type": "stream",
     "text": [
      "+------------+\n",
      "|databaseName|\n",
      "+------------+\n",
      "|  banking_db|\n",
      "|     default|\n",
      "+------------+\n",
      "\n"
     ]
    }
   ],
   "source": [
    "spark.sql(\"show databases\").show()"
   ]
  },
  {
   "cell_type": "code",
   "execution_count": 17,
   "id": "541a04d2",
   "metadata": {},
   "outputs": [
    {
     "name": "stdout",
     "output_type": "stream",
     "text": [
      "++\n",
      "||\n",
      "++\n",
      "++\n",
      "\n"
     ]
    }
   ],
   "source": [
    "spark.sql(\"use banking_db\").show()"
   ]
  },
  {
   "cell_type": "code",
   "execution_count": 18,
   "id": "f06bfaa1",
   "metadata": {},
   "outputs": [
    {
     "name": "stdout",
     "output_type": "stream",
     "text": [
      "+--------+---------+-----------+\n",
      "|database|tableName|isTemporary|\n",
      "+--------+---------+-----------+\n",
      "+--------+---------+-----------+\n",
      "\n"
     ]
    }
   ],
   "source": [
    "spark.sql(\"show tables\").show()"
   ]
  },
  {
   "cell_type": "code",
   "execution_count": 20,
   "id": "dca11959",
   "metadata": {},
   "outputs": [
    {
     "data": {
      "text/plain": [
       "DataFrame[]"
      ]
     },
     "execution_count": 20,
     "metadata": {},
     "output_type": "execute_result"
    }
   ],
   "source": [
    "spark.sql(\"\"\"\n",
    "    CREATE TABLE if not exists banking (age int, balance double, campaign double, \n",
    "    contact string, day int , default string, duration int, education varchar(50),\n",
    "    housing varchar(10), job string, loan varchar(10), marital string, month varchar(30),\n",
    "    pdays double, pooutcome string, previous int, y varchar(10))\n",
    "    ROW FORMAT DELIMITED\n",
    "    FIELDS TERMINATED BY ','\n",
    "    STORED AS TEXTFILE\n",
    "    tblProperties(\"skip.header.line.count\" = 1)\n",
    "\"\"\")"
   ]
  },
  {
   "cell_type": "code",
   "execution_count": 21,
   "id": "3641d73f",
   "metadata": {},
   "outputs": [
    {
     "name": "stdout",
     "output_type": "stream",
     "text": [
      "+----------+---------+-----------+\n",
      "|  database|tableName|isTemporary|\n",
      "+----------+---------+-----------+\n",
      "|banking_db|  banking|      false|\n",
      "+----------+---------+-----------+\n",
      "\n"
     ]
    }
   ],
   "source": [
    "spark.sql(\"show tables\").show()"
   ]
  },
  {
   "cell_type": "code",
   "execution_count": 22,
   "id": "efebc26c",
   "metadata": {},
   "outputs": [
    {
     "name": "stdout",
     "output_type": "stream",
     "text": [
      "+--------------------+----------+-------+\n",
      "|            col_name| data_type|comment|\n",
      "+--------------------+----------+-------+\n",
      "|                 age|       int|   null|\n",
      "|             balance|    double|   null|\n",
      "|            campaign|    double|   null|\n",
      "|             contact|    string|   null|\n",
      "|                 day|       int|   null|\n",
      "|             default|    string|   null|\n",
      "|            duration|       int|   null|\n",
      "|           education|    string|   null|\n",
      "|             housing|    string|   null|\n",
      "|                 job|    string|   null|\n",
      "|                loan|    string|   null|\n",
      "|             marital|    string|   null|\n",
      "|               month|    string|   null|\n",
      "|               pdays|    double|   null|\n",
      "|           pooutcome|    string|   null|\n",
      "|            previous|       int|   null|\n",
      "|                   y|    string|   null|\n",
      "|                    |          |       |\n",
      "|# Detailed Table ...|          |       |\n",
      "|            Database|banking_db|       |\n",
      "+--------------------+----------+-------+\n",
      "only showing top 20 rows\n",
      "\n"
     ]
    }
   ],
   "source": [
    "spark.sql(\"describe formatted banking\").show()"
   ]
  },
  {
   "cell_type": "markdown",
   "id": "f148a4cf",
   "metadata": {},
   "source": [
    "#### DDL method to load Data into Hive table"
   ]
  },
  {
   "cell_type": "code",
   "execution_count": null,
   "id": "c1010d35",
   "metadata": {},
   "outputs": [],
   "source": [
    "# spark.sql(\"\"\"\n",
    "# load data local inpath 'loacl file path/filename.csv'\n",
    "# overwrite into table banking\n",
    "# \"\"\")"
   ]
  },
  {
   "cell_type": "markdown",
   "id": "5110357b",
   "metadata": {},
   "source": [
    "#### Create a spark Dataframe"
   ]
  },
  {
   "cell_type": "code",
   "execution_count": 23,
   "id": "3787a9db",
   "metadata": {},
   "outputs": [],
   "source": [
    "from pyspark.sql.types import *"
   ]
  },
  {
   "cell_type": "code",
   "execution_count": 24,
   "id": "397c48ce",
   "metadata": {},
   "outputs": [],
   "source": [
    "bank_customer_data = spark.read.json(\"file:///home/hadoop/Downloads/bank_edited.json\", multiLine=True)"
   ]
  },
  {
   "cell_type": "code",
   "execution_count": 25,
   "id": "e21ee769",
   "metadata": {},
   "outputs": [
    {
     "name": "stdout",
     "output_type": "stream",
     "text": [
      "+---+-------+--------+-------+---+-------+--------+---------+-------+------------+----+--------+-----+-----+--------+--------+---+\n",
      "|age|balance|campaign|contact|day|default|duration|education|housing|         job|loan| marital|month|pdays|poutcome|previous|  y|\n",
      "+---+-------+--------+-------+---+-------+--------+---------+-------+------------+----+--------+-----+-----+--------+--------+---+\n",
      "| 58|   2143|       1|unknown|  5|     no|     261| tertiary|    yes|  management|  no| married|  may|   -1| unknown|       0| no|\n",
      "| 44|     29|       1|unknown|  5|     no|     151|secondary|    yes|  technician|  no|  single|  may|   -1| unknown|       0| no|\n",
      "| 33|      2|       1|unknown|  5|     no|      76|secondary|    yes|entrepreneur| yes| married|  may|   -1| unknown|       0| no|\n",
      "| 47|   1506|       1|unknown|  5|     no|      92|  unknown|    yes| blue-collar|  no| married|  may|   -1| unknown|       0| no|\n",
      "| 33|      1|       1|unknown|  5|     no|     198|  unknown|     no|     unknown|  no|  single|  may|   -1| unknown|       0| no|\n",
      "| 35|    231|       1|unknown|  5|     no|     139| tertiary|    yes|  management|  no| married|  may|   -1| unknown|       0| no|\n",
      "| 28|    447|       1|unknown|  5|     no|     217| tertiary|    yes|  management| yes|  single|  may|   -1| unknown|       0| no|\n",
      "| 42|      2|       1|unknown|  5|    yes|     380| tertiary|    yes|entrepreneur|  no|divorced|  may|   -1| unknown|       0| no|\n",
      "| 58|    121|       1|unknown|  5|     no|      50|  primary|    yes|     retired|  no| married|  may|   -1| unknown|       0| no|\n",
      "| 43|    593|       1|unknown|  5|     no|      55|secondary|    yes|  technician|  no|  single|  may|   -1| unknown|       0| no|\n",
      "| 41|    270|       1|unknown|  5|     no|     222|secondary|    yes|      admin.|  no|divorced|  may|   -1| unknown|       0| no|\n",
      "| 29|    390|       1|unknown|  5|     no|     137|secondary|    yes|      admin.|  no|  single|  may|   -1| unknown|       0| no|\n",
      "| 53|      6|       1|unknown|  5|     no|     517|secondary|    yes|  technician|  no| married|  may|   -1| unknown|       0| no|\n",
      "| 58|     71|       1|unknown|  5|     no|      71|  unknown|    yes|  technician|  no| married|  may|   -1| unknown|       0| no|\n",
      "| 57|    162|       1|unknown|  5|     no|     174|secondary|    yes|    services|  no| married|  may|   -1| unknown|       0| no|\n",
      "| 51|    229|       1|unknown|  5|     no|     353|  primary|    yes|     retired|  no| married|  may|   -1| unknown|       0| no|\n",
      "| 45|     13|       1|unknown|  5|     no|      98|  unknown|    yes|      admin.|  no|  single|  may|   -1| unknown|       0| no|\n",
      "| 57|     52|       1|unknown|  5|     no|      38|  primary|    yes| blue-collar|  no| married|  may|   -1| unknown|       0| no|\n",
      "| 60|     60|       1|unknown|  5|     no|     219|  primary|    yes|     retired|  no| married|  may|   -1| unknown|       0| no|\n",
      "| 33|      0|       1|unknown|  5|     no|      54|secondary|    yes|    services|  no| married|  may|   -1| unknown|       0| no|\n",
      "+---+-------+--------+-------+---+-------+--------+---------+-------+------------+----+--------+-----+-----+--------+--------+---+\n",
      "only showing top 20 rows\n",
      "\n"
     ]
    }
   ],
   "source": [
    "bank_customer_data.show()"
   ]
  },
  {
   "cell_type": "code",
   "execution_count": 26,
   "id": "621be088",
   "metadata": {},
   "outputs": [
    {
     "name": "stdout",
     "output_type": "stream",
     "text": [
      "root\n",
      " |-- age: long (nullable = true)\n",
      " |-- balance: long (nullable = true)\n",
      " |-- campaign: long (nullable = true)\n",
      " |-- contact: string (nullable = true)\n",
      " |-- day: long (nullable = true)\n",
      " |-- default: string (nullable = true)\n",
      " |-- duration: long (nullable = true)\n",
      " |-- education: string (nullable = true)\n",
      " |-- housing: string (nullable = true)\n",
      " |-- job: string (nullable = true)\n",
      " |-- loan: string (nullable = true)\n",
      " |-- marital: string (nullable = true)\n",
      " |-- month: string (nullable = true)\n",
      " |-- pdays: long (nullable = true)\n",
      " |-- poutcome: string (nullable = true)\n",
      " |-- previous: long (nullable = true)\n",
      " |-- y: string (nullable = true)\n",
      "\n"
     ]
    }
   ],
   "source": [
    "bank_customer_data.printSchema()"
   ]
  },
  {
   "cell_type": "markdown",
   "id": "ce82dc9d",
   "metadata": {},
   "source": [
    "#### Insert Records from Spark Temp Table to Hive Table"
   ]
  },
  {
   "cell_type": "code",
   "execution_count": 27,
   "id": "deeb3c25",
   "metadata": {},
   "outputs": [],
   "source": [
    "bank_customer_data.createOrReplaceTempView('banktable')"
   ]
  },
  {
   "cell_type": "code",
   "execution_count": 28,
   "id": "6681833f",
   "metadata": {},
   "outputs": [
    {
     "data": {
      "text/plain": [
       "DataFrame[]"
      ]
     },
     "execution_count": 28,
     "metadata": {},
     "output_type": "execute_result"
    }
   ],
   "source": [
    "spark.sql(\"\"\"\n",
    "insert into table banking\n",
    "select * from banktable\n",
    "\"\"\")"
   ]
  },
  {
   "cell_type": "code",
   "execution_count": 29,
   "id": "6b48cc5d",
   "metadata": {},
   "outputs": [
    {
     "name": "stdout",
     "output_type": "stream",
     "text": [
      "+---+-------+--------+-------+---+-------+--------+---------+-------+------------+----+--------+-----+-----+---------+--------+---+\n",
      "|age|balance|campaign|contact|day|default|duration|education|housing|         job|loan| marital|month|pdays|pooutcome|previous|  y|\n",
      "+---+-------+--------+-------+---+-------+--------+---------+-------+------------+----+--------+-----+-----+---------+--------+---+\n",
      "| 58| 2143.0|     1.0|unknown|  5|     no|     261| tertiary|    yes|  management|  no| married|  may| -1.0|  unknown|       0| no|\n",
      "| 44|   29.0|     1.0|unknown|  5|     no|     151|secondary|    yes|  technician|  no|  single|  may| -1.0|  unknown|       0| no|\n",
      "| 33|    2.0|     1.0|unknown|  5|     no|      76|secondary|    yes|entrepreneur| yes| married|  may| -1.0|  unknown|       0| no|\n",
      "| 47| 1506.0|     1.0|unknown|  5|     no|      92|  unknown|    yes| blue-collar|  no| married|  may| -1.0|  unknown|       0| no|\n",
      "| 33|    1.0|     1.0|unknown|  5|     no|     198|  unknown|     no|     unknown|  no|  single|  may| -1.0|  unknown|       0| no|\n",
      "| 35|  231.0|     1.0|unknown|  5|     no|     139| tertiary|    yes|  management|  no| married|  may| -1.0|  unknown|       0| no|\n",
      "| 28|  447.0|     1.0|unknown|  5|     no|     217| tertiary|    yes|  management| yes|  single|  may| -1.0|  unknown|       0| no|\n",
      "| 42|    2.0|     1.0|unknown|  5|    yes|     380| tertiary|    yes|entrepreneur|  no|divorced|  may| -1.0|  unknown|       0| no|\n",
      "| 58|  121.0|     1.0|unknown|  5|     no|      50|  primary|    yes|     retired|  no| married|  may| -1.0|  unknown|       0| no|\n",
      "| 43|  593.0|     1.0|unknown|  5|     no|      55|secondary|    yes|  technician|  no|  single|  may| -1.0|  unknown|       0| no|\n",
      "| 41|  270.0|     1.0|unknown|  5|     no|     222|secondary|    yes|      admin.|  no|divorced|  may| -1.0|  unknown|       0| no|\n",
      "| 29|  390.0|     1.0|unknown|  5|     no|     137|secondary|    yes|      admin.|  no|  single|  may| -1.0|  unknown|       0| no|\n",
      "| 53|    6.0|     1.0|unknown|  5|     no|     517|secondary|    yes|  technician|  no| married|  may| -1.0|  unknown|       0| no|\n",
      "| 58|   71.0|     1.0|unknown|  5|     no|      71|  unknown|    yes|  technician|  no| married|  may| -1.0|  unknown|       0| no|\n",
      "| 57|  162.0|     1.0|unknown|  5|     no|     174|secondary|    yes|    services|  no| married|  may| -1.0|  unknown|       0| no|\n",
      "| 51|  229.0|     1.0|unknown|  5|     no|     353|  primary|    yes|     retired|  no| married|  may| -1.0|  unknown|       0| no|\n",
      "| 45|   13.0|     1.0|unknown|  5|     no|      98|  unknown|    yes|      admin.|  no|  single|  may| -1.0|  unknown|       0| no|\n",
      "| 57|   52.0|     1.0|unknown|  5|     no|      38|  primary|    yes| blue-collar|  no| married|  may| -1.0|  unknown|       0| no|\n",
      "| 60|   60.0|     1.0|unknown|  5|     no|     219|  primary|    yes|     retired|  no| married|  may| -1.0|  unknown|       0| no|\n",
      "| 33|    0.0|     1.0|unknown|  5|     no|      54|secondary|    yes|    services|  no| married|  may| -1.0|  unknown|       0| no|\n",
      "+---+-------+--------+-------+---+-------+--------+---------+-------+------------+----+--------+-----+-----+---------+--------+---+\n",
      "only showing top 20 rows\n",
      "\n"
     ]
    }
   ],
   "source": [
    "spark.sql(\"select * from banking\").show()"
   ]
  },
  {
   "cell_type": "code",
   "execution_count": null,
   "id": "72b38352",
   "metadata": {},
   "outputs": [],
   "source": []
  }
 ],
 "metadata": {
  "kernelspec": {
   "display_name": "Python 3",
   "language": "python",
   "name": "python3"
  },
  "language_info": {
   "codemirror_mode": {
    "name": "ipython",
    "version": 3
   },
   "file_extension": ".py",
   "mimetype": "text/x-python",
   "name": "python",
   "nbconvert_exporter": "python",
   "pygments_lexer": "ipython3",
   "version": "3.6.9"
  }
 },
 "nbformat": 4,
 "nbformat_minor": 5
}
