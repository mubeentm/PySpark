{
 "cells": [
  {
   "cell_type": "code",
   "execution_count": 1,
   "id": "649e5565",
   "metadata": {},
   "outputs": [
    {
     "data": {
      "text/html": [
       "\n",
       "        <div>\n",
       "            <p><b>SparkContext</b></p>\n",
       "\n",
       "            <p><a href=\"http://10.0.2.15:4040\">Spark UI</a></p>\n",
       "\n",
       "            <dl>\n",
       "              <dt>Version</dt>\n",
       "                <dd><code>v2.4.8</code></dd>\n",
       "              <dt>Master</dt>\n",
       "                <dd><code>local[*]</code></dd>\n",
       "              <dt>AppName</dt>\n",
       "                <dd><code>PySparkShell</code></dd>\n",
       "            </dl>\n",
       "        </div>\n",
       "        "
      ],
      "text/plain": [
       "<SparkContext master=local[*] appName=PySparkShell>"
      ]
     },
     "execution_count": 1,
     "metadata": {},
     "output_type": "execute_result"
    }
   ],
   "source": [
    "sc"
   ]
  },
  {
   "cell_type": "code",
   "execution_count": 4,
   "id": "a1b65b93",
   "metadata": {},
   "outputs": [],
   "source": [
    "from pyspark.sql.functions import *\n",
    "from pyspark.sql.types import *"
   ]
  },
  {
   "cell_type": "code",
   "execution_count": 11,
   "id": "50cae331",
   "metadata": {},
   "outputs": [
    {
     "name": "stdout",
     "output_type": "stream",
     "text": [
      "+---+-------+--------+-------+---+-------+--------+---------+-------+------------+----+--------+-----+-----+--------+--------+---+\n",
      "|age|balance|campaign|contact|day|default|duration|education|housing|         job|loan| marital|month|pdays|poutcome|previous|  y|\n",
      "+---+-------+--------+-------+---+-------+--------+---------+-------+------------+----+--------+-----+-----+--------+--------+---+\n",
      "| 58|   2143|       1|unknown|  5|     no|     261| tertiary|    yes|  management|  no| married|  may|   -1| unknown|       0| no|\n",
      "| 44|     29|       1|unknown|  5|     no|     151|secondary|    yes|  technician|  no|  single|  may|   -1| unknown|       0| no|\n",
      "| 33|      2|       1|unknown|  5|     no|      76|secondary|    yes|entrepreneur| yes| married|  may|   -1| unknown|       0| no|\n",
      "| 47|   1506|       1|unknown|  5|     no|      92|  unknown|    yes| blue-collar|  no| married|  may|   -1| unknown|       0| no|\n",
      "| 33|      1|       1|unknown|  5|     no|     198|  unknown|     no|     unknown|  no|  single|  may|   -1| unknown|       0| no|\n",
      "| 35|    231|       1|unknown|  5|     no|     139| tertiary|    yes|  management|  no| married|  may|   -1| unknown|       0| no|\n",
      "| 28|    447|       1|unknown|  5|     no|     217| tertiary|    yes|  management| yes|  single|  may|   -1| unknown|       0| no|\n",
      "| 42|      2|       1|unknown|  5|    yes|     380| tertiary|    yes|entrepreneur|  no|divorced|  may|   -1| unknown|       0| no|\n",
      "| 58|    121|       1|unknown|  5|     no|      50|  primary|    yes|     retired|  no| married|  may|   -1| unknown|       0| no|\n",
      "| 43|    593|       1|unknown|  5|     no|      55|secondary|    yes|  technician|  no|  single|  may|   -1| unknown|       0| no|\n",
      "| 41|    270|       1|unknown|  5|     no|     222|secondary|    yes|      admin.|  no|divorced|  may|   -1| unknown|       0| no|\n",
      "| 29|    390|       1|unknown|  5|     no|     137|secondary|    yes|      admin.|  no|  single|  may|   -1| unknown|       0| no|\n",
      "| 53|      6|       1|unknown|  5|     no|     517|secondary|    yes|  technician|  no| married|  may|   -1| unknown|       0| no|\n",
      "| 58|     71|       1|unknown|  5|     no|      71|  unknown|    yes|  technician|  no| married|  may|   -1| unknown|       0| no|\n",
      "| 57|    162|       1|unknown|  5|     no|     174|secondary|    yes|    services|  no| married|  may|   -1| unknown|       0| no|\n",
      "| 51|    229|       1|unknown|  5|     no|     353|  primary|    yes|     retired|  no| married|  may|   -1| unknown|       0| no|\n",
      "| 45|     13|       1|unknown|  5|     no|      98|  unknown|    yes|      admin.|  no|  single|  may|   -1| unknown|       0| no|\n",
      "| 57|     52|       1|unknown|  5|     no|      38|  primary|    yes| blue-collar|  no| married|  may|   -1| unknown|       0| no|\n",
      "| 60|     60|       1|unknown|  5|     no|     219|  primary|    yes|     retired|  no| married|  may|   -1| unknown|       0| no|\n",
      "| 33|      0|       1|unknown|  5|     no|      54|secondary|    yes|    services|  no| married|  may|   -1| unknown|       0| no|\n",
      "+---+-------+--------+-------+---+-------+--------+---------+-------+------------+----+--------+-----+-----+--------+--------+---+\n",
      "only showing top 20 rows\n",
      "\n"
     ]
    }
   ],
   "source": [
    "bank_data = spark.read.json(\"file:///home/hadoop/Downloads/bank_edited.json\", multiLine=True)\n",
    "bank_data.show()"
   ]
  },
  {
   "cell_type": "code",
   "execution_count": null,
   "id": "2759ab95",
   "metadata": {},
   "outputs": [],
   "source": []
  },
  {
   "cell_type": "markdown",
   "id": "56f1be7b",
   "metadata": {},
   "source": [
    "#### 1. create a schema with defined fields in desired order and desired dtype"
   ]
  },
  {
   "cell_type": "code",
   "execution_count": 5,
   "id": "90b82018",
   "metadata": {},
   "outputs": [],
   "source": [
    "schema = StructType([\n",
    "    StructField(\"id\", IntegerType(),True),\n",
    "    StructField(\"first_name\", StringType(),True),\n",
    "    StructField(\"last_name\", StringType(),True),\n",
    "    StructField(\"gender\", StringType(),True),\n",
    "    StructField(\"salary\", LongType(),True),\n",
    "    StructField(\"city\", StringType(),True),\n",
    "    StructField(\"country\", StringType(),True)\n",
    "])"
   ]
  },
  {
   "cell_type": "code",
   "execution_count": 6,
   "id": "762bff98",
   "metadata": {},
   "outputs": [
    {
     "name": "stdout",
     "output_type": "stream",
     "text": [
      "+---+----------+---------+------+------+------------------+------------+\n",
      "| id|first_name|last_name|gender|salary|              city|     country|\n",
      "+---+----------+---------+------+------+------------------+------------+\n",
      "|  1|     Valma|     Sans|Female|983107|         Mulyosari|   Indonesia|\n",
      "|  2|     Paolo|   Kiddie|  Male|649173|           Niihama|       Japan|\n",
      "|  3|    Miltie| De Zuani|  Male|352898|         Dū Qal‘ah| Afghanistan|\n",
      "|  4|    Jarrid| Dalziell|  Male|170398|            Iberia|        Peru|\n",
      "|  5| Reinaldos|   Keeffe|  Male|440989|          La Ronge|      Canada|\n",
      "|  6|        Eb|Schwanden|  Male|274126|      Kuala Lumpur|    Malaysia|\n",
      "|  7|    Alleyn|   Paddon|  Male|681914|         Al Qurayn|Saudi Arabia|\n",
      "|  8|   Baryram|     Yell|  Male|250748|           Jixiang|       China|\n",
      "|  9|     Cammy|     Axel|Female|221750|Thị Trấn Phong Thổ|     Vietnam|\n",
      "| 10|       Erl|  Caldera|  Male|680801|        Kotatengah|   Indonesia|\n",
      "| 11|    Miguel|   Moules|  Male|819771|        Roldanillo|    Colombia|\n",
      "| 12| Mireielle|   Hurley|Female|486029|            Malārd|        Iran|\n",
      "| 13|    Feodor| Grummitt|  Male|358045|     Fada N'gourma|Burkina Faso|\n",
      "| 14|     Diana|  Lawfull|Female|397683|           Ciangir|   Indonesia|\n",
      "| 15|      Evie|   Kaysor|Female|436202|         El Cantón|   Venezuela|\n",
      "| 16|    Janean|    Sayse|Female|892405|          La Unión|    Colombia|\n",
      "| 17|     Colan|   Stoppe|  Male|218434|            Xinhua|       China|\n",
      "| 18|      Erik| Stitcher|  Male|776023|     Крива Паланка|   Macedonia|\n",
      "| 19|   Sargent|   Cleall|  Male|819269|          Qīr Moāv|      Jordan|\n",
      "| 20|   Tamqrah|Millichip|Female|313540|      Bogandinskiy|      Russia|\n",
      "+---+----------+---------+------+------+------------------+------------+\n",
      "only showing top 20 rows\n",
      "\n"
     ]
    }
   ],
   "source": [
    "people_df = spark.read.schema(schema).json(\"file:///home/hadoop/Downloads/People.json\")\n",
    "people_df.show()"
   ]
  },
  {
   "cell_type": "code",
   "execution_count": 7,
   "id": "dfd2424f",
   "metadata": {},
   "outputs": [
    {
     "name": "stdout",
     "output_type": "stream",
     "text": [
      "+---+----------+---------+------+------+---------+-----------+\n",
      "| id|first_name|last_name|gender|salary|     city|    country|\n",
      "+---+----------+---------+------+------+---------+-----------+\n",
      "|  1|     Valma|     Sans|Female|983107|Mulyosari|  Indonesia|\n",
      "|  2|     Paolo|   Kiddie|  Male|649173|  Niihama|      Japan|\n",
      "|  3|    Miltie| De Zuani|  Male|352898|Dū Qal‘ah|Afghanistan|\n",
      "|  4|    Jarrid| Dalziell|  Male|170398|   Iberia|       Peru|\n",
      "|  5| Reinaldos|   Keeffe|  Male|440989| La Ronge|     Canada|\n",
      "+---+----------+---------+------+------+---------+-----------+\n",
      "\n"
     ]
    }
   ],
   "source": [
    "#Limit - To limit first 5 records\n",
    "people_df.limit(5).show()"
   ]
  },
  {
   "cell_type": "markdown",
   "id": "2f31a530",
   "metadata": {},
   "source": [
    "#### 3. Rando sampling of data from sample method"
   ]
  },
  {
   "cell_type": "code",
   "execution_count": 8,
   "id": "dea265f9",
   "metadata": {},
   "outputs": [
    {
     "name": "stdout",
     "output_type": "stream",
     "text": [
      "+---+----------+---------+------+------+---------------+--------------+\n",
      "| id|first_name|last_name|gender|salary|           city|       country|\n",
      "+---+----------+---------+------+------+---------------+--------------+\n",
      "| 35|  Germayne|  Tremeer|  Male|920086|     eSikhawini|  South Africa|\n",
      "| 47|   Olivier|   Shewon|  Male|244655|         Kolaka|     Indonesia|\n",
      "| 69|Ermentrude|  Teffrey|Female| 96039|          Tiron|     Indonesia|\n",
      "| 87|  Maryanna|  Petchey|Female|853991|       Subotica|        Serbia|\n",
      "| 89|     Jayme| Brunotti|Female|881570|        Marston|United Kingdom|\n",
      "|101|    Fredia| Reinhard|Female|644592|Belén de Umbría|      Colombia|\n",
      "|138|   Kirstyn| Izkovici|Female|606642|      Jembangan|     Indonesia|\n",
      "|156| Antonella|    Gaule|Female|856946|         Gunung|     Indonesia|\n",
      "|168|     Natal|  Eilhart|  Male|921191|       Houxiang|         China|\n",
      "|177|    Durand|   Plevin|  Male|151677|          Kinna|        Sweden|\n",
      "|179|     Bucky|   Engley|  Male|593031|  Ollantaytambo|          Peru|\n",
      "|211|     Danya|  Simenon|Female|369820|        Gibsons|        Canada|\n",
      "|230|    Andrea|    Becks|  Male|764222|        Tubajon|   Philippines|\n",
      "|237|    Tracey|  Klugman|Female|893047|          Choya|        Russia|\n",
      "|239|    Venita| Lorraway|Female| 72608|       Xinmatou|         China|\n",
      "|269|      Joel|  Lerwell|  Male|302113|          Jabon|     Indonesia|\n",
      "|277|    Isiahi| Hartburn|  Male| 35601|       Budapest|       Hungary|\n",
      "|319|  Raimundo|  Huntley|  Male|221394|      Damatulan|   Philippines|\n",
      "|322|    Ileana| Valentin|Female|683578|         Dianya|         China|\n",
      "|323|   Opaline|   Fevier|Female|798573|        Vodnjan|       Croatia|\n",
      "+---+----------+---------+------+------+---------------+--------------+\n",
      "only showing top 20 rows\n",
      "\n"
     ]
    }
   ],
   "source": [
    "people_df.sample(withReplacement = False, fraction = 0.05, seed = 123).show()"
   ]
  },
  {
   "cell_type": "markdown",
   "id": "87233507",
   "metadata": {},
   "source": [
    "#### 4. OrderBy()\n",
    "* Arrange data in ascending or descending order"
   ]
  },
  {
   "cell_type": "code",
   "execution_count": null,
   "id": "de5dc0bb",
   "metadata": {},
   "outputs": [],
   "source": [
    "people_df.orderBy(['salary','first_name'], ascending = True).show()"
   ]
  }
 ],
 "metadata": {
  "kernelspec": {
   "display_name": "Python 3",
   "language": "python",
   "name": "python3"
  },
  "language_info": {
   "codemirror_mode": {
    "name": "ipython",
    "version": 3
   },
   "file_extension": ".py",
   "mimetype": "text/x-python",
   "name": "python",
   "nbconvert_exporter": "python",
   "pygments_lexer": "ipython3",
   "version": "3.6.9"
  }
 },
 "nbformat": 4,
 "nbformat_minor": 5
}
