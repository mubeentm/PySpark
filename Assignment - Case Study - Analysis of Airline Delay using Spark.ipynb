{
 "cells": [
  {
   "cell_type": "code",
   "execution_count": 59,
   "id": "a191c750",
   "metadata": {},
   "outputs": [],
   "source": [
    "#sc.stop()"
   ]
  },
  {
   "cell_type": "code",
   "execution_count": 60,
   "id": "5827c363",
   "metadata": {},
   "outputs": [],
   "source": [
    "#spark.stop()"
   ]
  },
  {
   "cell_type": "markdown",
   "id": "f2afdf9d",
   "metadata": {},
   "source": [
    "#### a) Create a new Spark Session with new SparkConfig"
   ]
  },
  {
   "cell_type": "code",
   "execution_count": 61,
   "id": "c670a431",
   "metadata": {},
   "outputs": [],
   "source": [
    "# from pyspark import SparkContext, SparkConf\n",
    "# config = SparkConf().setAppName(\"PySparkSession\").setMaster(\"local[4]\")\n",
    "# sc = SparkContext(conf = config)"
   ]
  },
  {
   "cell_type": "code",
   "execution_count": 62,
   "id": "4c1ccb1c",
   "metadata": {},
   "outputs": [],
   "source": [
    "# from pyspark.sql import SparkSession\n",
    "# spark = SparkSession.builder.appName(\"PySparkSession\").getOrCreate()"
   ]
  },
  {
   "cell_type": "code",
   "execution_count": 63,
   "id": "86dcfd40",
   "metadata": {},
   "outputs": [
    {
     "data": {
      "text/html": [
       "\n",
       "        <div>\n",
       "            <p><b>SparkContext</b></p>\n",
       "\n",
       "            <p><a href=\"http://10.0.2.15:4040\">Spark UI</a></p>\n",
       "\n",
       "            <dl>\n",
       "              <dt>Version</dt>\n",
       "                <dd><code>v2.4.8</code></dd>\n",
       "              <dt>Master</dt>\n",
       "                <dd><code>local[4]</code></dd>\n",
       "              <dt>AppName</dt>\n",
       "                <dd><code>PySparkSession</code></dd>\n",
       "            </dl>\n",
       "        </div>\n",
       "        "
      ],
      "text/plain": [
       "<SparkContext master=local[4] appName=PySparkSession>"
      ]
     },
     "execution_count": 63,
     "metadata": {},
     "output_type": "execute_result"
    }
   ],
   "source": [
    "sc"
   ]
  },
  {
   "cell_type": "code",
   "execution_count": 64,
   "id": "3eebba4e",
   "metadata": {},
   "outputs": [
    {
     "data": {
      "text/html": [
       "\n",
       "            <div>\n",
       "                <p><b>SparkSession - hive</b></p>\n",
       "                \n",
       "        <div>\n",
       "            <p><b>SparkContext</b></p>\n",
       "\n",
       "            <p><a href=\"http://10.0.2.15:4040\">Spark UI</a></p>\n",
       "\n",
       "            <dl>\n",
       "              <dt>Version</dt>\n",
       "                <dd><code>v2.4.8</code></dd>\n",
       "              <dt>Master</dt>\n",
       "                <dd><code>local[4]</code></dd>\n",
       "              <dt>AppName</dt>\n",
       "                <dd><code>PySparkSession</code></dd>\n",
       "            </dl>\n",
       "        </div>\n",
       "        \n",
       "            </div>\n",
       "        "
      ],
      "text/plain": [
       "<pyspark.sql.session.SparkSession at 0x7f0fcb84b320>"
      ]
     },
     "execution_count": 64,
     "metadata": {},
     "output_type": "execute_result"
    }
   ],
   "source": [
    "spark"
   ]
  },
  {
   "cell_type": "markdown",
   "id": "badc2ab4",
   "metadata": {},
   "source": [
    "#### b) Create new instance of Spark SQL session and define new DataFrame using Flights_Delay.csv dataset."
   ]
  },
  {
   "cell_type": "code",
   "execution_count": 65,
   "id": "42258e6a",
   "metadata": {},
   "outputs": [],
   "source": [
    "flights_delay_df = spark.read.csv(\"file:///home/hadoop/Downloads/Flights_Delay.csv\", inferSchema=True, header = True)"
   ]
  },
  {
   "cell_type": "code",
   "execution_count": 66,
   "id": "122c7a13",
   "metadata": {
    "scrolled": true
   },
   "outputs": [
    {
     "name": "stdout",
     "output_type": "stream",
     "text": [
      "+---+----+-----+---+-----------+-------+-------------+-----------+--------------+-------------------+-------------------+--------------+---------------+--------+----------+--------------+------------+--------+--------+---------+-------+-----------------+------------+-------------+--------+---------+-------------------+----------------+--------------+-------------+-------------------+-------------+\n",
      "| ID|YEAR|MONTH|DAY|DAY_OF_WEEK|AIRLINE|FLIGHT_NUMBER|TAIL_NUMBER|ORIGIN_AIRPORT|DESTINATION_AIRPORT|SCHEDULED_DEPARTURE|DEPARTURE_TIME|DEPARTURE_DELAY|TAXI_OUT|WHEELS_OFF|SCHEDULED_TIME|ELAPSED_TIME|AIR_TIME|DISTANCE|WHEELS_ON|TAXI_IN|SCHEDULED_ARRIVAL|ARRIVAL_TIME|ARRIVAL_DELAY|DIVERTED|CANCELLED|CANCELLATION_REASON|AIR_SYSTEM_DELAY|SECURITY_DELAY|AIRLINE_DELAY|LATE_AIRCRAFT_DELAY|WEATHER_DELAY|\n",
      "+---+----+-----+---+-----------+-------+-------------+-----------+--------------+-------------------+-------------------+--------------+---------------+--------+----------+--------------+------------+--------+--------+---------+-------+-----------------+------------+-------------+--------+---------+-------------------+----------------+--------------+-------------+-------------------+-------------+\n",
      "|  0|2015|    3|  4|          3|     EV|         5170|     N842AS|           CVG|                XNA|                935|           954|             19|      16|      1010|           115|         129|     108|     562|     1058|      5|             1030|        1103|           33|       0|        0|               null|              14|             0|           19|                  0|            0|\n",
      "|  1|2015|    2|  2|          1|     MQ|         3584|     N646MQ|           DFW|                SPS|               1240|          1316|             36|      11|      1327|            50|          46|      30|     113|     1357|      5|             1330|        1402|           32|       0|        0|               null|               0|             0|           32|                  0|            0|\n",
      "|  2|2015|    1| 27|          2|     B6|          716|     N309JB|           JAX|                DCA|               1335|          1505|             90|      16|      1521|           104|         110|      91|     634|     1652|      3|             1519|        1655|           96|       0|        0|               null|               6|             0|           90|                  0|            0|\n",
      "|  3|2015|    1| 28|          3|     EV|         4289|     N14162|           COS|                IAH|               1442|          1435|             -7|      13|      1448|           139|         127|     101|     809|     1729|     13|             1801|        1742|          -19|       0|        0|               null|            null|          null|         null|               null|         null|\n",
      "|  4|2015|    2|  5|          4|     EV|         5584|     N851AS|           ATL|                AVL|               1255|          1250|             -5|      25|      1315|            48|          62|      34|     164|     1349|      3|             1343|        1352|            9|       0|        0|               null|            null|          null|         null|               null|         null|\n",
      "|  5|2015|    2| 15|          7|     UA|          712|     N438UA|           IAH|                SFO|               1535|          1554|             19|      18|      1612|           260|         237|     216|    1635|     1748|      3|             1755|        1751|           -4|       0|        0|               null|            null|          null|         null|               null|         null|\n",
      "|  6|2015|    2| 19|          4|     OO|         5166|     N746SK|           HDN|                DEN|                928|           924|             -4|      11|       935|            67|          56|      29|     141|     1004|     16|             1035|        1020|          -15|       0|        0|               null|            null|          null|         null|               null|         null|\n",
      "|  7|2015|    2| 27|          5|     DL|         1571|     N916DN|           ATL|                CAK|               2104|          2103|             -1|      20|      2123|           106|          97|      70|     528|     2233|      7|             2250|        2240|          -10|       0|        0|               null|            null|          null|         null|               null|         null|\n",
      "|  8|2015|    1| 20|          2|     WN|          518|     N405WN|           HOU|                MEM|               2140|          2150|             10|       8|      2158|            80|          79|      68|     484|     2306|      3|             2300|        2309|            9|       0|        0|               null|            null|          null|         null|               null|         null|\n",
      "|  9|2015|    2|  6|          5|     WN|          336|     N663SW|           DAL|                MAF|               1750|          1748|             -2|       7|      1755|            70|          62|      52|     319|     1847|      3|             1900|        1850|          -10|       0|        0|               null|            null|          null|         null|               null|         null|\n",
      "| 10|2015|    3|  6|          5|     UA|          321|     N455UA|           TPA|                EWR|                950|           947|             -3|      11|       958|           160|         142|     119|     997|     1157|     12|             1230|        1209|          -21|       0|        0|               null|            null|          null|         null|               null|         null|\n",
      "| 11|2015|    3|  6|          5|     F9|         1343|     N905FR|           TPA|                CLE|               1630|          1622|             -8|      13|      1635|           145|         146|     125|     927|     1840|      8|             1855|        1848|           -7|       0|        0|               null|            null|          null|         null|               null|         null|\n",
      "| 12|2015|    1| 30|          5|     WN|         2685|     N638SW|           LAS|                SJC|                620|           633|             13|      13|       646|            90|          76|      59|     386|      745|      4|              750|         749|           -1|       0|        0|               null|            null|          null|         null|               null|         null|\n",
      "| 13|2015|    1| 11|          7|     HA|          371|     N492HA|           ITO|                HNL|               1930|          2000|             30|      10|      2010|            50|          53|      36|     216|     2046|      7|             2020|        2053|           33|       0|        0|               null|               0|             0|           17|                 16|            0|\n",
      "| 14|2015|    2| 23|          1|     OO|         5416|     N927SW|           ONT|                SFO|               1733|          1727|             -6|      15|      1742|            88|          87|      68|     363|     1850|      4|             1901|        1854|           -7|       0|        0|               null|            null|          null|         null|               null|         null|\n",
      "| 15|2015|    1| 10|          6|     MQ|         3196|     N607MQ|           SAF|                DFW|               1100|          1051|             -9|       7|      1058|            95|          97|      76|     551|     1314|     14|             1335|        1328|           -7|       0|        0|               null|            null|          null|         null|               null|         null|\n",
      "| 16|2015|    1|  7|          3|     WN|          432|     N961WN|           PDX|                LAS|               1805|          1801|             -4|       7|      1808|           125|         121|     107|     763|     1955|      7|             2010|        2002|           -8|       0|        0|               null|            null|          null|         null|               null|         null|\n",
      "| 17|2015|    2| 15|          7|     AS|          350|     N557AS|           SEA|                OAK|               2120|          2119|             -1|      25|      2144|           120|         122|      91|     671|     2315|      6|             2320|        2321|            1|       0|        0|               null|            null|          null|         null|               null|         null|\n",
      "| 18|2015|    2| 24|          2|     OO|         6196|     N751SK|           ONT|                IAH|                701|           806|             65|      24|       830|           189|         180|     145|    1334|     1255|     11|             1210|        1306|           56|       0|        0|               null|               0|             0|           56|                  0|            0|\n",
      "| 19|2015|    1| 30|          5|     MQ|         3401|     N609MQ|           SHV|                DFW|               1615|          1611|             -4|       8|      1619|            60|          61|      42|     190|     1701|     11|             1715|        1712|           -3|       0|        0|               null|            null|          null|         null|               null|         null|\n",
      "+---+----+-----+---+-----------+-------+-------------+-----------+--------------+-------------------+-------------------+--------------+---------------+--------+----------+--------------+------------+--------+--------+---------+-------+-----------------+------------+-------------+--------+---------+-------------------+----------------+--------------+-------------+-------------------+-------------+\n",
      "only showing top 20 rows\n",
      "\n"
     ]
    }
   ],
   "source": [
    "flights_delay_df.show()"
   ]
  },
  {
   "cell_type": "markdown",
   "id": "2a6dc37b",
   "metadata": {},
   "source": [
    "#### c) Create table Spark HIVE table flights_table"
   ]
  },
  {
   "cell_type": "code",
   "execution_count": 67,
   "id": "f78d0883",
   "metadata": {},
   "outputs": [],
   "source": [
    "flights_delay_df.createOrReplaceTempView('flights_table')"
   ]
  },
  {
   "cell_type": "markdown",
   "id": "d0065b6c",
   "metadata": {},
   "source": [
    "#### d) Describe the table schema &amp; show top 10 rows of Dataset"
   ]
  },
  {
   "cell_type": "code",
   "execution_count": 68,
   "id": "d25ca4f7",
   "metadata": {},
   "outputs": [],
   "source": [
    "from pyspark.sql.types import *\n",
    "from pyspark.sql.functions import *"
   ]
  },
  {
   "cell_type": "code",
   "execution_count": 69,
   "id": "e0eacd3d",
   "metadata": {},
   "outputs": [
    {
     "name": "stdout",
     "output_type": "stream",
     "text": [
      "+-------------------+---------+-------+\n",
      "|           col_name|data_type|comment|\n",
      "+-------------------+---------+-------+\n",
      "|                 ID|      int|   null|\n",
      "|               YEAR|      int|   null|\n",
      "|              MONTH|      int|   null|\n",
      "|                DAY|      int|   null|\n",
      "|        DAY_OF_WEEK|      int|   null|\n",
      "|            AIRLINE|   string|   null|\n",
      "|      FLIGHT_NUMBER|      int|   null|\n",
      "|        TAIL_NUMBER|   string|   null|\n",
      "|     ORIGIN_AIRPORT|   string|   null|\n",
      "|DESTINATION_AIRPORT|   string|   null|\n",
      "|SCHEDULED_DEPARTURE|      int|   null|\n",
      "|     DEPARTURE_TIME|      int|   null|\n",
      "|    DEPARTURE_DELAY|      int|   null|\n",
      "|           TAXI_OUT|      int|   null|\n",
      "|         WHEELS_OFF|      int|   null|\n",
      "|     SCHEDULED_TIME|      int|   null|\n",
      "|       ELAPSED_TIME|      int|   null|\n",
      "|           AIR_TIME|      int|   null|\n",
      "|           DISTANCE|      int|   null|\n",
      "|          WHEELS_ON|      int|   null|\n",
      "+-------------------+---------+-------+\n",
      "only showing top 20 rows\n",
      "\n"
     ]
    }
   ],
   "source": [
    "spark.sql(\"\"\"\n",
    "desc flights_table\n",
    "\"\"\").show()"
   ]
  },
  {
   "cell_type": "code",
   "execution_count": 70,
   "id": "2e015030",
   "metadata": {
    "scrolled": true
   },
   "outputs": [
    {
     "name": "stdout",
     "output_type": "stream",
     "text": [
      "+---+----+-----+---+-----------+-------+-------------+-----------+--------------+-------------------+-------------------+--------------+---------------+--------+----------+--------------+------------+--------+--------+---------+-------+-----------------+------------+-------------+--------+---------+-------------------+----------------+--------------+-------------+-------------------+-------------+\n",
      "| ID|YEAR|MONTH|DAY|DAY_OF_WEEK|AIRLINE|FLIGHT_NUMBER|TAIL_NUMBER|ORIGIN_AIRPORT|DESTINATION_AIRPORT|SCHEDULED_DEPARTURE|DEPARTURE_TIME|DEPARTURE_DELAY|TAXI_OUT|WHEELS_OFF|SCHEDULED_TIME|ELAPSED_TIME|AIR_TIME|DISTANCE|WHEELS_ON|TAXI_IN|SCHEDULED_ARRIVAL|ARRIVAL_TIME|ARRIVAL_DELAY|DIVERTED|CANCELLED|CANCELLATION_REASON|AIR_SYSTEM_DELAY|SECURITY_DELAY|AIRLINE_DELAY|LATE_AIRCRAFT_DELAY|WEATHER_DELAY|\n",
      "+---+----+-----+---+-----------+-------+-------------+-----------+--------------+-------------------+-------------------+--------------+---------------+--------+----------+--------------+------------+--------+--------+---------+-------+-----------------+------------+-------------+--------+---------+-------------------+----------------+--------------+-------------+-------------------+-------------+\n",
      "|  0|2015|    3|  4|          3|     EV|         5170|     N842AS|           CVG|                XNA|                935|           954|             19|      16|      1010|           115|         129|     108|     562|     1058|      5|             1030|        1103|           33|       0|        0|               null|              14|             0|           19|                  0|            0|\n",
      "|  1|2015|    2|  2|          1|     MQ|         3584|     N646MQ|           DFW|                SPS|               1240|          1316|             36|      11|      1327|            50|          46|      30|     113|     1357|      5|             1330|        1402|           32|       0|        0|               null|               0|             0|           32|                  0|            0|\n",
      "|  2|2015|    1| 27|          2|     B6|          716|     N309JB|           JAX|                DCA|               1335|          1505|             90|      16|      1521|           104|         110|      91|     634|     1652|      3|             1519|        1655|           96|       0|        0|               null|               6|             0|           90|                  0|            0|\n",
      "|  3|2015|    1| 28|          3|     EV|         4289|     N14162|           COS|                IAH|               1442|          1435|             -7|      13|      1448|           139|         127|     101|     809|     1729|     13|             1801|        1742|          -19|       0|        0|               null|            null|          null|         null|               null|         null|\n",
      "|  4|2015|    2|  5|          4|     EV|         5584|     N851AS|           ATL|                AVL|               1255|          1250|             -5|      25|      1315|            48|          62|      34|     164|     1349|      3|             1343|        1352|            9|       0|        0|               null|            null|          null|         null|               null|         null|\n",
      "|  5|2015|    2| 15|          7|     UA|          712|     N438UA|           IAH|                SFO|               1535|          1554|             19|      18|      1612|           260|         237|     216|    1635|     1748|      3|             1755|        1751|           -4|       0|        0|               null|            null|          null|         null|               null|         null|\n",
      "|  6|2015|    2| 19|          4|     OO|         5166|     N746SK|           HDN|                DEN|                928|           924|             -4|      11|       935|            67|          56|      29|     141|     1004|     16|             1035|        1020|          -15|       0|        0|               null|            null|          null|         null|               null|         null|\n",
      "|  7|2015|    2| 27|          5|     DL|         1571|     N916DN|           ATL|                CAK|               2104|          2103|             -1|      20|      2123|           106|          97|      70|     528|     2233|      7|             2250|        2240|          -10|       0|        0|               null|            null|          null|         null|               null|         null|\n",
      "|  8|2015|    1| 20|          2|     WN|          518|     N405WN|           HOU|                MEM|               2140|          2150|             10|       8|      2158|            80|          79|      68|     484|     2306|      3|             2300|        2309|            9|       0|        0|               null|            null|          null|         null|               null|         null|\n",
      "|  9|2015|    2|  6|          5|     WN|          336|     N663SW|           DAL|                MAF|               1750|          1748|             -2|       7|      1755|            70|          62|      52|     319|     1847|      3|             1900|        1850|          -10|       0|        0|               null|            null|          null|         null|               null|         null|\n",
      "+---+----+-----+---+-----------+-------+-------------+-----------+--------------+-------------------+-------------------+--------------+---------------+--------+----------+--------------+------------+--------+--------+---------+-------+-----------------+------------+-------------+--------+---------+-------------------+----------------+--------------+-------------+-------------------+-------------+\n",
      "\n"
     ]
    }
   ],
   "source": [
    "spark.sql(\"\"\"\n",
    "select * from flights_table limit 10\n",
    "\"\"\").show()"
   ]
  },
  {
   "cell_type": "markdown",
   "id": "3e0882e5",
   "metadata": {},
   "source": [
    "#### e) Apply Query performance optimization techniques like – creating Partitioning DataFrame by a specific column, parquet data, caching, predicate pushdown methods etc."
   ]
  },
  {
   "cell_type": "code",
   "execution_count": 71,
   "id": "de87bd61",
   "metadata": {},
   "outputs": [
    {
     "data": {
      "text/plain": [
       "DataFrame[ID: int, YEAR: int, MONTH: int, DAY: int, DAY_OF_WEEK: int, AIRLINE: string, FLIGHT_NUMBER: int, TAIL_NUMBER: string, ORIGIN_AIRPORT: string, DESTINATION_AIRPORT: string, SCHEDULED_DEPARTURE: int, DEPARTURE_TIME: int, DEPARTURE_DELAY: int, TAXI_OUT: int, WHEELS_OFF: int, SCHEDULED_TIME: int, ELAPSED_TIME: int, AIR_TIME: int, DISTANCE: int, WHEELS_ON: int, TAXI_IN: int, SCHEDULED_ARRIVAL: int, ARRIVAL_TIME: int, ARRIVAL_DELAY: int, DIVERTED: int, CANCELLED: int, CANCELLATION_REASON: string, AIR_SYSTEM_DELAY: int, SECURITY_DELAY: int, AIRLINE_DELAY: int, LATE_AIRCRAFT_DELAY: int, WEATHER_DELAY: int]"
      ]
     },
     "execution_count": 71,
     "metadata": {},
     "output_type": "execute_result"
    }
   ],
   "source": [
    "flights_delay_df.repartition(3)"
   ]
  },
  {
   "cell_type": "code",
   "execution_count": 72,
   "id": "836091e2",
   "metadata": {},
   "outputs": [],
   "source": [
    "flights_delay_df.write.parquet(\"file:///home/hadoop/Downloads/flight/\")"
   ]
  },
  {
   "cell_type": "code",
   "execution_count": 73,
   "id": "269b1490",
   "metadata": {
    "scrolled": true
   },
   "outputs": [
    {
     "name": "stdout",
     "output_type": "stream",
     "text": [
      "+---+----+-----+---+-----------+-------+-------------+-----------+--------------+-------------------+-------------------+--------------+---------------+--------+----------+--------------+------------+--------+--------+---------+-------+-----------------+------------+-------------+--------+---------+-------------------+----------------+--------------+-------------+-------------------+-------------+\n",
      "| ID|YEAR|MONTH|DAY|DAY_OF_WEEK|AIRLINE|FLIGHT_NUMBER|TAIL_NUMBER|ORIGIN_AIRPORT|DESTINATION_AIRPORT|SCHEDULED_DEPARTURE|DEPARTURE_TIME|DEPARTURE_DELAY|TAXI_OUT|WHEELS_OFF|SCHEDULED_TIME|ELAPSED_TIME|AIR_TIME|DISTANCE|WHEELS_ON|TAXI_IN|SCHEDULED_ARRIVAL|ARRIVAL_TIME|ARRIVAL_DELAY|DIVERTED|CANCELLED|CANCELLATION_REASON|AIR_SYSTEM_DELAY|SECURITY_DELAY|AIRLINE_DELAY|LATE_AIRCRAFT_DELAY|WEATHER_DELAY|\n",
      "+---+----+-----+---+-----------+-------+-------------+-----------+--------------+-------------------+-------------------+--------------+---------------+--------+----------+--------------+------------+--------+--------+---------+-------+-----------------+------------+-------------+--------+---------+-------------------+----------------+--------------+-------------+-------------------+-------------+\n",
      "|  0|2015|    3|  4|          3|     EV|         5170|     N842AS|           CVG|                XNA|                935|           954|             19|      16|      1010|           115|         129|     108|     562|     1058|      5|             1030|        1103|           33|       0|        0|               null|              14|             0|           19|                  0|            0|\n",
      "|  1|2015|    2|  2|          1|     MQ|         3584|     N646MQ|           DFW|                SPS|               1240|          1316|             36|      11|      1327|            50|          46|      30|     113|     1357|      5|             1330|        1402|           32|       0|        0|               null|               0|             0|           32|                  0|            0|\n",
      "|  2|2015|    1| 27|          2|     B6|          716|     N309JB|           JAX|                DCA|               1335|          1505|             90|      16|      1521|           104|         110|      91|     634|     1652|      3|             1519|        1655|           96|       0|        0|               null|               6|             0|           90|                  0|            0|\n",
      "|  3|2015|    1| 28|          3|     EV|         4289|     N14162|           COS|                IAH|               1442|          1435|             -7|      13|      1448|           139|         127|     101|     809|     1729|     13|             1801|        1742|          -19|       0|        0|               null|            null|          null|         null|               null|         null|\n",
      "|  4|2015|    2|  5|          4|     EV|         5584|     N851AS|           ATL|                AVL|               1255|          1250|             -5|      25|      1315|            48|          62|      34|     164|     1349|      3|             1343|        1352|            9|       0|        0|               null|            null|          null|         null|               null|         null|\n",
      "|  5|2015|    2| 15|          7|     UA|          712|     N438UA|           IAH|                SFO|               1535|          1554|             19|      18|      1612|           260|         237|     216|    1635|     1748|      3|             1755|        1751|           -4|       0|        0|               null|            null|          null|         null|               null|         null|\n",
      "|  6|2015|    2| 19|          4|     OO|         5166|     N746SK|           HDN|                DEN|                928|           924|             -4|      11|       935|            67|          56|      29|     141|     1004|     16|             1035|        1020|          -15|       0|        0|               null|            null|          null|         null|               null|         null|\n",
      "|  7|2015|    2| 27|          5|     DL|         1571|     N916DN|           ATL|                CAK|               2104|          2103|             -1|      20|      2123|           106|          97|      70|     528|     2233|      7|             2250|        2240|          -10|       0|        0|               null|            null|          null|         null|               null|         null|\n",
      "|  8|2015|    1| 20|          2|     WN|          518|     N405WN|           HOU|                MEM|               2140|          2150|             10|       8|      2158|            80|          79|      68|     484|     2306|      3|             2300|        2309|            9|       0|        0|               null|            null|          null|         null|               null|         null|\n",
      "|  9|2015|    2|  6|          5|     WN|          336|     N663SW|           DAL|                MAF|               1750|          1748|             -2|       7|      1755|            70|          62|      52|     319|     1847|      3|             1900|        1850|          -10|       0|        0|               null|            null|          null|         null|               null|         null|\n",
      "| 10|2015|    3|  6|          5|     UA|          321|     N455UA|           TPA|                EWR|                950|           947|             -3|      11|       958|           160|         142|     119|     997|     1157|     12|             1230|        1209|          -21|       0|        0|               null|            null|          null|         null|               null|         null|\n",
      "| 11|2015|    3|  6|          5|     F9|         1343|     N905FR|           TPA|                CLE|               1630|          1622|             -8|      13|      1635|           145|         146|     125|     927|     1840|      8|             1855|        1848|           -7|       0|        0|               null|            null|          null|         null|               null|         null|\n",
      "| 12|2015|    1| 30|          5|     WN|         2685|     N638SW|           LAS|                SJC|                620|           633|             13|      13|       646|            90|          76|      59|     386|      745|      4|              750|         749|           -1|       0|        0|               null|            null|          null|         null|               null|         null|\n",
      "| 13|2015|    1| 11|          7|     HA|          371|     N492HA|           ITO|                HNL|               1930|          2000|             30|      10|      2010|            50|          53|      36|     216|     2046|      7|             2020|        2053|           33|       0|        0|               null|               0|             0|           17|                 16|            0|\n",
      "| 14|2015|    2| 23|          1|     OO|         5416|     N927SW|           ONT|                SFO|               1733|          1727|             -6|      15|      1742|            88|          87|      68|     363|     1850|      4|             1901|        1854|           -7|       0|        0|               null|            null|          null|         null|               null|         null|\n",
      "| 15|2015|    1| 10|          6|     MQ|         3196|     N607MQ|           SAF|                DFW|               1100|          1051|             -9|       7|      1058|            95|          97|      76|     551|     1314|     14|             1335|        1328|           -7|       0|        0|               null|            null|          null|         null|               null|         null|\n",
      "| 16|2015|    1|  7|          3|     WN|          432|     N961WN|           PDX|                LAS|               1805|          1801|             -4|       7|      1808|           125|         121|     107|     763|     1955|      7|             2010|        2002|           -8|       0|        0|               null|            null|          null|         null|               null|         null|\n",
      "| 17|2015|    2| 15|          7|     AS|          350|     N557AS|           SEA|                OAK|               2120|          2119|             -1|      25|      2144|           120|         122|      91|     671|     2315|      6|             2320|        2321|            1|       0|        0|               null|            null|          null|         null|               null|         null|\n",
      "| 18|2015|    2| 24|          2|     OO|         6196|     N751SK|           ONT|                IAH|                701|           806|             65|      24|       830|           189|         180|     145|    1334|     1255|     11|             1210|        1306|           56|       0|        0|               null|               0|             0|           56|                  0|            0|\n",
      "| 19|2015|    1| 30|          5|     MQ|         3401|     N609MQ|           SHV|                DFW|               1615|          1611|             -4|       8|      1619|            60|          61|      42|     190|     1701|     11|             1715|        1712|           -3|       0|        0|               null|            null|          null|         null|               null|         null|\n",
      "+---+----+-----+---+-----------+-------+-------------+-----------+--------------+-------------------+-------------------+--------------+---------------+--------+----------+--------------+------------+--------+--------+---------+-------+-----------------+------------+-------------+--------+---------+-------------------+----------------+--------------+-------------+-------------------+-------------+\n",
      "only showing top 20 rows\n",
      "\n"
     ]
    }
   ],
   "source": [
    "spark.read.parquet(\"file:///home/hadoop/Downloads/flight/\").show()"
   ]
  },
  {
   "cell_type": "code",
   "execution_count": 74,
   "id": "39f9ef54",
   "metadata": {},
   "outputs": [
    {
     "data": {
      "text/plain": [
       "DataFrame[ID: int, YEAR: int, MONTH: int, DAY: int, DAY_OF_WEEK: int, AIRLINE: string, FLIGHT_NUMBER: int, TAIL_NUMBER: string, ORIGIN_AIRPORT: string, DESTINATION_AIRPORT: string, SCHEDULED_DEPARTURE: int, DEPARTURE_TIME: int, DEPARTURE_DELAY: int, TAXI_OUT: int, WHEELS_OFF: int, SCHEDULED_TIME: int, ELAPSED_TIME: int, AIR_TIME: int, DISTANCE: int, WHEELS_ON: int, TAXI_IN: int, SCHEDULED_ARRIVAL: int, ARRIVAL_TIME: int, ARRIVAL_DELAY: int, DIVERTED: int, CANCELLED: int, CANCELLATION_REASON: string, AIR_SYSTEM_DELAY: int, SECURITY_DELAY: int, AIRLINE_DELAY: int, LATE_AIRCRAFT_DELAY: int, WEATHER_DELAY: int]"
      ]
     },
     "execution_count": 74,
     "metadata": {},
     "output_type": "execute_result"
    }
   ],
   "source": [
    "flights_delay_df.cache()"
   ]
  },
  {
   "cell_type": "code",
   "execution_count": 75,
   "id": "facbdd88",
   "metadata": {},
   "outputs": [
    {
     "data": {
      "text/plain": [
       "DataFrame[ID: int, YEAR: int, MONTH: int, DAY: int, DAY_OF_WEEK: int, AIRLINE: string, FLIGHT_NUMBER: int, TAIL_NUMBER: string, ORIGIN_AIRPORT: string, DESTINATION_AIRPORT: string, SCHEDULED_DEPARTURE: int, DEPARTURE_TIME: int, DEPARTURE_DELAY: int, TAXI_OUT: int, WHEELS_OFF: int, SCHEDULED_TIME: int, ELAPSED_TIME: int, AIR_TIME: int, DISTANCE: int, WHEELS_ON: int, TAXI_IN: int, SCHEDULED_ARRIVAL: int, ARRIVAL_TIME: int, ARRIVAL_DELAY: int, DIVERTED: int, CANCELLED: int, CANCELLATION_REASON: string, AIR_SYSTEM_DELAY: int, SECURITY_DELAY: int, AIRLINE_DELAY: int, LATE_AIRCRAFT_DELAY: int, WEATHER_DELAY: int]"
      ]
     },
     "execution_count": 75,
     "metadata": {},
     "output_type": "execute_result"
    }
   ],
   "source": [
    "#persistance of dataframe with a specific storage level\n",
    "from pyspark import StorageLevel\n",
    "flights_delay_df.persist(StorageLevel.MEMORY_AND_DISK)"
   ]
  },
  {
   "cell_type": "markdown",
   "id": "a8106f5a",
   "metadata": {},
   "source": [
    "#### Write Spark SQL queries to show following analysis with Visualization on Databricks Community Edition.\n",
    "#### f) Average arrival delay caused by airlines"
   ]
  },
  {
   "cell_type": "code",
   "execution_count": 76,
   "id": "31ed6ac0",
   "metadata": {},
   "outputs": [
    {
     "name": "stdout",
     "output_type": "stream",
     "text": [
      "+-------+---------------------+\n",
      "|airline|Average_arrival_delay|\n",
      "+-------+---------------------+\n",
      "|     F9|                47.37|\n",
      "|     B6|                42.78|\n",
      "|     MQ|                42.57|\n",
      "|     NK|                39.85|\n",
      "|     OO|                37.54|\n",
      "|     DL|                36.48|\n",
      "|     AA|                36.29|\n",
      "|     EV|                36.21|\n",
      "|     VX|                35.14|\n",
      "|     UA|                34.13|\n",
      "|     US|                29.41|\n",
      "|     WN|                27.64|\n",
      "|     AS|                24.83|\n",
      "|     HA|                16.05|\n",
      "+-------+---------------------+\n",
      "\n"
     ]
    }
   ],
   "source": [
    "spark.sql(\"\"\"\n",
    "    select \n",
    "        airline,\n",
    "        round(avg(CASE when arrival_delay> 0 then arrival_delay else NULL end),2) Average_arrival_delay \n",
    "        from flights_table\n",
    "        group by airline\n",
    "        order by Average_arrival_delay desc\n",
    "\"\"\").show()"
   ]
  },
  {
   "cell_type": "markdown",
   "id": "86ea02e6",
   "metadata": {},
   "source": [
    "#### g) Days of months with respected to average of arrival delays"
   ]
  },
  {
   "cell_type": "code",
   "execution_count": 77,
   "id": "e19add98",
   "metadata": {},
   "outputs": [
    {
     "name": "stdout",
     "output_type": "stream",
     "text": [
      "+---+---------------------+\n",
      "|day|Average_arrival_delay|\n",
      "+---+---------------------+\n",
      "|  1|                43.55|\n",
      "|  2|                37.13|\n",
      "|  3|                41.83|\n",
      "|  4|                42.05|\n",
      "|  5|                42.09|\n",
      "|  6|                39.52|\n",
      "|  7|                31.25|\n",
      "|  8|                34.96|\n",
      "|  9|                31.23|\n",
      "| 10|                24.73|\n",
      "| 11|                33.65|\n",
      "| 12|                36.25|\n",
      "| 13|                28.53|\n",
      "| 14|                27.39|\n",
      "| 15|                26.97|\n",
      "| 16|                33.15|\n",
      "| 17|                37.84|\n",
      "| 18|                27.11|\n",
      "| 19|                 24.6|\n",
      "| 20|                29.92|\n",
      "+---+---------------------+\n",
      "only showing top 20 rows\n",
      "\n"
     ]
    }
   ],
   "source": [
    "spark.sql(\"\"\"\n",
    "    select \n",
    "        day, \n",
    "        round(avg(CASE when arrival_delay> 0 then arrival_delay else NULL end),2) Average_arrival_delay \n",
    "        from flights_table \n",
    "        group by day\n",
    "        order by day\n",
    "\"\"\").show()"
   ]
  },
  {
   "cell_type": "markdown",
   "id": "c3f4b26e",
   "metadata": {},
   "source": [
    "#### h) Arrange weekdays with respect to the average arrival delays caused"
   ]
  },
  {
   "cell_type": "code",
   "execution_count": 78,
   "id": "dc98487e",
   "metadata": {},
   "outputs": [
    {
     "name": "stdout",
     "output_type": "stream",
     "text": [
      "+-----------+---------------------+\n",
      "|day_of_week|Average_arrival_delay|\n",
      "+-----------+---------------------+\n",
      "|          7|                38.42|\n",
      "|          2|                36.64|\n",
      "|          1|                36.38|\n",
      "|          6|                34.05|\n",
      "|          4|                32.85|\n",
      "|          3|                32.78|\n",
      "|          5|                31.19|\n",
      "+-----------+---------------------+\n",
      "\n"
     ]
    }
   ],
   "source": [
    "spark.sql(\"\"\"\n",
    "    select \n",
    "        day_of_week , \n",
    "        round(avg(CASE when arrival_delay> 0 then arrival_delay else NULL end),2) Average_arrival_delay \n",
    "        from flights_table \n",
    "        group by day_of_week\n",
    "        order by Average_arrival_delay desc\n",
    "\"\"\").show()"
   ]
  },
  {
   "cell_type": "markdown",
   "id": "ca96b80f",
   "metadata": {},
   "source": [
    "#### i) Arrange Days of month as per cancellations done in Descending"
   ]
  },
  {
   "cell_type": "code",
   "execution_count": 79,
   "id": "4686d38c",
   "metadata": {},
   "outputs": [
    {
     "name": "stdout",
     "output_type": "stream",
     "text": [
      "+---+-------------+\n",
      "|day|Cancellations|\n",
      "+---+-------------+\n",
      "|  1|          237|\n",
      "|  5|          215|\n",
      "|  2|          195|\n",
      "| 27|          185|\n",
      "| 26|          114|\n",
      "|  4|          113|\n",
      "| 28|           98|\n",
      "|  9|           89|\n",
      "|  3|           88|\n",
      "| 15|           83|\n",
      "| 23|           69|\n",
      "| 16|           63|\n",
      "| 25|           61|\n",
      "| 21|           61|\n",
      "|  8|           61|\n",
      "| 17|           59|\n",
      "| 24|           57|\n",
      "|  6|           53|\n",
      "| 22|           41|\n",
      "|  7|           31|\n",
      "+---+-------------+\n",
      "only showing top 20 rows\n",
      "\n"
     ]
    }
   ],
   "source": [
    "# flights_delay_df.printSchema()\n",
    "spark.sql(\"\"\"\n",
    "    select \n",
    "        day, \n",
    "        sum(case when cancelled = 1 then 1 else 0 end) Cancellations \n",
    "        from flights_table \n",
    "        group by day \n",
    "        order by cancellations desc\n",
    "\"\"\").show()"
   ]
  },
  {
   "cell_type": "markdown",
   "id": "bdd27d0c",
   "metadata": {},
   "source": [
    "#### j) Find Top 10 busiest airports with respect to day of week"
   ]
  },
  {
   "cell_type": "code",
   "execution_count": 106,
   "id": "8066ca27",
   "metadata": {},
   "outputs": [
    {
     "name": "stdout",
     "output_type": "stream",
     "text": [
      "+-----------+-------+----------+------------+\n",
      "|day_of_week|airport|flightRank|totalFlights|\n",
      "+-----------+-------+----------+------------+\n",
      "|          1|    ATL|         1|        1106|\n",
      "|          1|    ORD|         2|         844|\n",
      "|          1|    DFW|         3|         818|\n",
      "|          1|    LAX|         4|         631|\n",
      "|          1|    DEN|         5|         613|\n",
      "|          1|    IAH|         6|         494|\n",
      "|          1|    PHX|         7|         485|\n",
      "|          1|    SFO|         8|         466|\n",
      "|          1|    LAS|         9|         398|\n",
      "|          1|    MSP|        10|         382|\n",
      "|          6|    ATL|         1|         817|\n",
      "|          6|    DFW|         2|         722|\n",
      "|          6|    ORD|         3|         711|\n",
      "|          6|    DEN|         4|         514|\n",
      "|          6|    LAX|         5|         509|\n",
      "|          6|    PHX|         6|         427|\n",
      "|          6|    SFO|         7|         395|\n",
      "|          6|    LAS|         8|         373|\n",
      "|          6|    MCO|         9|         361|\n",
      "|          6|    IAH|        10|         350|\n",
      "+-----------+-------+----------+------------+\n",
      "only showing top 20 rows\n",
      "\n"
     ]
    }
   ],
   "source": [
    "spark.sql(\"\"\"\n",
    "    with flightCount AS(\n",
    "    select \n",
    "        day_of_week, \n",
    "        origin_airport airport, \n",
    "        count(*) total_count \n",
    "    from flights_table \n",
    "    group by day_of_week, origin_airport \n",
    "    UNION ALL\n",
    "    select \n",
    "        day_of_week, \n",
    "        destination_airport airport, \n",
    "        count(*) total_count\n",
    "    from flights_table\n",
    "    group by day_of_week, destination_airport\n",
    "    ),\n",
    "    totalAirports AS(\n",
    "    select \n",
    "        day_of_week, \n",
    "        airport, \n",
    "        sum(total_count) totalFlights\n",
    "    from flightCount\n",
    "    group by airport, day_of_week\n",
    "    ),\n",
    "    airportRanks AS(\n",
    "    select \n",
    "        day_of_week, \n",
    "        airport, \n",
    "        totalFlights,\n",
    "    RANK() OVER( PARTITION BY day_of_week order by totalFlights desc) AS flightRank\n",
    "    from totalAirports\n",
    "    )\n",
    "    select \n",
    "        day_of_week,\n",
    "        airport,\n",
    "        flightRank,\n",
    "        totalFlights\n",
    "        from airportRanks\n",
    "        where flightRank<=10\n",
    "        --order by day_of_week\n",
    "        \n",
    "\"\"\").show()"
   ]
  },
  {
   "cell_type": "markdown",
   "id": "917f6f1a",
   "metadata": {},
   "source": [
    "#### k) Finding airlines that make the maximum number of cancellations"
   ]
  },
  {
   "cell_type": "code",
   "execution_count": 81,
   "id": "7b5a485d",
   "metadata": {},
   "outputs": [
    {
     "name": "stdout",
     "output_type": "stream",
     "text": [
      "+-------+-----------+\n",
      "|airline|total_count|\n",
      "+-------+-----------+\n",
      "|     MQ|        414|\n",
      "|     WN|        358|\n",
      "|     EV|        312|\n",
      "|     AA|        241|\n",
      "|     DL|        177|\n",
      "|     US|        169|\n",
      "|     OO|        153|\n",
      "|     B6|        145|\n",
      "|     UA|        122|\n",
      "|     NK|         21|\n",
      "|     VX|         13|\n",
      "|     AS|         12|\n",
      "|     F9|         11|\n",
      "|     HA|          3|\n",
      "+-------+-----------+\n",
      "\n"
     ]
    }
   ],
   "source": [
    "spark.sql(\"\"\"\n",
    "    select \n",
    "        airline, \n",
    "        count(*) total_count\n",
    "        from flights_table \n",
    "        where cancelled = 1\n",
    "        group by airline\n",
    "        order by total_count desc\n",
    "\"\"\").show()"
   ]
  },
  {
   "cell_type": "markdown",
   "id": "6eb9e6d0",
   "metadata": {},
   "source": [
    "#### l) Find and order airlines in descending that make the most number of diversions"
   ]
  },
  {
   "cell_type": "code",
   "execution_count": 82,
   "id": "bb25231e",
   "metadata": {},
   "outputs": [
    {
     "name": "stdout",
     "output_type": "stream",
     "text": [
      "+-------+-----------+\n",
      "|airline|total_count|\n",
      "+-------+-----------+\n",
      "|     WN|         35|\n",
      "|     OO|         25|\n",
      "|     EV|         22|\n",
      "|     DL|         18|\n",
      "|     B6|         16|\n",
      "|     AA|         12|\n",
      "|     US|          9|\n",
      "|     UA|          8|\n",
      "|     MQ|          5|\n",
      "|     HA|          1|\n",
      "+-------+-----------+\n",
      "\n"
     ]
    }
   ],
   "source": [
    "spark.sql(\"\"\"\n",
    "    select\n",
    "        airline,\n",
    "        count(*) total_count\n",
    "        from flights_table\n",
    "        where diverted = 1\n",
    "        group by airline\n",
    "        order by total_count desc\n",
    "\"\"\").show()"
   ]
  },
  {
   "cell_type": "markdown",
   "id": "9ec4f7be",
   "metadata": {},
   "source": [
    "#### m) Finding days of month that see the most number of diversion"
   ]
  },
  {
   "cell_type": "code",
   "execution_count": 83,
   "id": "b322251f",
   "metadata": {
    "scrolled": true
   },
   "outputs": [
    {
     "name": "stdout",
     "output_type": "stream",
     "text": [
      "+---+---------------+\n",
      "|day|Total_diversion|\n",
      "+---+---------------+\n",
      "|  2|             15|\n",
      "|  1|             13|\n",
      "|  4|             12|\n",
      "|  5|             11|\n",
      "|  9|              9|\n",
      "| 14|              8|\n",
      "|  6|              7|\n",
      "|  7|              6|\n",
      "| 23|              6|\n",
      "| 11|              5|\n",
      "| 30|              5|\n",
      "|  3|              5|\n",
      "|  8|              5|\n",
      "| 18|              5|\n",
      "| 28|              4|\n",
      "| 16|              4|\n",
      "| 12|              4|\n",
      "| 20|              4|\n",
      "| 21|              4|\n",
      "| 17|              3|\n",
      "+---+---------------+\n",
      "only showing top 20 rows\n",
      "\n"
     ]
    }
   ],
   "source": [
    "spark.sql(\"\"\"\n",
    "    select \n",
    "        day,\n",
    "        sum(diverted) as Total_diversion \n",
    "        from flights_table\n",
    "        group by day \n",
    "        order by Total_diversion desc\n",
    "\"\"\").show()"
   ]
  },
  {
   "cell_type": "code",
   "execution_count": 84,
   "id": "3f0b25a9",
   "metadata": {},
   "outputs": [
    {
     "name": "stdout",
     "output_type": "stream",
     "text": [
      "+-----+---+-----------+\n",
      "|month|day|total_count|\n",
      "+-----+---+-----------+\n",
      "|    2|  2|          9|\n",
      "|    3|  1|          7|\n",
      "|    2| 14|          7|\n",
      "|    3|  5|          7|\n",
      "|    3|  2|          6|\n",
      "|    3|  4|          6|\n",
      "|    1| 30|          5|\n",
      "|    2| 23|          5|\n",
      "|    1|  7|          5|\n",
      "|    2|  1|          5|\n",
      "|    1| 11|          5|\n",
      "|    1| 18|          5|\n",
      "|    1|  8|          4|\n",
      "|    2|  9|          4|\n",
      "|    2| 21|          4|\n",
      "|    2|  5|          3|\n",
      "|    2| 26|          3|\n",
      "|    2| 28|          3|\n",
      "|    2|  4|          3|\n",
      "|    1|  9|          3|\n",
      "+-----+---+-----------+\n",
      "only showing top 20 rows\n",
      "\n"
     ]
    }
   ],
   "source": [
    "spark.sql(\"\"\"\n",
    "select month, day , count(*) total_count from flights_table \n",
    "    where diverted = 1 \n",
    "    group by  month, day order by count(*) desc\n",
    "\"\"\").show()"
   ]
  },
  {
   "cell_type": "markdown",
   "id": "a4a1a966",
   "metadata": {},
   "source": [
    "#### n) Calculating mean and standard deviation of departure delay for all flights in minutes"
   ]
  },
  {
   "cell_type": "code",
   "execution_count": 85,
   "id": "0e429a89",
   "metadata": {},
   "outputs": [
    {
     "name": "stdout",
     "output_type": "stream",
     "text": [
      "+--------------------+-----------------------+\n",
      "|Mean_departure_delay|STD_Dev_departure_delay|\n",
      "+--------------------+-----------------------+\n",
      "|              11.329|                 39.621|\n",
      "+--------------------+-----------------------+\n",
      "\n"
     ]
    }
   ],
   "source": [
    "spark.sql(\"\"\"\n",
    "    select \n",
    "        round(mean(departure_delay),3) Mean_departure_delay, \n",
    "        round(stddev(departure_delay),3) STD_Dev_departure_delay \n",
    "        from flights_table\n",
    "\"\"\").show()"
   ]
  },
  {
   "cell_type": "markdown",
   "id": "dfcd2d5d",
   "metadata": {},
   "source": [
    "#### o) Calculating mean and standard deviation of arrival delay for all flights in minutes"
   ]
  },
  {
   "cell_type": "code",
   "execution_count": 86,
   "id": "d3c33ca9",
   "metadata": {},
   "outputs": [
    {
     "name": "stdout",
     "output_type": "stream",
     "text": [
      "+------------------+---------------------+\n",
      "|Mean_arrival_delay|STD_Dev_arrival_delay|\n",
      "+------------------+---------------------+\n",
      "|             7.545|               42.378|\n",
      "+------------------+---------------------+\n",
      "\n"
     ]
    }
   ],
   "source": [
    "spark.sql(\"\"\"\n",
    "    select \n",
    "        round(mean(arrival_delay),3) Mean_arrival_delay, \n",
    "        round(stddev(arrival_delay),3) STD_Dev_arrival_delay \n",
    "        from flights_table\n",
    "\"\"\").show()"
   ]
  },
  {
   "cell_type": "markdown",
   "id": "04ac8c3c",
   "metadata": {},
   "source": [
    "#### p) Finding all diverted Route from a source to destination Airport &amp; which route is the most diverted"
   ]
  },
  {
   "cell_type": "code",
   "execution_count": 87,
   "id": "965140af",
   "metadata": {},
   "outputs": [
    {
     "name": "stdout",
     "output_type": "stream",
     "text": [
      "+--------------+-------------------+--------------+\n",
      "|ORIGIN_AIRPORT|DESTINATION_AIRPORT|diverted_count|\n",
      "+--------------+-------------------+--------------+\n",
      "|           HOU|                DAL|             2|\n",
      "|           PHL|                SAN|             2|\n",
      "|           STT|                PHL|             2|\n",
      "|           TPA|                LGA|             2|\n",
      "|           IAH|                ASE|             2|\n",
      "|           JFK|                EGE|             2|\n",
      "|           JFK|                SEA|             2|\n",
      "|           ORD|                ASE|             2|\n",
      "|           CLT|                IAH|             2|\n",
      "|           KOA|                SFO|             1|\n",
      "|           SNA|                SFO|             1|\n",
      "|           FLL|                PVD|             1|\n",
      "|           ATL|                LGA|             1|\n",
      "|           FLL|                BWI|             1|\n",
      "|           BOS|                LAS|             1|\n",
      "|           ASE|                LAX|             1|\n",
      "|           IAH|                ISN|             1|\n",
      "|           LAX|                ASE|             1|\n",
      "|           ATL|                GTR|             1|\n",
      "|           MCO|                BWI|             1|\n",
      "+--------------+-------------------+--------------+\n",
      "only showing top 20 rows\n",
      "\n"
     ]
    }
   ],
   "source": [
    "spark.sql(\"\"\"\n",
    "    select \n",
    "        ORIGIN_AIRPORT, \n",
    "        DESTINATION_AIRPORT, \n",
    "        COUNT(*) as diverted_count \n",
    "        from flights_table \n",
    "        where DIVERTED = 1 \n",
    "        group by ORIGIN_AIRPORT, DESTINATION_AIRPORT \n",
    "        ORDER BY diverted_count DESC\n",
    "\"\"\").show()"
   ]
  },
  {
   "cell_type": "markdown",
   "id": "02a7affe",
   "metadata": {},
   "source": [
    "#### q) Finding AIRLINES with its total flight count, total number of flights arrival delayed by more than 30 Minutes, % of such flights delayed by more than 30 minutes when it is not Weekends with minimum count of flights from Airlines by more than 10. Also Exclude some of Airlines &#39;AK&#39;, &#39;HI&#39;, &#39;PR&#39;, &#39;VI&#39; and arrange output in descending order by % of such count of flights."
   ]
  },
  {
   "cell_type": "code",
   "execution_count": 88,
   "id": "f700c931",
   "metadata": {},
   "outputs": [
    {
     "name": "stdout",
     "output_type": "stream",
     "text": [
      "+-------+-------------+-------------+---------------------------------+----------------+\n",
      "|airline|total_flights|flight_delays|delayed_flight_excluding_weekends|Percentage_delay|\n",
      "+-------+-------------+-------------+---------------------------------+----------------+\n",
      "|     F9|          794|          198|                              139|           17.51|\n",
      "|     MQ|         3502|          775|                              601|           17.16|\n",
      "|     B6|         2548|          485|                              360|           14.13|\n",
      "|     NK|         1048|          186|                              139|           13.26|\n",
      "|     EV|         5916|          874|                              665|           11.24|\n",
      "|     OO|         5708|          859|                              633|           11.09|\n",
      "|     UA|         4701|          653|                              497|           10.57|\n",
      "|     AA|         5250|          700|                              484|            9.22|\n",
      "|     VX|          573|           67|                               47|             8.2|\n",
      "|     US|         3925|          452|                              310|             7.9|\n",
      "|     DL|         7989|          746|                              592|            7.41|\n",
      "|     WN|        11738|         1235|                              869|             7.4|\n",
      "|     AS|         1586|          100|                               64|            4.04|\n",
      "|     HA|          722|           38|                               23|            3.19|\n",
      "+-------+-------------+-------------+---------------------------------+----------------+\n",
      "\n"
     ]
    }
   ],
   "source": [
    "spark.sql(\"\"\"\n",
    "    SELECT \n",
    "        airline,\n",
    "        count(*) total_flights,\n",
    "        SUM(CASE WHEN arrival_delay > 30 THEN 1 ELSE 0 END) AS flight_delays,\n",
    "        SUM(CASE WHEN arrival_delay > 30 AND day_of_week NOT IN (6, 7) THEN 1 ELSE 0 END) AS delayed_flight_excluding_weekends, \n",
    "        round((SUM(CASE WHEN arrival_delay > 30 AND day_of_week NOT IN (6, 7) THEN 1 ELSE 0 END) / COUNT(*)) * 100,2) AS Percentage_delay\n",
    "        FROM flights_table WHERE airline NOT IN ('AK', 'HI', 'PR', 'VI') \n",
    "        GROUP BY airline\n",
    "        HAVING total_flights > 10\n",
    "        ORDER BY percentage_delay DESC\n",
    "\"\"\").show()"
   ]
  },
  {
   "cell_type": "markdown",
   "id": "3f75558a",
   "metadata": {},
   "source": [
    "#### r) Finding AIRLINES with its total flight count with total number of flights departure delayed by less than 30 Minutes, % of such flights delayed by less than 30 minutes when it is Weekends with minimum count of flights from Airlines by more than 10. Also Exclude some of Airlines &#39;AK&#39;, &#39;HI&#39;, &#39;PR&#39;, &#39;VI&#39; and arrange output in descending order by % of such count of flights."
   ]
  },
  {
   "cell_type": "code",
   "execution_count": 89,
   "id": "92efd43d",
   "metadata": {},
   "outputs": [
    {
     "name": "stdout",
     "output_type": "stream",
     "text": [
      "+-------+-------------+-------------------+---------------------------------------+--------------------------+\n",
      "|airline|total_flights|low_departure_delay|weekend_flight_with_low_departure_delay|Percentage_departure_delay|\n",
      "+-------+-------------+-------------------+---------------------------------------+--------------------------+\n",
      "|     AS|         1586|               1468|                                    412|                     25.98|\n",
      "|     HA|          722|                692|                                    179|                     24.79|\n",
      "|     NK|         1048|                839|                                    253|                     24.14|\n",
      "|     AA|         5250|               4342|                                   1214|                     23.12|\n",
      "|     DL|         7989|               7010|                                   1814|                     22.71|\n",
      "|     VX|          573|                490|                                    129|                     22.51|\n",
      "|     WN|        11738|               9945|                                   2636|                     22.46|\n",
      "|     US|         3925|               3356|                                    867|                     22.09|\n",
      "|     OO|         5708|               4736|                                   1244|                     21.79|\n",
      "|     B6|         2548|               1947|                                    543|                     21.31|\n",
      "|     EV|         5916|               4819|                                   1203|                     20.33|\n",
      "|     UA|         4701|               3903|                                    950|                     20.21|\n",
      "|     MQ|         3502|               2443|                                    622|                     17.76|\n",
      "|     F9|          794|                585|                                    133|                     16.75|\n",
      "+-------+-------------+-------------------+---------------------------------------+--------------------------+\n",
      "\n"
     ]
    }
   ],
   "source": [
    "spark.sql(\"\"\"\n",
    "select \n",
    "    airline,\n",
    "    count(*) total_flights,\n",
    "    SUM(CASE WHEN departure_delay < 30 THEN 1 ELSE 0 END) AS low_departure_delay,\n",
    "    SUM(CASE WHEN departure_delay < 30 AND day_of_week IN (6, 7) THEN 1 ELSE 0 END) AS weekend_flight_with_low_departure_delay,\n",
    "    round((SUM(CASE WHEN departure_delay < 30 AND DAY_OF_WEEK IN (6, 7) THEN 1 ELSE 0 END) / count(*)) * 100,2)  Percentage_departure_delay\n",
    "    FROM flights_table\n",
    "    WHERE airline NOT IN ('AK', 'HI', 'PR', 'VI')\n",
    "    GROUP BY airline\n",
    "    HAVING total_flights > 10\n",
    "    ORDER BY Percentage_departure_delay DESC\"\"\").show()"
   ]
  },
  {
   "cell_type": "markdown",
   "id": "765e6a4b",
   "metadata": {},
   "source": [
    "#### s) When is the best time of day/day of week/time of a year to fly with minimum delays?"
   ]
  },
  {
   "cell_type": "code",
   "execution_count": 90,
   "id": "645d8698",
   "metadata": {},
   "outputs": [
    {
     "name": "stdout",
     "output_type": "stream",
     "text": [
      "+----------------------+------------------+------------------+\n",
      "|SCHEDULED_DEPARTURE_HR|     avg_dep_delay|     avg_arr_delay|\n",
      "+----------------------+------------------+------------------+\n",
      "|                     2|             13.75|              11.0|\n",
      "|                     4|20.333333333333332|              15.0|\n",
      "|                     0|              27.8|23.606060606060606|\n",
      "|                    22| 30.91695501730104|31.971119133574007|\n",
      "|                     5| 30.97902097902098|30.914141414141415|\n",
      "|                    11|31.459610027855152| 33.02514367816092|\n",
      "|                    13| 31.47463768115942| 32.56007509386733|\n",
      "|                     7|31.937923250564335| 29.16142735768904|\n",
      "|                    10|  32.0852314474651|32.733853797019165|\n",
      "|                    16|            32.515|34.525513585155736|\n",
      "|                     9|33.173761946133794|32.386656557998485|\n",
      "|                    23| 33.55797101449275| 30.81203007518797|\n",
      "|                    14|33.801867911941294| 35.57083042568039|\n",
      "|                     3|              34.0|              51.4|\n",
      "|                    12| 34.24120234604106| 34.89728096676737|\n",
      "|                     8| 34.25353283458021| 33.96315028901734|\n",
      "|                    15| 34.75278810408922| 37.62823061630219|\n",
      "|                    17| 35.29085140137494| 38.11011235955056|\n",
      "|                    19| 35.48476992871031|  36.2907133243607|\n",
      "|                    21|35.525916561314794| 36.87735849056604|\n",
      "+----------------------+------------------+------------------+\n",
      "only showing top 20 rows\n",
      "\n"
     ]
    }
   ],
   "source": [
    "from pyspark.sql.functions import *\n",
    "\n",
    "# corresponding hours\n",
    "\n",
    "new_flight_df = flights_delay_df.withColumn(\"SCHEDULED_DEPARTURE_HR\",\\\n",
    "(flights_delay_df[\"SCHEDULED_DEPARTURE\"]/100 ).cast(\"int\"))\\\n",
    ".withColumn(\"SCHEDULED_ARRIVAL_HR\",(flights_delay_df[\"SCHEDULED_ARRIVAL\"]/100 ).cast(\"int\"))\n",
    "\n",
    "# average departure and arrival delay by hour of the day\n",
    "\n",
    "new_flight_df.groupBy(\"SCHEDULED_DEPARTURE_HR\")\\\n",
    ".agg(avg(when(col(\"DEPARTURE_DELAY\") > 0, col(\"DEPARTURE_DELAY\"))).alias(\"avg_dep_delay\"),\\\n",
    "avg(when(col(\"ARRIVAL_DELAY\") > 0,col(\"ARRIVAL_DELAY\"))).alias(\"avg_arr_delay\")\\\n",
    ").orderBy(\"avg_dep_delay\",\"avg_arr_delay\").show()\n",
    "\n",
    "\n"
   ]
  },
  {
   "cell_type": "markdown",
   "id": "85903142",
   "metadata": {},
   "source": [
    "#### t) Which airlines are best airline to travel considering number of cancellations, arrival, departure delays and all reasons affecting performance of airline industry."
   ]
  },
  {
   "cell_type": "code",
   "execution_count": 91,
   "id": "5787f88a",
   "metadata": {},
   "outputs": [
    {
     "name": "stdout",
     "output_type": "stream",
     "text": [
      "+-------+-------------+------------------+-----------------------+---------------------+------------------------+----------------------+---------------------+---------------------------+---------------------+\n",
      "|airline|total_flights|total_cancellation|average_departure_delay|average_arrival_delay|average_air_system_delay|average_security_delay|average_airline_delay|average_late_aircraft_delay|average_weather_delay|\n",
      "+-------+-------------+------------------+-----------------------+---------------------+------------------------+----------------------+---------------------+---------------------------+---------------------+\n",
      "|     HA|          722|                 3|                  18.34|                16.05|                    10.0|                  null|                28.69|                      24.61|                15.86|\n",
      "|     WN|        11738|               358|                  25.84|                27.64|                   16.54|                  44.5|                22.86|                      33.78|                64.75|\n",
      "|     UA|         4701|               122|                  28.14|                34.13|                   25.91|                  null|                 30.9|                      44.02|                38.42|\n",
      "|     AS|         1586|                12|                   28.5|                24.83|                   20.57|                  27.5|                36.19|                      57.73|                84.73|\n",
      "|     US|         3925|               169|                  30.17|                29.41|                   24.36|                 28.89|                31.61|                      39.85|                29.91|\n",
      "+-------+-------------+------------------+-----------------------+---------------------+------------------------+----------------------+---------------------+---------------------------+---------------------+\n",
      "\n"
     ]
    }
   ],
   "source": [
    "spark.sql(\"\"\"\n",
    "SELECT\n",
    "    airline,\n",
    "    count(*) total_flights,\n",
    "    SUM(cancelled) total_cancellation,\n",
    "    round(AVG(CASE WHEN departure_delay > 0 THEN departure_delay ELSE NULL END),2) average_departure_delay,\n",
    "    round(AVG(CASE WHEN arrival_delay > 0 THEN arrival_delay ELSE NULL END),2) average_arrival_delay,\n",
    "    round(AVG(CASE WHEN air_system_delay > 0 THEN air_system_delay ELSE NULL END),2) average_air_system_delay,\n",
    "    round(AVG(CASE WHEN security_delay > 0 THEN security_delay ELSE NULL END),2) average_security_delay,\n",
    "    rounD(AVG(CASE WHEN airline_delay > 0 THEN airline_delay ELSE NULL END),2) average_airline_delay,\n",
    "    round(AVG(CASE WHEN late_aircraft_delay > 0 THEN late_aircraft_delay ELSE NULL END),2) average_late_aircraft_delay,\n",
    "    round(AVG(CASE WHEN weather_delay > 0 THEN weathEr_delay ELSE NULL END),2) average_weather_delay\n",
    "    FROM flights_table\n",
    "    GROUP BY airline\n",
    "    order by average_departure_delay, average_arrival_delay , average_air_system_delay, average_security_delay, \n",
    "        average_airline_delay, average_late_aircraft_delay, average_weather_delay, total_cancellation\n",
    "    limit 5\n",
    "\"\"\").show()\n"
   ]
  },
  {
   "cell_type": "code",
   "execution_count": null,
   "id": "1e547955",
   "metadata": {},
   "outputs": [],
   "source": []
  }
 ],
 "metadata": {
  "kernelspec": {
   "display_name": "Python 3",
   "language": "python",
   "name": "python3"
  },
  "language_info": {
   "codemirror_mode": {
    "name": "ipython",
    "version": 3
   },
   "file_extension": ".py",
   "mimetype": "text/x-python",
   "name": "python",
   "nbconvert_exporter": "python",
   "pygments_lexer": "ipython3",
   "version": "3.6.9"
  }
 },
 "nbformat": 4,
 "nbformat_minor": 5
}
