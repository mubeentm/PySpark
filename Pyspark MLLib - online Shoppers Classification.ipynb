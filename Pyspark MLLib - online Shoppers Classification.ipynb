{
 "cells": [
  {
   "cell_type": "code",
   "execution_count": 155,
   "id": "bc44c51a",
   "metadata": {},
   "outputs": [],
   "source": [
    "sc.stop()"
   ]
  },
  {
   "cell_type": "code",
   "execution_count": 156,
   "id": "e893fb1d",
   "metadata": {},
   "outputs": [],
   "source": [
    "from pyspark import SparkContext, SparkConf\n",
    "config = SparkConf().setAppName(\"PysparkSession\").setMaster(\"local[4]\")\n",
    "sc = SparkContext(conf = config)"
   ]
  },
  {
   "cell_type": "code",
   "execution_count": 157,
   "id": "a950c094",
   "metadata": {},
   "outputs": [],
   "source": [
    "# spark session ()- \n",
    "from pyspark.sql import SparkSession\n",
    "spark = SparkSession.builder.appName(\"PysparkSession\").getOrCreate()"
   ]
  },
  {
   "cell_type": "code",
   "execution_count": 158,
   "id": "88c29f8d",
   "metadata": {},
   "outputs": [
    {
     "data": {
      "text/html": [
       "\n",
       "        <div>\n",
       "            <p><b>SparkContext</b></p>\n",
       "\n",
       "            <p><a href=\"http://10.0.2.15:4040\">Spark UI</a></p>\n",
       "\n",
       "            <dl>\n",
       "              <dt>Version</dt>\n",
       "                <dd><code>v2.4.8</code></dd>\n",
       "              <dt>Master</dt>\n",
       "                <dd><code>local[4]</code></dd>\n",
       "              <dt>AppName</dt>\n",
       "                <dd><code>PysparkSession</code></dd>\n",
       "            </dl>\n",
       "        </div>\n",
       "        "
      ],
      "text/plain": [
       "<SparkContext master=local[4] appName=PysparkSession>"
      ]
     },
     "execution_count": 158,
     "metadata": {},
     "output_type": "execute_result"
    }
   ],
   "source": [
    "sc"
   ]
  },
  {
   "cell_type": "code",
   "execution_count": 159,
   "id": "796c56b9",
   "metadata": {},
   "outputs": [
    {
     "data": {
      "text/html": [
       "\n",
       "            <div>\n",
       "                <p><b>SparkSession - hive</b></p>\n",
       "                \n",
       "        <div>\n",
       "            <p><b>SparkContext</b></p>\n",
       "\n",
       "            <p><a href=\"http://10.0.2.15:4040\">Spark UI</a></p>\n",
       "\n",
       "            <dl>\n",
       "              <dt>Version</dt>\n",
       "                <dd><code>v2.4.8</code></dd>\n",
       "              <dt>Master</dt>\n",
       "                <dd><code>local[4]</code></dd>\n",
       "              <dt>AppName</dt>\n",
       "                <dd><code>PysparkSession</code></dd>\n",
       "            </dl>\n",
       "        </div>\n",
       "        \n",
       "            </div>\n",
       "        "
      ],
      "text/plain": [
       "<pyspark.sql.session.SparkSession at 0x7f930c2c55f8>"
      ]
     },
     "execution_count": 159,
     "metadata": {},
     "output_type": "execute_result"
    }
   ],
   "source": [
    "spark"
   ]
  },
  {
   "cell_type": "markdown",
   "id": "b2923bd4",
   "metadata": {},
   "source": [
    "#### Problem statement : We have provided with online e-commerce website dataset with various input features -like duration, product related duration,region, month bonus rates etc \n",
    "* Target : Revenue (yes/no)"
   ]
  },
  {
   "cell_type": "code",
   "execution_count": 160,
   "id": "6a092db2",
   "metadata": {},
   "outputs": [],
   "source": [
    "from pyspark.sql.functions import *"
   ]
  },
  {
   "cell_type": "markdown",
   "id": "bf00c64f",
   "metadata": {},
   "source": [
    "#### 1.Read Dataset"
   ]
  },
  {
   "cell_type": "code",
   "execution_count": 3,
   "id": "713c48a7",
   "metadata": {},
   "outputs": [
    {
     "ename": "KeyboardInterrupt",
     "evalue": "",
     "output_type": "error",
     "traceback": [
      "\u001b[0;31m---------------------------------------------------------------------------\u001b[0m",
      "\u001b[0;31mKeyboardInterrupt\u001b[0m                         Traceback (most recent call last)",
      "\u001b[0;32m<ipython-input-3-a81fe22c7301>\u001b[0m in \u001b[0;36m<module>\u001b[0;34m\u001b[0m\n\u001b[0;32m----> 1\u001b[0;31m \u001b[0monline_shopper\u001b[0m \u001b[0;34m=\u001b[0m \u001b[0mspark\u001b[0m\u001b[0;34m.\u001b[0m\u001b[0mread\u001b[0m\u001b[0;34m.\u001b[0m\u001b[0mcsv\u001b[0m\u001b[0;34m(\u001b[0m\u001b[0;34m\"file:///home/hadoop/Downloads/Online Shoppers Intention.csv\"\u001b[0m\u001b[0;34m,\u001b[0m \u001b[0minferSchema\u001b[0m\u001b[0;34m=\u001b[0m\u001b[0;32mTrue\u001b[0m\u001b[0;34m,\u001b[0m \u001b[0mheader\u001b[0m\u001b[0;34m=\u001b[0m\u001b[0;32mTrue\u001b[0m\u001b[0;34m)\u001b[0m\u001b[0;34m\u001b[0m\u001b[0;34m\u001b[0m\u001b[0m\n\u001b[0m\u001b[1;32m      2\u001b[0m \u001b[0monline_shopper\u001b[0m\u001b[0;34m.\u001b[0m\u001b[0mhead\u001b[0m\u001b[0;34m(\u001b[0m\u001b[0;34m)\u001b[0m\u001b[0;34m\u001b[0m\u001b[0;34m\u001b[0m\u001b[0m\n",
      "\u001b[0;32m/usr/local/spark/python/pyspark/sql/readwriter.py\u001b[0m in \u001b[0;36mcsv\u001b[0;34m(self, path, schema, sep, encoding, quote, escape, comment, header, inferSchema, ignoreLeadingWhiteSpace, ignoreTrailingWhiteSpace, nullValue, nanValue, positiveInf, negativeInf, dateFormat, timestampFormat, maxColumns, maxCharsPerColumn, maxMalformedLogPerPartition, mode, columnNameOfCorruptRecord, multiLine, charToEscapeQuoteEscaping, samplingRatio, enforceSchema, emptyValue)\u001b[0m\n\u001b[1;32m    477\u001b[0m             \u001b[0mpath\u001b[0m \u001b[0;34m=\u001b[0m \u001b[0;34m[\u001b[0m\u001b[0mpath\u001b[0m\u001b[0;34m]\u001b[0m\u001b[0;34m\u001b[0m\u001b[0;34m\u001b[0m\u001b[0m\n\u001b[1;32m    478\u001b[0m         \u001b[0;32mif\u001b[0m \u001b[0mtype\u001b[0m\u001b[0;34m(\u001b[0m\u001b[0mpath\u001b[0m\u001b[0;34m)\u001b[0m \u001b[0;34m==\u001b[0m \u001b[0mlist\u001b[0m\u001b[0;34m:\u001b[0m\u001b[0;34m\u001b[0m\u001b[0;34m\u001b[0m\u001b[0m\n\u001b[0;32m--> 479\u001b[0;31m             \u001b[0;32mreturn\u001b[0m \u001b[0mself\u001b[0m\u001b[0;34m.\u001b[0m\u001b[0m_df\u001b[0m\u001b[0;34m(\u001b[0m\u001b[0mself\u001b[0m\u001b[0;34m.\u001b[0m\u001b[0m_jreader\u001b[0m\u001b[0;34m.\u001b[0m\u001b[0mcsv\u001b[0m\u001b[0;34m(\u001b[0m\u001b[0mself\u001b[0m\u001b[0;34m.\u001b[0m\u001b[0m_spark\u001b[0m\u001b[0;34m.\u001b[0m\u001b[0m_sc\u001b[0m\u001b[0;34m.\u001b[0m\u001b[0m_jvm\u001b[0m\u001b[0;34m.\u001b[0m\u001b[0mPythonUtils\u001b[0m\u001b[0;34m.\u001b[0m\u001b[0mtoSeq\u001b[0m\u001b[0;34m(\u001b[0m\u001b[0mpath\u001b[0m\u001b[0;34m)\u001b[0m\u001b[0;34m)\u001b[0m\u001b[0;34m)\u001b[0m\u001b[0;34m\u001b[0m\u001b[0;34m\u001b[0m\u001b[0m\n\u001b[0m\u001b[1;32m    480\u001b[0m         \u001b[0;32melif\u001b[0m \u001b[0misinstance\u001b[0m\u001b[0;34m(\u001b[0m\u001b[0mpath\u001b[0m\u001b[0;34m,\u001b[0m \u001b[0mRDD\u001b[0m\u001b[0;34m)\u001b[0m\u001b[0;34m:\u001b[0m\u001b[0;34m\u001b[0m\u001b[0;34m\u001b[0m\u001b[0m\n\u001b[1;32m    481\u001b[0m             \u001b[0;32mdef\u001b[0m \u001b[0mfunc\u001b[0m\u001b[0;34m(\u001b[0m\u001b[0miterator\u001b[0m\u001b[0;34m)\u001b[0m\u001b[0;34m:\u001b[0m\u001b[0;34m\u001b[0m\u001b[0;34m\u001b[0m\u001b[0m\n",
      "\u001b[0;32m/usr/local/spark/python/lib/py4j-0.10.7-src.zip/py4j/java_gateway.py\u001b[0m in \u001b[0;36m__call__\u001b[0;34m(self, *args)\u001b[0m\n\u001b[1;32m   1253\u001b[0m             \u001b[0mproto\u001b[0m\u001b[0;34m.\u001b[0m\u001b[0mEND_COMMAND_PART\u001b[0m\u001b[0;34m\u001b[0m\u001b[0;34m\u001b[0m\u001b[0m\n\u001b[1;32m   1254\u001b[0m \u001b[0;34m\u001b[0m\u001b[0m\n\u001b[0;32m-> 1255\u001b[0;31m         \u001b[0manswer\u001b[0m \u001b[0;34m=\u001b[0m \u001b[0mself\u001b[0m\u001b[0;34m.\u001b[0m\u001b[0mgateway_client\u001b[0m\u001b[0;34m.\u001b[0m\u001b[0msend_command\u001b[0m\u001b[0;34m(\u001b[0m\u001b[0mcommand\u001b[0m\u001b[0;34m)\u001b[0m\u001b[0;34m\u001b[0m\u001b[0;34m\u001b[0m\u001b[0m\n\u001b[0m\u001b[1;32m   1256\u001b[0m         return_value = get_return_value(\n\u001b[1;32m   1257\u001b[0m             answer, self.gateway_client, self.target_id, self.name)\n",
      "\u001b[0;32m/usr/local/spark/python/lib/py4j-0.10.7-src.zip/py4j/java_gateway.py\u001b[0m in \u001b[0;36msend_command\u001b[0;34m(self, command, retry, binary)\u001b[0m\n\u001b[1;32m    983\u001b[0m         \u001b[0mconnection\u001b[0m \u001b[0;34m=\u001b[0m \u001b[0mself\u001b[0m\u001b[0;34m.\u001b[0m\u001b[0m_get_connection\u001b[0m\u001b[0;34m(\u001b[0m\u001b[0;34m)\u001b[0m\u001b[0;34m\u001b[0m\u001b[0;34m\u001b[0m\u001b[0m\n\u001b[1;32m    984\u001b[0m         \u001b[0;32mtry\u001b[0m\u001b[0;34m:\u001b[0m\u001b[0;34m\u001b[0m\u001b[0;34m\u001b[0m\u001b[0m\n\u001b[0;32m--> 985\u001b[0;31m             \u001b[0mresponse\u001b[0m \u001b[0;34m=\u001b[0m \u001b[0mconnection\u001b[0m\u001b[0;34m.\u001b[0m\u001b[0msend_command\u001b[0m\u001b[0;34m(\u001b[0m\u001b[0mcommand\u001b[0m\u001b[0;34m)\u001b[0m\u001b[0;34m\u001b[0m\u001b[0;34m\u001b[0m\u001b[0m\n\u001b[0m\u001b[1;32m    986\u001b[0m             \u001b[0;32mif\u001b[0m \u001b[0mbinary\u001b[0m\u001b[0;34m:\u001b[0m\u001b[0;34m\u001b[0m\u001b[0;34m\u001b[0m\u001b[0m\n\u001b[1;32m    987\u001b[0m                 \u001b[0;32mreturn\u001b[0m \u001b[0mresponse\u001b[0m\u001b[0;34m,\u001b[0m \u001b[0mself\u001b[0m\u001b[0;34m.\u001b[0m\u001b[0m_create_connection_guard\u001b[0m\u001b[0;34m(\u001b[0m\u001b[0mconnection\u001b[0m\u001b[0;34m)\u001b[0m\u001b[0;34m\u001b[0m\u001b[0;34m\u001b[0m\u001b[0m\n",
      "\u001b[0;32m/usr/local/spark/python/lib/py4j-0.10.7-src.zip/py4j/java_gateway.py\u001b[0m in \u001b[0;36msend_command\u001b[0;34m(self, command)\u001b[0m\n\u001b[1;32m   1150\u001b[0m \u001b[0;34m\u001b[0m\u001b[0m\n\u001b[1;32m   1151\u001b[0m         \u001b[0;32mtry\u001b[0m\u001b[0;34m:\u001b[0m\u001b[0;34m\u001b[0m\u001b[0;34m\u001b[0m\u001b[0m\n\u001b[0;32m-> 1152\u001b[0;31m             \u001b[0manswer\u001b[0m \u001b[0;34m=\u001b[0m \u001b[0msmart_decode\u001b[0m\u001b[0;34m(\u001b[0m\u001b[0mself\u001b[0m\u001b[0;34m.\u001b[0m\u001b[0mstream\u001b[0m\u001b[0;34m.\u001b[0m\u001b[0mreadline\u001b[0m\u001b[0;34m(\u001b[0m\u001b[0;34m)\u001b[0m\u001b[0;34m[\u001b[0m\u001b[0;34m:\u001b[0m\u001b[0;34m-\u001b[0m\u001b[0;36m1\u001b[0m\u001b[0;34m]\u001b[0m\u001b[0;34m)\u001b[0m\u001b[0;34m\u001b[0m\u001b[0;34m\u001b[0m\u001b[0m\n\u001b[0m\u001b[1;32m   1153\u001b[0m             \u001b[0mlogger\u001b[0m\u001b[0;34m.\u001b[0m\u001b[0mdebug\u001b[0m\u001b[0;34m(\u001b[0m\u001b[0;34m\"Answer received: {0}\"\u001b[0m\u001b[0;34m.\u001b[0m\u001b[0mformat\u001b[0m\u001b[0;34m(\u001b[0m\u001b[0manswer\u001b[0m\u001b[0;34m)\u001b[0m\u001b[0;34m)\u001b[0m\u001b[0;34m\u001b[0m\u001b[0;34m\u001b[0m\u001b[0m\n\u001b[1;32m   1154\u001b[0m             \u001b[0;32mif\u001b[0m \u001b[0manswer\u001b[0m\u001b[0;34m.\u001b[0m\u001b[0mstartswith\u001b[0m\u001b[0;34m(\u001b[0m\u001b[0mproto\u001b[0m\u001b[0;34m.\u001b[0m\u001b[0mRETURN_MESSAGE\u001b[0m\u001b[0;34m)\u001b[0m\u001b[0;34m:\u001b[0m\u001b[0;34m\u001b[0m\u001b[0;34m\u001b[0m\u001b[0m\n",
      "\u001b[0;32m/usr/lib/python3.6/socket.py\u001b[0m in \u001b[0;36mreadinto\u001b[0;34m(self, b)\u001b[0m\n\u001b[1;32m    584\u001b[0m         \u001b[0;32mwhile\u001b[0m \u001b[0;32mTrue\u001b[0m\u001b[0;34m:\u001b[0m\u001b[0;34m\u001b[0m\u001b[0;34m\u001b[0m\u001b[0m\n\u001b[1;32m    585\u001b[0m             \u001b[0;32mtry\u001b[0m\u001b[0;34m:\u001b[0m\u001b[0;34m\u001b[0m\u001b[0;34m\u001b[0m\u001b[0m\n\u001b[0;32m--> 586\u001b[0;31m                 \u001b[0;32mreturn\u001b[0m \u001b[0mself\u001b[0m\u001b[0;34m.\u001b[0m\u001b[0m_sock\u001b[0m\u001b[0;34m.\u001b[0m\u001b[0mrecv_into\u001b[0m\u001b[0;34m(\u001b[0m\u001b[0mb\u001b[0m\u001b[0;34m)\u001b[0m\u001b[0;34m\u001b[0m\u001b[0;34m\u001b[0m\u001b[0m\n\u001b[0m\u001b[1;32m    587\u001b[0m             \u001b[0;32mexcept\u001b[0m \u001b[0mtimeout\u001b[0m\u001b[0;34m:\u001b[0m\u001b[0;34m\u001b[0m\u001b[0;34m\u001b[0m\u001b[0m\n\u001b[1;32m    588\u001b[0m                 \u001b[0mself\u001b[0m\u001b[0;34m.\u001b[0m\u001b[0m_timeout_occurred\u001b[0m \u001b[0;34m=\u001b[0m \u001b[0;32mTrue\u001b[0m\u001b[0;34m\u001b[0m\u001b[0;34m\u001b[0m\u001b[0m\n",
      "\u001b[0;31mKeyboardInterrupt\u001b[0m: "
     ]
    }
   ],
   "source": [
    "online_shopper = spark.read.csv(\"file:///home/hadoop/Downloads/Online Shoppers Intention.csv\", inferSchema=True, header=True)\n",
    "online_shopper.head()"
   ]
  },
  {
   "cell_type": "code",
   "execution_count": 162,
   "id": "161ad498",
   "metadata": {
    "scrolled": true
   },
   "outputs": [
    {
     "name": "stdout",
     "output_type": "stream",
     "text": [
      "+--------------+-----------------------+-------------+----------------------+--------------+-----------------------+-----------+-----------+----------+----------+-----+----------------+-------+------+-----------+-----------------+-------+-------+\n",
      "|Administrative|Administrative_Duration|Informational|Informational_Duration|ProductRelated|ProductRelated_Duration|BounceRates|  ExitRates|PageValues|SpecialDay|Month|OperatingSystems|Browser|Region|TrafficType|      VisitorType|Weekend|Revenue|\n",
      "+--------------+-----------------------+-------------+----------------------+--------------+-----------------------+-----------+-----------+----------+----------+-----+----------------+-------+------+-----------+-----------------+-------+-------+\n",
      "|             0|                    0.0|            0|                   0.0|             1|                    0.0|        0.2|        0.2|       0.0|       0.0|  Feb|               1|      1|     1|          1|Returning_Visitor|  false|  false|\n",
      "|             0|                    0.0|            0|                   0.0|             2|                   64.0|        0.0|        0.1|       0.0|       0.0|  Feb|               2|      2|     1|          2|Returning_Visitor|  false|  false|\n",
      "|             0|                   -1.0|            0|                  -1.0|             1|                   -1.0|        0.2|        0.2|       0.0|       0.0|  Feb|               4|      1|     9|          3|Returning_Visitor|  false|  false|\n",
      "|             0|                    0.0|            0|                   0.0|             2|            2.666666667|       0.05|       0.14|       0.0|       0.0|  Feb|               3|      2|     2|          4|Returning_Visitor|  false|  false|\n",
      "|             0|                    0.0|            0|                   0.0|            10|                  627.5|       0.02|       0.05|       0.0|       0.0|  Feb|               3|      3|     1|          4|Returning_Visitor|   true|  false|\n",
      "|             0|                    0.0|            0|                   0.0|            19|            154.2166667|0.015789474|0.024561404|       0.0|       0.0|  Feb|               2|      2|     1|          3|Returning_Visitor|  false|  false|\n",
      "|             0|                   -1.0|            0|                  -1.0|             1|                   -1.0|        0.2|        0.2|       0.0|       0.4|  Feb|               2|      4|     3|          3|Returning_Visitor|  false|  false|\n",
      "|             1|                   -1.0|            0|                  -1.0|             1|                   -1.0|        0.2|        0.2|       0.0|       0.0|  Feb|               1|      2|     1|          5|Returning_Visitor|   true|  false|\n",
      "|             0|                    0.0|            0|                   0.0|             2|                   37.0|        0.0|        0.1|       0.0|       0.8|  Feb|               2|      2|     2|          3|Returning_Visitor|  false|  false|\n",
      "|             0|                    0.0|            0|                   0.0|             3|                  738.0|        0.0|0.022222222|       0.0|       0.4|  Feb|               2|      4|     1|          2|Returning_Visitor|  false|  false|\n",
      "|             0|                    0.0|            0|                   0.0|             3|                  395.0|        0.0|0.066666667|       0.0|       0.0|  Feb|               1|      1|     3|          3|Returning_Visitor|  false|  false|\n",
      "|             0|                    0.0|            0|                   0.0|            16|                 407.75|    0.01875|0.025833333|       0.0|       0.4|  Feb|               1|      1|     4|          3|Returning_Visitor|  false|  false|\n",
      "|             0|                    0.0|            0|                   0.0|             7|                  280.5|        0.0|0.028571429|       0.0|       0.0|  Feb|               1|      1|     1|          3|Returning_Visitor|  false|  false|\n",
      "|             0|                    0.0|            0|                   0.0|             6|                   98.0|        0.0|0.066666667|       0.0|       0.0|  Feb|               2|      5|     1|          3|Returning_Visitor|  false|  false|\n",
      "|             0|                    0.0|            0|                   0.0|             2|                   68.0|        0.0|        0.1|       0.0|       0.0|  Feb|               3|      2|     3|          3|Returning_Visitor|  false|  false|\n",
      "|             2|                   53.0|            0|                   0.0|            23|            1668.285119|0.008333333|0.016312636|       0.0|       0.0|  Feb|               1|      1|     9|          3|Returning_Visitor|  false|  false|\n",
      "|             0|                   -1.0|            0|                  -1.0|             1|                   -1.0|        0.2|        0.2|       0.0|       0.0|  Feb|               1|      1|     4|          3|Returning_Visitor|  false|  false|\n",
      "|             0|                    0.0|            0|                   0.0|            13|            334.9666667|        0.0|0.007692308|       0.0|       0.0|  Feb|               1|      1|     1|          4|Returning_Visitor|   true|  false|\n",
      "|             0|                    0.0|            0|                   0.0|             2|                   32.0|        0.0|        0.1|       0.0|       0.0|  Feb|               2|      2|     1|          3|Returning_Visitor|  false|  false|\n",
      "|             0|                    0.0|            0|                   0.0|            20|            2981.166667|        0.0|       0.01|       0.0|       0.0|  Feb|               2|      4|     4|          4|Returning_Visitor|  false|  false|\n",
      "+--------------+-----------------------+-------------+----------------------+--------------+-----------------------+-----------+-----------+----------+----------+-----+----------------+-------+------+-----------+-----------------+-------+-------+\n",
      "only showing top 20 rows\n",
      "\n"
     ]
    }
   ],
   "source": [
    "online_shopper.show()"
   ]
  },
  {
   "cell_type": "markdown",
   "id": "0eeb6665",
   "metadata": {},
   "source": [
    "#### Show schema of DataFrame"
   ]
  },
  {
   "cell_type": "code",
   "execution_count": 163,
   "id": "e015b976",
   "metadata": {},
   "outputs": [
    {
     "name": "stdout",
     "output_type": "stream",
     "text": [
      "root\n",
      " |-- Administrative: integer (nullable = true)\n",
      " |-- Administrative_Duration: double (nullable = true)\n",
      " |-- Informational: integer (nullable = true)\n",
      " |-- Informational_Duration: double (nullable = true)\n",
      " |-- ProductRelated: integer (nullable = true)\n",
      " |-- ProductRelated_Duration: double (nullable = true)\n",
      " |-- BounceRates: double (nullable = true)\n",
      " |-- ExitRates: double (nullable = true)\n",
      " |-- PageValues: double (nullable = true)\n",
      " |-- SpecialDay: double (nullable = true)\n",
      " |-- Month: string (nullable = true)\n",
      " |-- OperatingSystems: integer (nullable = true)\n",
      " |-- Browser: integer (nullable = true)\n",
      " |-- Region: integer (nullable = true)\n",
      " |-- TrafficType: integer (nullable = true)\n",
      " |-- VisitorType: string (nullable = true)\n",
      " |-- Weekend: boolean (nullable = true)\n",
      " |-- Revenue: boolean (nullable = true)\n",
      "\n"
     ]
    }
   ],
   "source": [
    "online_shopper.printSchema()"
   ]
  },
  {
   "cell_type": "markdown",
   "id": "e1d3b6b6",
   "metadata": {},
   "source": [
    "#### 3. Data wrangling\n",
    "* Is there any missing Values?"
   ]
  },
  {
   "cell_type": "code",
   "execution_count": 164,
   "id": "4ba97523",
   "metadata": {},
   "outputs": [],
   "source": [
    "online_shopper.createOrReplaceTempView(\"shopping\")"
   ]
  },
  {
   "cell_type": "code",
   "execution_count": 165,
   "id": "11f09fcf",
   "metadata": {},
   "outputs": [
    {
     "name": "stdout",
     "output_type": "stream",
     "text": [
      "+--------------+-----------------------+-------------+----------------------+--------------+-----------------------+-----------+---------+----------+----------+-----+----------------+-------+------+-----------+-----------+-------+-------+\n",
      "|Administrative|Administrative_Duration|Informational|Informational_Duration|ProductRelated|ProductRelated_Duration|BounceRates|ExitRates|PageValues|SpecialDay|Month|OperatingSystems|Browser|Region|TrafficType|VisitorType|Weekend|Revenue|\n",
      "+--------------+-----------------------+-------------+----------------------+--------------+-----------------------+-----------+---------+----------+----------+-----+----------------+-------+------+-----------+-----------+-------+-------+\n",
      "|            14|                     14|           14|                    14|            14|                     14|         14|       14|         0|         0|    0|               0|      0|     0|          0|          0|      0|      0|\n",
      "+--------------+-----------------------+-------------+----------------------+--------------+-----------------------+-----------+---------+----------+----------+-----+----------------+-------+------+-----------+-----------+-------+-------+\n",
      "\n"
     ]
    }
   ],
   "source": [
    "online_shopper.select([count(when(isnull(col),col)).alias(col) for col in online_shopper.columns]).show()"
   ]
  },
  {
   "cell_type": "code",
   "execution_count": 166,
   "id": "6667b5dc",
   "metadata": {},
   "outputs": [],
   "source": [
    "#Drop rows with any null vallues in any column (apply only if affect less than 5% of data)\n",
    "shoppers_df = online_shopper.na.drop()"
   ]
  },
  {
   "cell_type": "code",
   "execution_count": 167,
   "id": "3f46b43f",
   "metadata": {},
   "outputs": [
    {
     "data": {
      "text/plain": [
       "12316"
      ]
     },
     "execution_count": 167,
     "metadata": {},
     "output_type": "execute_result"
    }
   ],
   "source": [
    "shoppers_df.count()"
   ]
  },
  {
   "cell_type": "code",
   "execution_count": 168,
   "id": "a74ff0f4",
   "metadata": {},
   "outputs": [
    {
     "name": "stdout",
     "output_type": "stream",
     "text": [
      "Defaulting to user installation because normal site-packages is not writeable\n",
      "Requirement already satisfied: numpy in ./.local/lib/python3.6/site-packages (1.19.5)\n",
      "Requirement already satisfied: pandas in ./.local/lib/python3.6/site-packages (1.1.5)\n",
      "Requirement already satisfied: matplotlib in ./.local/lib/python3.6/site-packages (3.3.4)\n",
      "Requirement already satisfied: seaborn in ./.local/lib/python3.6/site-packages (0.11.2)\n",
      "Requirement already satisfied: pytz>=2017.2 in /usr/lib/python3/dist-packages (from pandas) (2018.3)\n",
      "Requirement already satisfied: python-dateutil>=2.7.3 in ./.local/lib/python3.6/site-packages (from pandas) (2.9.0.post0)\n",
      "Requirement already satisfied: cycler>=0.10 in ./.local/lib/python3.6/site-packages (from matplotlib) (0.11.0)\n",
      "Requirement already satisfied: kiwisolver>=1.0.1 in ./.local/lib/python3.6/site-packages (from matplotlib) (1.3.1)\n",
      "Requirement already satisfied: pyparsing!=2.0.4,!=2.1.2,!=2.1.6,>=2.0.3 in ./.local/lib/python3.6/site-packages (from matplotlib) (3.0.9)\n",
      "Requirement already satisfied: pillow>=6.2.0 in ./.local/lib/python3.6/site-packages (from matplotlib) (8.4.0)\n",
      "Requirement already satisfied: scipy>=1.0 in ./.local/lib/python3.6/site-packages (from seaborn) (1.5.4)\n",
      "Requirement already satisfied: six>=1.5 in /usr/lib/python3/dist-packages (from python-dateutil>=2.7.3->pandas) (1.11.0)\n"
     ]
    }
   ],
   "source": [
    "!pip install numpy  pandas  matplotlib seaborn"
   ]
  },
  {
   "cell_type": "markdown",
   "id": "13c73891",
   "metadata": {},
   "source": [
    "#### 4. Data Preprocessing\n",
    "* Transformation of categorical values into neumerical dataframe"
   ]
  },
  {
   "cell_type": "code",
   "execution_count": 169,
   "id": "bec3fa78",
   "metadata": {},
   "outputs": [
    {
     "name": "stdout",
     "output_type": "stream",
     "text": [
      "+-----------------+\n",
      "|      VisitorType|\n",
      "+-----------------+\n",
      "|      New_Visitor|\n",
      "|            Other|\n",
      "|Returning_Visitor|\n",
      "+-----------------+\n",
      "\n"
     ]
    }
   ],
   "source": [
    "shoppers_df.select('VisitorType').distinct().show()"
   ]
  },
  {
   "cell_type": "code",
   "execution_count": 170,
   "id": "3d6bc525",
   "metadata": {},
   "outputs": [
    {
     "data": {
      "text/html": [
       "<div>\n",
       "<style scoped>\n",
       "    .dataframe tbody tr th:only-of-type {\n",
       "        vertical-align: middle;\n",
       "    }\n",
       "\n",
       "    .dataframe tbody tr th {\n",
       "        vertical-align: top;\n",
       "    }\n",
       "\n",
       "    .dataframe thead th {\n",
       "        text-align: right;\n",
       "    }\n",
       "</style>\n",
       "<table border=\"1\" class=\"dataframe\">\n",
       "  <thead>\n",
       "    <tr style=\"text-align: right;\">\n",
       "      <th></th>\n",
       "      <th>Administrative</th>\n",
       "      <th>Administrative_Duration</th>\n",
       "      <th>Informational</th>\n",
       "      <th>Informational_Duration</th>\n",
       "      <th>ProductRelated</th>\n",
       "      <th>ProductRelated_Duration</th>\n",
       "      <th>BounceRates</th>\n",
       "      <th>ExitRates</th>\n",
       "      <th>PageValues</th>\n",
       "      <th>SpecialDay</th>\n",
       "      <th>Month</th>\n",
       "      <th>OperatingSystems</th>\n",
       "      <th>Browser</th>\n",
       "      <th>Region</th>\n",
       "      <th>TrafficType</th>\n",
       "      <th>VisitorType</th>\n",
       "      <th>Weekend</th>\n",
       "      <th>Revenue</th>\n",
       "    </tr>\n",
       "  </thead>\n",
       "  <tbody>\n",
       "    <tr>\n",
       "      <th>0</th>\n",
       "      <td>0</td>\n",
       "      <td>0.0</td>\n",
       "      <td>0</td>\n",
       "      <td>0.0</td>\n",
       "      <td>1</td>\n",
       "      <td>0.000000</td>\n",
       "      <td>0.20</td>\n",
       "      <td>0.20</td>\n",
       "      <td>0.0</td>\n",
       "      <td>0.0</td>\n",
       "      <td>Feb</td>\n",
       "      <td>1</td>\n",
       "      <td>1</td>\n",
       "      <td>1</td>\n",
       "      <td>1</td>\n",
       "      <td>Returning_Visitor</td>\n",
       "      <td>False</td>\n",
       "      <td>False</td>\n",
       "    </tr>\n",
       "    <tr>\n",
       "      <th>1</th>\n",
       "      <td>0</td>\n",
       "      <td>0.0</td>\n",
       "      <td>0</td>\n",
       "      <td>0.0</td>\n",
       "      <td>2</td>\n",
       "      <td>64.000000</td>\n",
       "      <td>0.00</td>\n",
       "      <td>0.10</td>\n",
       "      <td>0.0</td>\n",
       "      <td>0.0</td>\n",
       "      <td>Feb</td>\n",
       "      <td>2</td>\n",
       "      <td>2</td>\n",
       "      <td>1</td>\n",
       "      <td>2</td>\n",
       "      <td>Returning_Visitor</td>\n",
       "      <td>False</td>\n",
       "      <td>False</td>\n",
       "    </tr>\n",
       "    <tr>\n",
       "      <th>2</th>\n",
       "      <td>0</td>\n",
       "      <td>-1.0</td>\n",
       "      <td>0</td>\n",
       "      <td>-1.0</td>\n",
       "      <td>1</td>\n",
       "      <td>-1.000000</td>\n",
       "      <td>0.20</td>\n",
       "      <td>0.20</td>\n",
       "      <td>0.0</td>\n",
       "      <td>0.0</td>\n",
       "      <td>Feb</td>\n",
       "      <td>4</td>\n",
       "      <td>1</td>\n",
       "      <td>9</td>\n",
       "      <td>3</td>\n",
       "      <td>Returning_Visitor</td>\n",
       "      <td>False</td>\n",
       "      <td>False</td>\n",
       "    </tr>\n",
       "    <tr>\n",
       "      <th>3</th>\n",
       "      <td>0</td>\n",
       "      <td>0.0</td>\n",
       "      <td>0</td>\n",
       "      <td>0.0</td>\n",
       "      <td>2</td>\n",
       "      <td>2.666667</td>\n",
       "      <td>0.05</td>\n",
       "      <td>0.14</td>\n",
       "      <td>0.0</td>\n",
       "      <td>0.0</td>\n",
       "      <td>Feb</td>\n",
       "      <td>3</td>\n",
       "      <td>2</td>\n",
       "      <td>2</td>\n",
       "      <td>4</td>\n",
       "      <td>Returning_Visitor</td>\n",
       "      <td>False</td>\n",
       "      <td>False</td>\n",
       "    </tr>\n",
       "    <tr>\n",
       "      <th>4</th>\n",
       "      <td>0</td>\n",
       "      <td>0.0</td>\n",
       "      <td>0</td>\n",
       "      <td>0.0</td>\n",
       "      <td>10</td>\n",
       "      <td>627.500000</td>\n",
       "      <td>0.02</td>\n",
       "      <td>0.05</td>\n",
       "      <td>0.0</td>\n",
       "      <td>0.0</td>\n",
       "      <td>Feb</td>\n",
       "      <td>3</td>\n",
       "      <td>3</td>\n",
       "      <td>1</td>\n",
       "      <td>4</td>\n",
       "      <td>Returning_Visitor</td>\n",
       "      <td>True</td>\n",
       "      <td>False</td>\n",
       "    </tr>\n",
       "  </tbody>\n",
       "</table>\n",
       "</div>"
      ],
      "text/plain": [
       "   Administrative  Administrative_Duration  Informational  \\\n",
       "0               0                      0.0              0   \n",
       "1               0                      0.0              0   \n",
       "2               0                     -1.0              0   \n",
       "3               0                      0.0              0   \n",
       "4               0                      0.0              0   \n",
       "\n",
       "   Informational_Duration  ProductRelated  ProductRelated_Duration  \\\n",
       "0                     0.0               1                 0.000000   \n",
       "1                     0.0               2                64.000000   \n",
       "2                    -1.0               1                -1.000000   \n",
       "3                     0.0               2                 2.666667   \n",
       "4                     0.0              10               627.500000   \n",
       "\n",
       "   BounceRates  ExitRates  PageValues  SpecialDay Month  OperatingSystems  \\\n",
       "0         0.20       0.20         0.0         0.0   Feb                 1   \n",
       "1         0.00       0.10         0.0         0.0   Feb                 2   \n",
       "2         0.20       0.20         0.0         0.0   Feb                 4   \n",
       "3         0.05       0.14         0.0         0.0   Feb                 3   \n",
       "4         0.02       0.05         0.0         0.0   Feb                 3   \n",
       "\n",
       "   Browser  Region  TrafficType        VisitorType  Weekend  Revenue  \n",
       "0        1       1            1  Returning_Visitor    False    False  \n",
       "1        2       1            2  Returning_Visitor    False    False  \n",
       "2        1       9            3  Returning_Visitor    False    False  \n",
       "3        2       2            4  Returning_Visitor    False    False  \n",
       "4        3       1            4  Returning_Visitor     True    False  "
      ]
     },
     "execution_count": 170,
     "metadata": {},
     "output_type": "execute_result"
    }
   ],
   "source": [
    "shoppers_df.toPandas().head()"
   ]
  },
  {
   "cell_type": "code",
   "execution_count": 171,
   "id": "5b366570",
   "metadata": {},
   "outputs": [],
   "source": [
    "shoppers_df = shoppers_df.withColumn('VisitorType',regexp_replace('VisitorType','New_Visitor',\"0\") )\n",
    "shoppers_df = shoppers_df.withColumn('VisitorType',regexp_replace('VisitorType','Other',\"1\") )\n",
    "shoppers_df = shoppers_df.withColumn('VisitorType',regexp_replace('VisitorType','Returning_Visitor',\"2\") )"
   ]
  },
  {
   "cell_type": "markdown",
   "id": "116e379b",
   "metadata": {},
   "source": [
    "* StringIndexer() - Encode categorical values into numerical labeels as '0', '1', '2'"
   ]
  },
  {
   "cell_type": "code",
   "execution_count": 172,
   "id": "0e0739c3",
   "metadata": {},
   "outputs": [],
   "source": [
    "from pyspark.ml.feature import StringIndexer, OneHotEncoder"
   ]
  },
  {
   "cell_type": "code",
   "execution_count": 173,
   "id": "17bbf960",
   "metadata": {},
   "outputs": [
    {
     "name": "stdout",
     "output_type": "stream",
     "text": [
      "+--------------+-----------------------+-------------+----------------------+--------------+-----------------------+-----------+-----------+----------+----------+-----+----------------+-------+------+-----------+-----------+-------+-------+-----------+\n",
      "|Administrative|Administrative_Duration|Informational|Informational_Duration|ProductRelated|ProductRelated_Duration|BounceRates|  ExitRates|PageValues|SpecialDay|Month|OperatingSystems|Browser|Region|TrafficType|VisitorType|Weekend|Revenue|Month_index|\n",
      "+--------------+-----------------------+-------------+----------------------+--------------+-----------------------+-----------+-----------+----------+----------+-----+----------------+-------+------+-----------+-----------+-------+-------+-----------+\n",
      "|             0|                    0.0|            0|                   0.0|             1|                    0.0|        0.2|        0.2|       0.0|       0.0|  Feb|               1|      1|     1|          1|          2|  false|  false|        9.0|\n",
      "|             0|                    0.0|            0|                   0.0|             2|                   64.0|        0.0|        0.1|       0.0|       0.0|  Feb|               2|      2|     1|          2|          2|  false|  false|        9.0|\n",
      "|             0|                   -1.0|            0|                  -1.0|             1|                   -1.0|        0.2|        0.2|       0.0|       0.0|  Feb|               4|      1|     9|          3|          2|  false|  false|        9.0|\n",
      "|             0|                    0.0|            0|                   0.0|             2|            2.666666667|       0.05|       0.14|       0.0|       0.0|  Feb|               3|      2|     2|          4|          2|  false|  false|        9.0|\n",
      "|             0|                    0.0|            0|                   0.0|            10|                  627.5|       0.02|       0.05|       0.0|       0.0|  Feb|               3|      3|     1|          4|          2|   true|  false|        9.0|\n",
      "|             0|                    0.0|            0|                   0.0|            19|            154.2166667|0.015789474|0.024561404|       0.0|       0.0|  Feb|               2|      2|     1|          3|          2|  false|  false|        9.0|\n",
      "|             0|                   -1.0|            0|                  -1.0|             1|                   -1.0|        0.2|        0.2|       0.0|       0.4|  Feb|               2|      4|     3|          3|          2|  false|  false|        9.0|\n",
      "|             1|                   -1.0|            0|                  -1.0|             1|                   -1.0|        0.2|        0.2|       0.0|       0.0|  Feb|               1|      2|     1|          5|          2|   true|  false|        9.0|\n",
      "|             0|                    0.0|            0|                   0.0|             2|                   37.0|        0.0|        0.1|       0.0|       0.8|  Feb|               2|      2|     2|          3|          2|  false|  false|        9.0|\n",
      "|             0|                    0.0|            0|                   0.0|             3|                  738.0|        0.0|0.022222222|       0.0|       0.4|  Feb|               2|      4|     1|          2|          2|  false|  false|        9.0|\n",
      "|             0|                    0.0|            0|                   0.0|             3|                  395.0|        0.0|0.066666667|       0.0|       0.0|  Feb|               1|      1|     3|          3|          2|  false|  false|        9.0|\n",
      "|             0|                    0.0|            0|                   0.0|            16|                 407.75|    0.01875|0.025833333|       0.0|       0.4|  Feb|               1|      1|     4|          3|          2|  false|  false|        9.0|\n",
      "|             0|                    0.0|            0|                   0.0|             7|                  280.5|        0.0|0.028571429|       0.0|       0.0|  Feb|               1|      1|     1|          3|          2|  false|  false|        9.0|\n",
      "|             0|                    0.0|            0|                   0.0|             6|                   98.0|        0.0|0.066666667|       0.0|       0.0|  Feb|               2|      5|     1|          3|          2|  false|  false|        9.0|\n",
      "|             0|                    0.0|            0|                   0.0|             2|                   68.0|        0.0|        0.1|       0.0|       0.0|  Feb|               3|      2|     3|          3|          2|  false|  false|        9.0|\n",
      "|             2|                   53.0|            0|                   0.0|            23|            1668.285119|0.008333333|0.016312636|       0.0|       0.0|  Feb|               1|      1|     9|          3|          2|  false|  false|        9.0|\n",
      "|             0|                   -1.0|            0|                  -1.0|             1|                   -1.0|        0.2|        0.2|       0.0|       0.0|  Feb|               1|      1|     4|          3|          2|  false|  false|        9.0|\n",
      "|             0|                    0.0|            0|                   0.0|            13|            334.9666667|        0.0|0.007692308|       0.0|       0.0|  Feb|               1|      1|     1|          4|          2|   true|  false|        9.0|\n",
      "|             0|                    0.0|            0|                   0.0|             2|                   32.0|        0.0|        0.1|       0.0|       0.0|  Feb|               2|      2|     1|          3|          2|  false|  false|        9.0|\n",
      "|             0|                    0.0|            0|                   0.0|            20|            2981.166667|        0.0|       0.01|       0.0|       0.0|  Feb|               2|      4|     4|          4|          2|  false|  false|        9.0|\n",
      "+--------------+-----------------------+-------------+----------------------+--------------+-----------------------+-----------+-----------+----------+----------+-----+----------------+-------+------+-----------+-----------+-------+-------+-----------+\n",
      "only showing top 20 rows\n",
      "\n"
     ]
    }
   ],
   "source": [
    "indexer = StringIndexer(inputCol = 'Month', outputCol = 'Month_index')\n",
    "#fit StringIndexer() model on the DataFrameindexer\n",
    "shoppers_df1 = indexer.fit(shoppers_df).transform(shoppers_df)\n",
    "shoppers_df1.show()"
   ]
  },
  {
   "cell_type": "code",
   "execution_count": 174,
   "id": "b25b8d88",
   "metadata": {},
   "outputs": [
    {
     "name": "stdout",
     "output_type": "stream",
     "text": [
      "root\n",
      " |-- Administrative: integer (nullable = true)\n",
      " |-- Administrative_Duration: double (nullable = true)\n",
      " |-- Informational: integer (nullable = true)\n",
      " |-- Informational_Duration: double (nullable = true)\n",
      " |-- ProductRelated: integer (nullable = true)\n",
      " |-- ProductRelated_Duration: double (nullable = true)\n",
      " |-- BounceRates: double (nullable = true)\n",
      " |-- ExitRates: double (nullable = true)\n",
      " |-- PageValues: double (nullable = true)\n",
      " |-- SpecialDay: double (nullable = true)\n",
      " |-- Month: string (nullable = true)\n",
      " |-- OperatingSystems: integer (nullable = true)\n",
      " |-- Browser: integer (nullable = true)\n",
      " |-- Region: integer (nullable = true)\n",
      " |-- TrafficType: integer (nullable = true)\n",
      " |-- VisitorType: string (nullable = true)\n",
      " |-- Weekend: boolean (nullable = true)\n",
      " |-- Revenue: boolean (nullable = true)\n",
      " |-- Month_index: double (nullable = false)\n",
      "\n"
     ]
    }
   ],
   "source": [
    "shoppers_df1.printSchema()"
   ]
  },
  {
   "cell_type": "code",
   "execution_count": 175,
   "id": "259f00f6",
   "metadata": {},
   "outputs": [],
   "source": [
    "shoppers_df2 = shoppers_df1.drop('Month')"
   ]
  },
  {
   "cell_type": "code",
   "execution_count": 176,
   "id": "d16af0fe",
   "metadata": {},
   "outputs": [
    {
     "name": "stdout",
     "output_type": "stream",
     "text": [
      "root\n",
      " |-- Administrative: integer (nullable = true)\n",
      " |-- Administrative_Duration: double (nullable = true)\n",
      " |-- Informational: integer (nullable = true)\n",
      " |-- Informational_Duration: double (nullable = true)\n",
      " |-- ProductRelated: integer (nullable = true)\n",
      " |-- ProductRelated_Duration: double (nullable = true)\n",
      " |-- BounceRates: double (nullable = true)\n",
      " |-- ExitRates: double (nullable = true)\n",
      " |-- PageValues: double (nullable = true)\n",
      " |-- SpecialDay: double (nullable = true)\n",
      " |-- OperatingSystems: integer (nullable = true)\n",
      " |-- Browser: integer (nullable = true)\n",
      " |-- Region: integer (nullable = true)\n",
      " |-- TrafficType: integer (nullable = true)\n",
      " |-- VisitorType: string (nullable = true)\n",
      " |-- Weekend: boolean (nullable = true)\n",
      " |-- Revenue: boolean (nullable = true)\n",
      " |-- Month_index: double (nullable = false)\n",
      "\n"
     ]
    }
   ],
   "source": [
    "shoppers_df2.printSchema()"
   ]
  },
  {
   "cell_type": "code",
   "execution_count": 177,
   "id": "248cb8ca",
   "metadata": {},
   "outputs": [],
   "source": [
    "from pyspark.sql.types import IntegerType\n",
    "shoppers_df2 = shoppers_df2.withColumn('VisitorType', col('VisitorType').cast(IntegerType()))"
   ]
  },
  {
   "cell_type": "code",
   "execution_count": 178,
   "id": "0663c8d8",
   "metadata": {},
   "outputs": [
    {
     "name": "stdout",
     "output_type": "stream",
     "text": [
      "['Administrative', 'Administrative_Duration', 'Informational', 'Informational_Duration', 'ProductRelated', 'ProductRelated_Duration', 'BounceRates', 'ExitRates', 'PageValues', 'SpecialDay', 'OperatingSystems', 'Browser', 'Region', 'TrafficType', 'VisitorType', 'Weekend', 'Revenue', 'Month_index']\n"
     ]
    }
   ],
   "source": [
    "print(shoppers_df2.columns)"
   ]
  },
  {
   "cell_type": "code",
   "execution_count": 179,
   "id": "85688ec8",
   "metadata": {},
   "outputs": [],
   "source": [
    "shoppers_df3 = shoppers_df2.withColumn('Revenue', col('Revenue').cast('integer'))"
   ]
  },
  {
   "cell_type": "code",
   "execution_count": 2,
   "id": "bd15e01a",
   "metadata": {},
   "outputs": [
    {
     "ename": "NameError",
     "evalue": "name 'shoppers_df3' is not defined",
     "output_type": "error",
     "traceback": [
      "\u001b[0;31m---------------------------------------------------------------------------\u001b[0m",
      "\u001b[0;31mNameError\u001b[0m                                 Traceback (most recent call last)",
      "\u001b[0;32m<ipython-input-2-be7f1c7afca9>\u001b[0m in \u001b[0;36m<module>\u001b[0;34m\u001b[0m\n\u001b[0;32m----> 1\u001b[0;31m \u001b[0mshoppers_df3\u001b[0m\u001b[0;34m.\u001b[0m\u001b[0mprintSchema\u001b[0m\u001b[0;34m(\u001b[0m\u001b[0;34m)\u001b[0m\u001b[0;34m\u001b[0m\u001b[0;34m\u001b[0m\u001b[0m\n\u001b[0m",
      "\u001b[0;31mNameError\u001b[0m: name 'shoppers_df3' is not defined"
     ]
    }
   ],
   "source": [
    "shoppers_df3.printSchema()"
   ]
  },
  {
   "cell_type": "markdown",
   "id": "9b644a10",
   "metadata": {},
   "source": [
    "#### 5. Features Vector"
   ]
  },
  {
   "cell_type": "code",
   "execution_count": 181,
   "id": "7b599e88",
   "metadata": {},
   "outputs": [],
   "source": [
    "from pyspark.ml.feature import VectorAssembler"
   ]
  },
  {
   "cell_type": "code",
   "execution_count": 182,
   "id": "b9a31e79",
   "metadata": {},
   "outputs": [],
   "source": [
    "vector_assembler = VectorAssembler(inputCols=['Administrative','Administrative_Duration',\n",
    "'Informational','Informational_Duration','ProductRelated','ProductRelated_Duration','BounceRates',\n",
    "'ExitRates','PageValues','SpecialDay','OperatingSystems','Browser','Region','TrafficType','VisitorType',\n",
    "'Weekend','Month_index'],outputCol='feature')"
   ]
  },
  {
   "cell_type": "code",
   "execution_count": 183,
   "id": "6d8c5864",
   "metadata": {},
   "outputs": [
    {
     "name": "stdout",
     "output_type": "stream",
     "text": [
      "+---------------------------------------------------------------------------------------------------+\n",
      "|feature                                                                                            |\n",
      "+---------------------------------------------------------------------------------------------------+\n",
      "|(17,[4,6,7,10,11,12,13,14,16],[1.0,0.2,0.2,1.0,1.0,1.0,1.0,2.0,9.0])                               |\n",
      "|(17,[4,5,7,10,11,12,13,14,16],[2.0,64.0,0.1,2.0,2.0,1.0,2.0,2.0,9.0])                              |\n",
      "|[0.0,-1.0,0.0,-1.0,1.0,-1.0,0.2,0.2,0.0,0.0,4.0,1.0,9.0,3.0,2.0,0.0,9.0]                           |\n",
      "|(17,[4,5,6,7,10,11,12,13,14,16],[2.0,2.666666667,0.05,0.14,3.0,2.0,2.0,4.0,2.0,9.0])               |\n",
      "|[0.0,0.0,0.0,0.0,10.0,627.5,0.02,0.05,0.0,0.0,3.0,3.0,1.0,4.0,2.0,1.0,9.0]                         |\n",
      "|(17,[4,5,6,7,10,11,12,13,14,16],[19.0,154.2166667,0.015789474,0.024561404,2.0,2.0,1.0,3.0,2.0,9.0])|\n",
      "|[0.0,-1.0,0.0,-1.0,1.0,-1.0,0.2,0.2,0.0,0.4,2.0,4.0,3.0,3.0,2.0,0.0,9.0]                           |\n",
      "|[1.0,-1.0,0.0,-1.0,1.0,-1.0,0.2,0.2,0.0,0.0,1.0,2.0,1.0,5.0,2.0,1.0,9.0]                           |\n",
      "|(17,[4,5,7,9,10,11,12,13,14,16],[2.0,37.0,0.1,0.8,2.0,2.0,2.0,3.0,2.0,9.0])                        |\n",
      "|(17,[4,5,7,9,10,11,12,13,14,16],[3.0,738.0,0.022222222,0.4,2.0,4.0,1.0,2.0,2.0,9.0])               |\n",
      "|(17,[4,5,7,10,11,12,13,14,16],[3.0,395.0,0.066666667,1.0,1.0,3.0,3.0,2.0,9.0])                     |\n",
      "|[0.0,0.0,0.0,0.0,16.0,407.75,0.01875,0.025833333,0.0,0.4,1.0,1.0,4.0,3.0,2.0,0.0,9.0]              |\n",
      "|(17,[4,5,7,10,11,12,13,14,16],[7.0,280.5,0.028571429,1.0,1.0,1.0,3.0,2.0,9.0])                     |\n",
      "|(17,[4,5,7,10,11,12,13,14,16],[6.0,98.0,0.066666667,2.0,5.0,1.0,3.0,2.0,9.0])                      |\n",
      "|(17,[4,5,7,10,11,12,13,14,16],[2.0,68.0,0.1,3.0,2.0,3.0,3.0,2.0,9.0])                              |\n",
      "|[2.0,53.0,0.0,0.0,23.0,1668.285119,0.008333333,0.016312636,0.0,0.0,1.0,1.0,9.0,3.0,2.0,0.0,9.0]    |\n",
      "|[0.0,-1.0,0.0,-1.0,1.0,-1.0,0.2,0.2,0.0,0.0,1.0,1.0,4.0,3.0,2.0,0.0,9.0]                           |\n",
      "|(17,[4,5,7,10,11,12,13,14,15,16],[13.0,334.9666667,0.007692308,1.0,1.0,1.0,4.0,2.0,1.0,9.0])       |\n",
      "|(17,[4,5,7,10,11,12,13,14,16],[2.0,32.0,0.1,2.0,2.0,1.0,3.0,2.0,9.0])                              |\n",
      "|(17,[4,5,7,10,11,12,13,14,16],[20.0,2981.166667,0.01,2.0,4.0,4.0,4.0,2.0,9.0])                     |\n",
      "+---------------------------------------------------------------------------------------------------+\n",
      "only showing top 20 rows\n",
      "\n"
     ]
    }
   ],
   "source": [
    "shoppers_df4 = vector_assembler.transform(shoppers_df3)\n",
    "shoppers_df4.select(['feature']).show(truncate=False)"
   ]
  },
  {
   "cell_type": "code",
   "execution_count": 1,
   "id": "7f0aa697",
   "metadata": {},
   "outputs": [
    {
     "ename": "NameError",
     "evalue": "name 'shoppers_df4' is not defined",
     "output_type": "error",
     "traceback": [
      "\u001b[0;31m---------------------------------------------------------------------------\u001b[0m",
      "\u001b[0;31mNameError\u001b[0m                                 Traceback (most recent call last)",
      "\u001b[0;32m<ipython-input-1-d0e837327050>\u001b[0m in \u001b[0;36m<module>\u001b[0;34m\u001b[0m\n\u001b[0;32m----> 1\u001b[0;31m \u001b[0mtrain\u001b[0m\u001b[0;34m,\u001b[0m \u001b[0mtest\u001b[0m \u001b[0;34m=\u001b[0m \u001b[0mshoppers_df4\u001b[0m\u001b[0;34m.\u001b[0m\u001b[0mrandomSplit\u001b[0m\u001b[0;34m(\u001b[0m\u001b[0;34m[\u001b[0m\u001b[0;36m0.85\u001b[0m\u001b[0;34m,\u001b[0m \u001b[0;36m0.15\u001b[0m\u001b[0;34m]\u001b[0m\u001b[0;34m,\u001b[0m \u001b[0mseed\u001b[0m \u001b[0;34m=\u001b[0m \u001b[0;36m234\u001b[0m\u001b[0;34m)\u001b[0m\u001b[0;34m\u001b[0m\u001b[0;34m\u001b[0m\u001b[0m\n\u001b[0m",
      "\u001b[0;31mNameError\u001b[0m: name 'shoppers_df4' is not defined"
     ]
    }
   ],
   "source": [
    "train, test = shoppers_df4.randomSplit([0.8, 0.2], seed = 234)"
   ]
  },
  {
   "cell_type": "code",
   "execution_count": null,
   "id": "9c6db94c",
   "metadata": {},
   "outputs": [],
   "source": [
    "train.show()"
   ]
  },
  {
   "cell_type": "code",
   "execution_count": null,
   "id": "8ef1a33e",
   "metadata": {},
   "outputs": [],
   "source": [
    "train.select(['feature', 'Revenue'])"
   ]
  },
  {
   "cell_type": "markdown",
   "id": "70763e95",
   "metadata": {},
   "source": [
    "#### 7. Decision tree classifier"
   ]
  },
  {
   "cell_type": "code",
   "execution_count": null,
   "id": "9b0f9fcf",
   "metadata": {},
   "outputs": [],
   "source": [
    "from pyspark.ml.classification import DecisionTreeClassifier\n",
    "tree = DecisionTreeClassifier(featuresCol = 'feature', labelCol = 'Revenue')\n",
    "decision_model = tree.fit(train)\n"
   ]
  },
  {
   "cell_type": "code",
   "execution_count": 188,
   "id": "9e07534b",
   "metadata": {},
   "outputs": [],
   "source": [
    "#prediction on test data\n",
    "predictions = decision_model.transform(test)"
   ]
  },
  {
   "cell_type": "code",
   "execution_count": 189,
   "id": "601a4f06",
   "metadata": {
    "scrolled": true
   },
   "outputs": [
    {
     "name": "stdout",
     "output_type": "stream",
     "text": [
      "+--------------------+-------+----------+\n",
      "|             feature|Revenue|prediction|\n",
      "+--------------------+-------+----------+\n",
      "|[0.0,-1.0,0.0,-1....|      0|       0.0|\n",
      "|[0.0,-1.0,0.0,-1....|      0|       0.0|\n",
      "|[0.0,-1.0,0.0,-1....|      0|       0.0|\n",
      "|[0.0,-1.0,0.0,-1....|      0|       0.0|\n",
      "|[0.0,-1.0,0.0,-1....|      0|       0.0|\n",
      "|(17,[6,7,10,11,12...|      0|       0.0|\n",
      "|(17,[4,7,9,10,11,...|      0|       0.0|\n",
      "|(17,[4,6,7,10,11,...|      0|       0.0|\n",
      "|(17,[4,6,7,10,11,...|      0|       0.0|\n",
      "|(17,[4,6,7,10,11,...|      0|       0.0|\n",
      "|(17,[4,6,7,10,11,...|      0|       0.0|\n",
      "|(17,[4,6,7,10,11,...|      0|       0.0|\n",
      "|(17,[4,6,7,10,11,...|      0|       0.0|\n",
      "|(17,[4,6,7,10,11,...|      0|       0.0|\n",
      "|(17,[4,6,7,10,11,...|      0|       0.0|\n",
      "|(17,[4,6,7,10,11,...|      0|       0.0|\n",
      "|(17,[4,6,7,10,11,...|      0|       0.0|\n",
      "|(17,[4,6,7,10,11,...|      0|       0.0|\n",
      "|(17,[4,6,7,10,11,...|      0|       0.0|\n",
      "|(17,[4,6,7,10,11,...|      0|       0.0|\n",
      "+--------------------+-------+----------+\n",
      "only showing top 20 rows\n",
      "\n"
     ]
    }
   ],
   "source": [
    "predictions.select(['feature','Revenue','prediction']).show()"
   ]
  },
  {
   "cell_type": "markdown",
   "id": "875a211a",
   "metadata": {},
   "source": [
    "#### 8. Classification Metrics"
   ]
  },
  {
   "cell_type": "code",
   "execution_count": 190,
   "id": "208a21a3",
   "metadata": {},
   "outputs": [],
   "source": [
    "from pyspark.ml.evaluation import MulticlassClassificationEvaluator\n",
    "evaluator = MulticlassClassificationEvaluator(labelCol=\"Revenue\", predictionCol=\"prediction\",metricName=\"accuracy\")\n",
    "accuracy = evaluator.evaluate(predictions)"
   ]
  },
  {
   "cell_type": "code",
   "execution_count": 191,
   "id": "a73b67dc",
   "metadata": {},
   "outputs": [
    {
     "data": {
      "text/plain": [
       "0.883921246923708"
      ]
     },
     "execution_count": 191,
     "metadata": {},
     "output_type": "execute_result"
    }
   ],
   "source": [
    "accuracy"
   ]
  },
  {
   "cell_type": "code",
   "execution_count": null,
   "id": "e7efb443",
   "metadata": {},
   "outputs": [],
   "source": []
  }
 ],
 "metadata": {
  "kernelspec": {
   "display_name": "Python 3",
   "language": "python",
   "name": "python3"
  },
  "language_info": {
   "codemirror_mode": {
    "name": "ipython",
    "version": 3
   },
   "file_extension": ".py",
   "mimetype": "text/x-python",
   "name": "python",
   "nbconvert_exporter": "python",
   "pygments_lexer": "ipython3",
   "version": "3.6.9"
  }
 },
 "nbformat": 4,
 "nbformat_minor": 5
}
