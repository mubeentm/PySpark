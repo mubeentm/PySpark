{
 "cells": [
  {
   "cell_type": "code",
   "execution_count": 368,
   "id": "6f76689f",
   "metadata": {},
   "outputs": [
    {
     "data": {
      "text/html": [
       "\n",
       "        <div>\n",
       "            <p><b>SparkContext</b></p>\n",
       "\n",
       "            <p><a href=\"http://10.0.2.15:4042\">Spark UI</a></p>\n",
       "\n",
       "            <dl>\n",
       "              <dt>Version</dt>\n",
       "                <dd><code>v2.4.8</code></dd>\n",
       "              <dt>Master</dt>\n",
       "                <dd><code>local[*]</code></dd>\n",
       "              <dt>AppName</dt>\n",
       "                <dd><code>PySparkShell</code></dd>\n",
       "            </dl>\n",
       "        </div>\n",
       "        "
      ],
      "text/plain": [
       "<SparkContext master=local[*] appName=PySparkShell>"
      ]
     },
     "execution_count": 368,
     "metadata": {},
     "output_type": "execute_result"
    }
   ],
   "source": [
    "sc"
   ]
  },
  {
   "cell_type": "code",
   "execution_count": 369,
   "id": "0013eede",
   "metadata": {},
   "outputs": [
    {
     "data": {
      "text/html": [
       "\n",
       "            <div>\n",
       "                <p><b>SparkSession - hive</b></p>\n",
       "                \n",
       "        <div>\n",
       "            <p><b>SparkContext</b></p>\n",
       "\n",
       "            <p><a href=\"http://10.0.2.15:4042\">Spark UI</a></p>\n",
       "\n",
       "            <dl>\n",
       "              <dt>Version</dt>\n",
       "                <dd><code>v2.4.8</code></dd>\n",
       "              <dt>Master</dt>\n",
       "                <dd><code>local[*]</code></dd>\n",
       "              <dt>AppName</dt>\n",
       "                <dd><code>PySparkShell</code></dd>\n",
       "            </dl>\n",
       "        </div>\n",
       "        \n",
       "            </div>\n",
       "        "
      ],
      "text/plain": [
       "<pyspark.sql.session.SparkSession at 0x7f5ea4088400>"
      ]
     },
     "execution_count": 369,
     "metadata": {},
     "output_type": "execute_result"
    }
   ],
   "source": [
    "spark"
   ]
  },
  {
   "cell_type": "code",
   "execution_count": 370,
   "id": "3441f19c",
   "metadata": {},
   "outputs": [],
   "source": [
    "from pyspark.sql.functions import *"
   ]
  },
  {
   "cell_type": "markdown",
   "id": "484d5000",
   "metadata": {},
   "source": [
    "#### 1. Read DataSet"
   ]
  },
  {
   "cell_type": "code",
   "execution_count": 371,
   "id": "61bb129e",
   "metadata": {},
   "outputs": [
    {
     "data": {
      "text/plain": [
       "Row(customerID='7590-VHVEG', gender='Female', SeniorCitizen=0, Partner='Yes', Dependents='No', tenure=1, PhoneService='No', MultipleLines='No phone service', InternetService='DSL', OnlineSecurity='No', OnlineBackup='Yes', DeviceProtection='No', TechSupport='No', StreamingTV='No', StreamingMovies='No', Contract='Month-to-month', PaperlessBilling='Yes', PaymentMethod='Electronic check', MonthlyCharges=29.85, TotalCharges='29.85', Churn='No')"
      ]
     },
     "execution_count": 371,
     "metadata": {},
     "output_type": "execute_result"
    }
   ],
   "source": [
    "telecom_data = spark.read.csv(\"file:///home/hadoop/Downloads/Telco_Customer_Churn.csv\", inferSchema=True, header=True)\n",
    "telecom_data.head()"
   ]
  },
  {
   "cell_type": "code",
   "execution_count": 372,
   "id": "42b42ba2",
   "metadata": {
    "scrolled": true
   },
   "outputs": [
    {
     "name": "stdout",
     "output_type": "stream",
     "text": [
      "+----------+------+-------------+-------+----------+------+------------+----------------+---------------+-------------------+-------------------+-------------------+-------------------+-------------------+-------------------+--------------+----------------+--------------------+--------------+------------+-----+\n",
      "|customerID|gender|SeniorCitizen|Partner|Dependents|tenure|PhoneService|   MultipleLines|InternetService|     OnlineSecurity|       OnlineBackup|   DeviceProtection|        TechSupport|        StreamingTV|    StreamingMovies|      Contract|PaperlessBilling|       PaymentMethod|MonthlyCharges|TotalCharges|Churn|\n",
      "+----------+------+-------------+-------+----------+------+------------+----------------+---------------+-------------------+-------------------+-------------------+-------------------+-------------------+-------------------+--------------+----------------+--------------------+--------------+------------+-----+\n",
      "|7590-VHVEG|Female|            0|    Yes|        No|     1|          No|No phone service|            DSL|                 No|                Yes|                 No|                 No|                 No|                 No|Month-to-month|             Yes|    Electronic check|         29.85|       29.85|   No|\n",
      "|5575-GNVDE|  Male|            0|     No|        No|    34|         Yes|              No|            DSL|                Yes|                 No|                Yes|                 No|                 No|                 No|      One year|              No|        Mailed check|         56.95|      1889.5|   No|\n",
      "|3668-QPYBK|  Male|            0|     No|        No|     2|         Yes|              No|            DSL|                Yes|                Yes|                 No|                 No|                 No|                 No|Month-to-month|             Yes|        Mailed check|         53.85|      108.15|  Yes|\n",
      "|7795-CFOCW|  Male|            0|     No|        No|    45|          No|No phone service|            DSL|                Yes|                 No|                Yes|                Yes|                 No|                 No|      One year|              No|Bank transfer (au...|          42.3|     1840.75|   No|\n",
      "|9237-HQITU|Female|            0|     No|        No|     2|         Yes|              No|    Fiber optic|                 No|                 No|                 No|                 No|                 No|                 No|Month-to-month|             Yes|    Electronic check|          70.7|      151.65|  Yes|\n",
      "|9305-CDSKC|Female|            0|     No|        No|     8|         Yes|             Yes|    Fiber optic|                 No|                 No|                Yes|                 No|                Yes|                Yes|Month-to-month|             Yes|    Electronic check|         99.65|       820.5|  Yes|\n",
      "|1452-KIOVK|  Male|            0|     No|       Yes|    22|         Yes|             Yes|    Fiber optic|                 No|                Yes|                 No|                 No|                Yes|                 No|Month-to-month|             Yes|Credit card (auto...|          89.1|      1949.4|   No|\n",
      "|6713-OKOMC|Female|            0|     No|        No|    10|          No|No phone service|            DSL|                Yes|                 No|                 No|                 No|                 No|                 No|Month-to-month|              No|        Mailed check|         29.75|       301.9|   No|\n",
      "|7892-POOKP|Female|            0|    Yes|        No|    28|         Yes|             Yes|    Fiber optic|                 No|                 No|                Yes|                Yes|                Yes|                Yes|Month-to-month|             Yes|    Electronic check|         104.8|     3046.05|  Yes|\n",
      "|6388-TABGU|  Male|            0|     No|       Yes|    62|         Yes|              No|            DSL|                Yes|                Yes|                 No|                 No|                 No|                 No|      One year|              No|Bank transfer (au...|         56.15|     3487.95|   No|\n",
      "|9763-GRSKD|  Male|            0|    Yes|       Yes|    13|         Yes|              No|            DSL|                Yes|                 No|                 No|                 No|                 No|                 No|Month-to-month|             Yes|        Mailed check|         49.95|      587.45|   No|\n",
      "|7469-LKBCI|  Male|            0|     No|        No|    16|         Yes|              No|             No|No internet service|No internet service|No internet service|No internet service|No internet service|No internet service|      Two year|              No|Credit card (auto...|         18.95|       326.8|   No|\n",
      "|8091-TTVAX|  Male|            0|    Yes|        No|    58|         Yes|             Yes|    Fiber optic|                 No|                 No|                Yes|                 No|                Yes|                Yes|      One year|              No|Credit card (auto...|        100.35|      5681.1|   No|\n",
      "|0280-XJGEX|  Male|            0|     No|        No|    49|         Yes|             Yes|    Fiber optic|                 No|                Yes|                Yes|                 No|                Yes|                Yes|Month-to-month|             Yes|Bank transfer (au...|         103.7|      5036.3|  Yes|\n",
      "|5129-JLPIS|  Male|            0|     No|        No|    25|         Yes|              No|    Fiber optic|                Yes|                 No|                Yes|                Yes|                Yes|                Yes|Month-to-month|             Yes|    Electronic check|         105.5|     2686.05|   No|\n",
      "|3655-SNQYZ|Female|            0|    Yes|       Yes|    69|         Yes|             Yes|    Fiber optic|                Yes|                Yes|                Yes|                Yes|                Yes|                Yes|      Two year|              No|Credit card (auto...|        113.25|     7895.15|   No|\n",
      "|8191-XWSZG|Female|            0|     No|        No|    52|         Yes|              No|             No|No internet service|No internet service|No internet service|No internet service|No internet service|No internet service|      One year|              No|        Mailed check|         20.65|     1022.95|   No|\n",
      "|9959-WOFKT|  Male|            0|     No|       Yes|    71|         Yes|             Yes|    Fiber optic|                Yes|                 No|                Yes|                 No|                Yes|                Yes|      Two year|              No|Bank transfer (au...|         106.7|     7382.25|   No|\n",
      "|4190-MFLUW|Female|            0|    Yes|       Yes|    10|         Yes|              No|            DSL|                 No|                 No|                Yes|                Yes|                 No|                 No|Month-to-month|              No|Credit card (auto...|          55.2|      528.35|  Yes|\n",
      "|4183-MYFRB|Female|            0|     No|        No|    21|         Yes|              No|    Fiber optic|                 No|                Yes|                Yes|                 No|                 No|                Yes|Month-to-month|             Yes|    Electronic check|         90.05|      1862.9|   No|\n",
      "+----------+------+-------------+-------+----------+------+------------+----------------+---------------+-------------------+-------------------+-------------------+-------------------+-------------------+-------------------+--------------+----------------+--------------------+--------------+------------+-----+\n",
      "only showing top 20 rows\n",
      "\n"
     ]
    }
   ],
   "source": [
    "telecom_data.show()"
   ]
  },
  {
   "cell_type": "code",
   "execution_count": 373,
   "id": "4f4793ed",
   "metadata": {},
   "outputs": [
    {
     "name": "stdout",
     "output_type": "stream",
     "text": [
      "root\n",
      " |-- customerID: string (nullable = true)\n",
      " |-- gender: string (nullable = true)\n",
      " |-- SeniorCitizen: integer (nullable = true)\n",
      " |-- Partner: string (nullable = true)\n",
      " |-- Dependents: string (nullable = true)\n",
      " |-- tenure: integer (nullable = true)\n",
      " |-- PhoneService: string (nullable = true)\n",
      " |-- MultipleLines: string (nullable = true)\n",
      " |-- InternetService: string (nullable = true)\n",
      " |-- OnlineSecurity: string (nullable = true)\n",
      " |-- OnlineBackup: string (nullable = true)\n",
      " |-- DeviceProtection: string (nullable = true)\n",
      " |-- TechSupport: string (nullable = true)\n",
      " |-- StreamingTV: string (nullable = true)\n",
      " |-- StreamingMovies: string (nullable = true)\n",
      " |-- Contract: string (nullable = true)\n",
      " |-- PaperlessBilling: string (nullable = true)\n",
      " |-- PaymentMethod: string (nullable = true)\n",
      " |-- MonthlyCharges: double (nullable = true)\n",
      " |-- TotalCharges: string (nullable = true)\n",
      " |-- Churn: string (nullable = true)\n",
      "\n"
     ]
    }
   ],
   "source": [
    "telecom_data.printSchema()"
   ]
  },
  {
   "cell_type": "markdown",
   "id": "84b4e527",
   "metadata": {},
   "source": [
    "####  1. Data Exploration:\n",
    "    • How many records are there in the dataset?"
   ]
  },
  {
   "cell_type": "code",
   "execution_count": 374,
   "id": "3ed6d15c",
   "metadata": {},
   "outputs": [
    {
     "data": {
      "text/plain": [
       "7043"
      ]
     },
     "execution_count": 374,
     "metadata": {},
     "output_type": "execute_result"
    }
   ],
   "source": [
    "telecom_data.count()"
   ]
  },
  {
   "cell_type": "markdown",
   "id": "be680029",
   "metadata": {},
   "source": [
    "##### * What is the distribution of gender among customers?"
   ]
  },
  {
   "cell_type": "code",
   "execution_count": 375,
   "id": "8a448081",
   "metadata": {},
   "outputs": [
    {
     "name": "stdout",
     "output_type": "stream",
     "text": [
      "+------+-----+\n",
      "|gender|count|\n",
      "+------+-----+\n",
      "|Female| 3488|\n",
      "|  Male| 3555|\n",
      "+------+-----+\n",
      "\n"
     ]
    }
   ],
   "source": [
    "telecom_data.groupBy('gender').count().show()"
   ]
  },
  {
   "cell_type": "markdown",
   "id": "5c5bbed5",
   "metadata": {},
   "source": [
    "##### • What is the distribution of contract types among customers?"
   ]
  },
  {
   "cell_type": "code",
   "execution_count": 376,
   "id": "372e6389",
   "metadata": {},
   "outputs": [
    {
     "name": "stdout",
     "output_type": "stream",
     "text": [
      "+--------------+-----+\n",
      "|      Contract|count|\n",
      "+--------------+-----+\n",
      "|Month-to-month| 3875|\n",
      "|      One year| 1473|\n",
      "|      Two year| 1695|\n",
      "+--------------+-----+\n",
      "\n"
     ]
    }
   ],
   "source": [
    "telecom_data.groupBy('Contract').count().show()"
   ]
  },
  {
   "cell_type": "markdown",
   "id": "16ca4543",
   "metadata": {},
   "source": [
    "##### • What is the percentage of customers who churned?"
   ]
  },
  {
   "cell_type": "code",
   "execution_count": 377,
   "id": "f3abc5c2",
   "metadata": {},
   "outputs": [
    {
     "name": "stdout",
     "output_type": "stream",
     "text": [
      "26.536987079369588\n"
     ]
    }
   ],
   "source": [
    "churn_count = telecom_data.select('Churn').where(\"Churn = 'Yes'\").count()\n",
    "# print(churn_count)\n",
    "total = telecom_data.count()\n",
    "# print(total)\n",
    "percent=churn_count/total*100\n",
    "print(percent)"
   ]
  },
  {
   "cell_type": "markdown",
   "id": "28e786cf",
   "metadata": {},
   "source": [
    "####     2. Data Preprocessing:\n",
    "    • Check for missing values and handle them if any.\n",
    "    "
   ]
  },
  {
   "cell_type": "code",
   "execution_count": 378,
   "id": "09be010d",
   "metadata": {},
   "outputs": [
    {
     "name": "stdout",
     "output_type": "stream",
     "text": [
      "+----------+------+-------------+-------+----------+------+------------+-------------+---------------+--------------+------------+----------------+-----------+-----------+---------------+--------+----------------+-------------+--------------+------------+-----+\n",
      "|customerID|gender|SeniorCitizen|Partner|Dependents|tenure|PhoneService|MultipleLines|InternetService|OnlineSecurity|OnlineBackup|DeviceProtection|TechSupport|StreamingTV|StreamingMovies|Contract|PaperlessBilling|PaymentMethod|MonthlyCharges|TotalCharges|Churn|\n",
      "+----------+------+-------------+-------+----------+------+------------+-------------+---------------+--------------+------------+----------------+-----------+-----------+---------------+--------+----------------+-------------+--------------+------------+-----+\n",
      "|         0|     0|            0|      0|         0|     0|           0|            0|              0|             0|           0|               0|          0|          0|              0|       0|               0|            0|             0|           0|    0|\n",
      "+----------+------+-------------+-------+----------+------+------------+-------------+---------------+--------------+------------+----------------+-----------+-----------+---------------+--------+----------------+-------------+--------------+------------+-----+\n",
      "\n"
     ]
    }
   ],
   "source": [
    "telecom_data.select([count(when(isnull(col),col)).alias(col) for col in telecom_data.columns]).show()"
   ]
  },
  {
   "cell_type": "markdown",
   "id": "70d33d91",
   "metadata": {},
   "source": [
    "* Convert categorical variables into numerical format using one-hot encoding or label encoding.\n",
    " "
   ]
  },
  {
   "cell_type": "code",
   "execution_count": 379,
   "id": "aee5e6f7",
   "metadata": {},
   "outputs": [],
   "source": [
    "telecom_data = telecom_data.withColumn('TotalCharges',when(col('TotalCharges')==\" \",None)\\\n",
    "                                       .otherwise(col('TotalCharges')))"
   ]
  },
  {
   "cell_type": "markdown",
   "id": "a778531c",
   "metadata": {},
   "source": [
    "* Split the dataset into training and testing sets."
   ]
  },
  {
   "cell_type": "code",
   "execution_count": 380,
   "id": "55ed5c2c",
   "metadata": {},
   "outputs": [],
   "source": [
    "telecom_data1 = telecom_data.na.drop()"
   ]
  },
  {
   "cell_type": "code",
   "execution_count": 381,
   "id": "8188b5d9",
   "metadata": {},
   "outputs": [],
   "source": [
    "from pyspark.sql.types import FloatType, IntegerType\n",
    "churn_data = telecom_data1.withColumn(\"Churn\", regexp_replace('Churn','Yes',\"0\"))\n",
    "churn_data = churn_data.withColumn(\"Churn\", regexp_replace('Churn','No',\"1\"))\n",
    "churn_data = churn_data.withColumn('Churn', col('Churn').cast(IntegerType()))\n",
    "churn_data = churn_data.withColumn('TotalCharges', col('TotalCharges').cast(FloatType()))\n"
   ]
  },
  {
   "cell_type": "code",
   "execution_count": 382,
   "id": "ced7def9",
   "metadata": {},
   "outputs": [
    {
     "name": "stdout",
     "output_type": "stream",
     "text": [
      "root\n",
      " |-- customerID: string (nullable = true)\n",
      " |-- gender: string (nullable = true)\n",
      " |-- SeniorCitizen: integer (nullable = true)\n",
      " |-- Partner: string (nullable = true)\n",
      " |-- Dependents: string (nullable = true)\n",
      " |-- tenure: integer (nullable = true)\n",
      " |-- PhoneService: string (nullable = true)\n",
      " |-- MultipleLines: string (nullable = true)\n",
      " |-- InternetService: string (nullable = true)\n",
      " |-- OnlineSecurity: string (nullable = true)\n",
      " |-- OnlineBackup: string (nullable = true)\n",
      " |-- DeviceProtection: string (nullable = true)\n",
      " |-- TechSupport: string (nullable = true)\n",
      " |-- StreamingTV: string (nullable = true)\n",
      " |-- StreamingMovies: string (nullable = true)\n",
      " |-- Contract: string (nullable = true)\n",
      " |-- PaperlessBilling: string (nullable = true)\n",
      " |-- PaymentMethod: string (nullable = true)\n",
      " |-- MonthlyCharges: double (nullable = true)\n",
      " |-- TotalCharges: float (nullable = true)\n",
      " |-- Churn: integer (nullable = true)\n",
      "\n"
     ]
    }
   ],
   "source": [
    "churn_data.printSchema()"
   ]
  },
  {
   "cell_type": "code",
   "execution_count": 383,
   "id": "82bceddc",
   "metadata": {},
   "outputs": [],
   "source": [
    "from pyspark.ml.feature import StringIndexer, OneHotEncoderEstimator , VectorAssembler\n",
    "from pyspark.ml import Pipeline"
   ]
  },
  {
   "cell_type": "code",
   "execution_count": 384,
   "id": "1ce8e21f",
   "metadata": {},
   "outputs": [
    {
     "name": "stdout",
     "output_type": "stream",
     "text": [
      "['customerID', 'gender', 'SeniorCitizen', 'Partner', 'Dependents', 'tenure', 'PhoneService', 'MultipleLines', 'InternetService', 'OnlineSecurity', 'OnlineBackup', 'DeviceProtection', 'TechSupport', 'StreamingTV', 'StreamingMovies', 'Contract', 'PaperlessBilling', 'PaymentMethod', 'MonthlyCharges', 'TotalCharges', 'Churn']\n"
     ]
    }
   ],
   "source": [
    "print(churn_data.columns)"
   ]
  },
  {
   "cell_type": "code",
   "execution_count": 385,
   "id": "37ca185e",
   "metadata": {},
   "outputs": [],
   "source": [
    "categorical_cols = ['gender','SeniorCitizen','Partner','Dependents',\\\n",
    "                    'PhoneService','MultipleLines','InternetService','OnlineSecurity',\\\n",
    "                    'OnlineBackup','DeviceProtection','TechSupport','StreamingTV','StreamingMovies',\\\n",
    "                    'Contract','PaperlessBilling','PaymentMethod']\n",
    "#use stringIndexer to convert categorical column to numerical indexes\n",
    "stages = []\n",
    "for catcols in categorical_cols:\n",
    "    stringindexer = StringIndexer(inputCol=catcols, outputCol=catcols+\"_Index\")\n",
    "    onehotencoder = OneHotEncoderEstimator(inputCols=[stringindexer.getOutputCol()], \n",
    "                                           outputCols=[catcols+\"classVec\"])\n",
    "    stages += [stringindexer, onehotencoder]"
   ]
  },
  {
   "cell_type": "code",
   "execution_count": 386,
   "id": "6a93a2d5",
   "metadata": {},
   "outputs": [],
   "source": [
    "numeric_cols = ['tenure','MonthlyCharges', 'TotalCharges']\n",
    "inputs = [c + 'classVec' for c in categorical_cols] + numeric_cols\n",
    "assembler = VectorAssembler(inputCols=inputs, outputCol='features')\n",
    "stages+=[assembler]"
   ]
  },
  {
   "cell_type": "code",
   "execution_count": 387,
   "id": "b7556557",
   "metadata": {},
   "outputs": [],
   "source": [
    "# label_stringIdx = StringIndexer(inputCol='Churn', outputCol='label')\n",
    "# stages += [label_stringIdx] "
   ]
  },
  {
   "cell_type": "code",
   "execution_count": 388,
   "id": "040fc2a5",
   "metadata": {},
   "outputs": [
    {
     "name": "stdout",
     "output_type": "stream",
     "text": [
      "[StringIndexer_9da55f0d9b59, OneHotEncoderEstimator_b1c7c72d966f, StringIndexer_74d49faad6d3, OneHotEncoderEstimator_ecf506e5ffa4, StringIndexer_1f15dd1a4612, OneHotEncoderEstimator_40407a0b4566, StringIndexer_29bea8e13a90, OneHotEncoderEstimator_7cc511d99591, StringIndexer_968a8cb3804e, OneHotEncoderEstimator_21b70b7e2b49, StringIndexer_5055b85e4e7a, OneHotEncoderEstimator_313cd9d4e916, StringIndexer_500643ddd6a3, OneHotEncoderEstimator_cc326893470a, StringIndexer_f632873858f2, OneHotEncoderEstimator_b339d18147cc, StringIndexer_dbe224106307, OneHotEncoderEstimator_c971b2c3bc94, StringIndexer_0aadad15f326, OneHotEncoderEstimator_bda7c3417ddd, StringIndexer_0b75e556edf1, OneHotEncoderEstimator_ff3b53a4c17a, StringIndexer_904b6f6baf9c, OneHotEncoderEstimator_1c9f171b61eb, StringIndexer_88abf0640c65, OneHotEncoderEstimator_c08182a74a4e, StringIndexer_d0479087bb00, OneHotEncoderEstimator_7526844f7365, StringIndexer_9c0d0fe0a2fd, OneHotEncoderEstimator_223eb6114be3, StringIndexer_79b7e210dd0d, OneHotEncoderEstimator_0d4d840dc56e, VectorAssembler_6726f464e140]\n"
     ]
    }
   ],
   "source": [
    "print(stages)"
   ]
  },
  {
   "cell_type": "code",
   "execution_count": 389,
   "id": "4384c9d6",
   "metadata": {
    "scrolled": true
   },
   "outputs": [
    {
     "name": "stdout",
     "output_type": "stream",
     "text": [
      "+-------------------------------------------------------------------------------------------------------------------------------------------------+-----+\n",
      "|features                                                                                                                                         |Churn|\n",
      "+-------------------------------------------------------------------------------------------------------------------------------------------------+-----+\n",
      "|(30,[1,3,8,9,12,13,15,17,19,21,23,24,27,28,29],[1.0,1.0,1.0,1.0,1.0,1.0,1.0,1.0,1.0,1.0,1.0,1.0,1.0,29.85,29.850000381469727])                   |1    |\n",
      "|(30,[0,1,2,3,4,5,8,10,11,14,15,17,19,25,27,28,29],[1.0,1.0,1.0,1.0,1.0,1.0,1.0,1.0,1.0,1.0,1.0,1.0,1.0,1.0,34.0,56.95,1889.5])                   |1    |\n",
      "|[1.0,1.0,1.0,1.0,1.0,1.0,0.0,0.0,1.0,0.0,1.0,0.0,1.0,1.0,0.0,1.0,0.0,1.0,0.0,1.0,0.0,1.0,0.0,1.0,0.0,1.0,0.0,2.0,53.85,108.1500015258789]        |0    |\n",
      "|(30,[0,1,2,3,8,10,11,14,16,17,19,26,27,28,29],[1.0,1.0,1.0,1.0,1.0,1.0,1.0,1.0,1.0,1.0,1.0,1.0,45.0,42.3,1840.75])                               |1    |\n",
      "|(30,[1,2,3,4,5,7,9,11,13,15,17,19,21,23,24,27,28,29],[1.0,1.0,1.0,1.0,1.0,1.0,1.0,1.0,1.0,1.0,1.0,1.0,1.0,1.0,1.0,2.0,70.7,151.64999389648438])  |0    |\n",
      "|(30,[1,2,3,4,6,7,9,11,14,15,18,20,21,23,24,27,28,29],[1.0,1.0,1.0,1.0,1.0,1.0,1.0,1.0,1.0,1.0,1.0,1.0,1.0,1.0,1.0,8.0,99.65,820.5])              |0    |\n",
      "|(30,[0,1,2,4,6,7,9,12,13,15,18,19,21,23,27,28,29],[1.0,1.0,1.0,1.0,1.0,1.0,1.0,1.0,1.0,1.0,1.0,1.0,1.0,1.0,22.0,89.1,1949.4000244140625])        |1    |\n",
      "|(30,[1,2,3,8,10,11,13,15,17,19,21,25,27,28,29],[1.0,1.0,1.0,1.0,1.0,1.0,1.0,1.0,1.0,1.0,1.0,1.0,10.0,29.75,301.8999938964844])                   |1    |\n",
      "|(30,[1,3,4,6,7,9,11,14,16,18,20,21,23,24,27,28,29],[1.0,1.0,1.0,1.0,1.0,1.0,1.0,1.0,1.0,1.0,1.0,1.0,1.0,1.0,28.0,104.8,3046.050048828125])       |0    |\n",
      "|(30,[0,1,2,4,5,8,10,12,13,15,17,19,26,27,28,29],[1.0,1.0,1.0,1.0,1.0,1.0,1.0,1.0,1.0,1.0,1.0,1.0,1.0,62.0,56.15,3487.949951171875])              |1    |\n",
      "|(30,[0,1,4,5,8,10,11,13,15,17,19,21,23,25,27,28,29],[1.0,1.0,1.0,1.0,1.0,1.0,1.0,1.0,1.0,1.0,1.0,1.0,1.0,1.0,13.0,49.95,587.4500122070312])      |1    |\n",
      "|(30,[0,1,2,3,4,5,22,27,28,29],[1.0,1.0,1.0,1.0,1.0,1.0,1.0,16.0,18.95,326.79998779296875])                                                       |1    |\n",
      "|(30,[0,1,3,4,6,7,9,11,14,15,18,20,27,28,29],[1.0,1.0,1.0,1.0,1.0,1.0,1.0,1.0,1.0,1.0,1.0,1.0,58.0,100.35,5681.10009765625])                      |1    |\n",
      "|[1.0,1.0,1.0,1.0,1.0,0.0,1.0,1.0,0.0,1.0,0.0,0.0,1.0,0.0,1.0,1.0,0.0,0.0,1.0,0.0,1.0,1.0,0.0,1.0,0.0,0.0,1.0,49.0,103.7,5036.2998046875]         |0    |\n",
      "|[1.0,1.0,1.0,1.0,1.0,1.0,0.0,1.0,0.0,0.0,1.0,1.0,0.0,0.0,1.0,0.0,1.0,0.0,1.0,0.0,1.0,1.0,0.0,1.0,1.0,0.0,0.0,25.0,105.5,2686.050048828125]       |1    |\n",
      "|(30,[1,4,6,7,10,12,14,16,18,20,22,27,28,29],[1.0,1.0,1.0,1.0,1.0,1.0,1.0,1.0,1.0,1.0,1.0,69.0,113.25,7895.14990234375])                          |1    |\n",
      "|(30,[1,2,3,4,5,25,27,28,29],[1.0,1.0,1.0,1.0,1.0,1.0,52.0,20.65,1022.9500122070312])                                                             |1    |\n",
      "|(30,[0,1,2,4,6,7,10,11,14,15,18,20,22,26,27,28,29],[1.0,1.0,1.0,1.0,1.0,1.0,1.0,1.0,1.0,1.0,1.0,1.0,1.0,1.0,71.0,106.7,7382.25])                 |1    |\n",
      "|(30,[1,4,5,8,9,11,14,16,17,19,21,27,28,29],[1.0,1.0,1.0,1.0,1.0,1.0,1.0,1.0,1.0,1.0,1.0,10.0,55.2,528.3499755859375])                            |0    |\n",
      "|(30,[1,2,3,4,5,7,9,12,14,15,17,20,21,23,24,27,28,29],[1.0,1.0,1.0,1.0,1.0,1.0,1.0,1.0,1.0,1.0,1.0,1.0,1.0,1.0,1.0,21.0,90.05,1862.9000244140625])|1    |\n",
      "+-------------------------------------------------------------------------------------------------------------------------------------------------+-----+\n",
      "only showing top 20 rows\n",
      "\n"
     ]
    }
   ],
   "source": [
    "pipeline = Pipeline(stages=stages)\n",
    "churn_data = pipeline.fit(churn_data).transform(churn_data)\n",
    "churn_data.select([\"features\",\"Churn\"]).show(truncate = False)\n"
   ]
  },
  {
   "cell_type": "markdown",
   "id": "59be8ab2",
   "metadata": {},
   "source": [
    "##### model split"
   ]
  },
  {
   "cell_type": "code",
   "execution_count": 390,
   "id": "b8d4d584",
   "metadata": {},
   "outputs": [],
   "source": [
    "train, test = churn_data.randomSplit([0.8, 0.2], seed = 2)"
   ]
  },
  {
   "cell_type": "code",
   "execution_count": 391,
   "id": "403dc5e7",
   "metadata": {
    "scrolled": false
   },
   "outputs": [
    {
     "name": "stdout",
     "output_type": "stream",
     "text": [
      "+----------+------+-------------+-------+----------+------+------------+----------------+---------------+--------------+------------+----------------+-----------+-----------+---------------+--------------+----------------+--------------------+--------------+------------+-----+------------+--------------+-------------------+---------------------+-------------+---------------+----------------+------------------+------------------+--------------------+-------------------+---------------------+---------------------+-----------------------+--------------------+----------------------+------------------+--------------------+----------------------+------------------------+-----------------+-------------------+-----------------+-------------------+---------------------+-----------------------+--------------+----------------+----------------------+------------------------+-------------------+---------------------+--------------------+\n",
      "|customerID|gender|SeniorCitizen|Partner|Dependents|tenure|PhoneService|   MultipleLines|InternetService|OnlineSecurity|OnlineBackup|DeviceProtection|TechSupport|StreamingTV|StreamingMovies|      Contract|PaperlessBilling|       PaymentMethod|MonthlyCharges|TotalCharges|Churn|gender_Index|genderclassVec|SeniorCitizen_Index|SeniorCitizenclassVec|Partner_Index|PartnerclassVec|Dependents_Index|DependentsclassVec|PhoneService_Index|PhoneServiceclassVec|MultipleLines_Index|MultipleLinesclassVec|InternetService_Index|InternetServiceclassVec|OnlineSecurity_Index|OnlineSecurityclassVec|OnlineBackup_Index|OnlineBackupclassVec|DeviceProtection_Index|DeviceProtectionclassVec|TechSupport_Index|TechSupportclassVec|StreamingTV_Index|StreamingTVclassVec|StreamingMovies_Index|StreamingMoviesclassVec|Contract_Index|ContractclassVec|PaperlessBilling_Index|PaperlessBillingclassVec|PaymentMethod_Index|PaymentMethodclassVec|            features|\n",
      "+----------+------+-------------+-------+----------+------+------------+----------------+---------------+--------------+------------+----------------+-----------+-----------+---------------+--------------+----------------+--------------------+--------------+------------+-----+------------+--------------+-------------------+---------------------+-------------+---------------+----------------+------------------+------------------+--------------------+-------------------+---------------------+---------------------+-----------------------+--------------------+----------------------+------------------+--------------------+----------------------+------------------------+-----------------+-------------------+-----------------+-------------------+---------------------+-----------------------+--------------+----------------+----------------------+------------------------+-------------------+---------------------+--------------------+\n",
      "|0002-ORFBO|Female|            0|    Yes|       Yes|     9|         Yes|              No|            DSL|            No|         Yes|              No|        Yes|        Yes|             No|      One year|             Yes|        Mailed check|          65.6|       593.3|    1|         1.0|     (1,[],[])|                0.0|        (1,[0],[1.0])|          1.0|      (1,[],[])|             1.0|         (1,[],[])|               0.0|       (1,[0],[1.0])|                0.0|        (2,[0],[1.0])|                  1.0|          (2,[1],[1.0])|                 0.0|         (2,[0],[1.0])|               1.0|       (2,[1],[1.0])|                   0.0|           (2,[0],[1.0])|              1.0|      (2,[1],[1.0])|              1.0|      (2,[1],[1.0])|                  0.0|          (2,[0],[1.0])|           2.0|       (2,[],[])|                   0.0|           (1,[0],[1.0])|                1.0|        (3,[1],[1.0])|(30,[1,4,5,8,9,12...|\n",
      "|0003-MKNFE|  Male|            0|     No|        No|     9|         Yes|             Yes|            DSL|            No|          No|              No|         No|         No|            Yes|Month-to-month|              No|        Mailed check|          59.9|       542.4|    1|         0.0| (1,[0],[1.0])|                0.0|        (1,[0],[1.0])|          0.0|  (1,[0],[1.0])|             0.0|     (1,[0],[1.0])|               0.0|       (1,[0],[1.0])|                1.0|        (2,[1],[1.0])|                  1.0|          (2,[1],[1.0])|                 0.0|         (2,[0],[1.0])|               0.0|       (2,[0],[1.0])|                   0.0|           (2,[0],[1.0])|              0.0|      (2,[0],[1.0])|              0.0|      (2,[0],[1.0])|                  1.0|          (2,[1],[1.0])|           0.0|   (2,[0],[1.0])|                   1.0|               (1,[],[])|                1.0|        (3,[1],[1.0])|(30,[0,1,2,3,4,6,...|\n",
      "|0004-TLHLJ|  Male|            0|     No|        No|     4|         Yes|              No|    Fiber optic|            No|          No|             Yes|         No|         No|             No|Month-to-month|             Yes|    Electronic check|          73.9|      280.85|    0|         0.0| (1,[0],[1.0])|                0.0|        (1,[0],[1.0])|          0.0|  (1,[0],[1.0])|             0.0|     (1,[0],[1.0])|               0.0|       (1,[0],[1.0])|                0.0|        (2,[0],[1.0])|                  0.0|          (2,[0],[1.0])|                 0.0|         (2,[0],[1.0])|               0.0|       (2,[0],[1.0])|                   1.0|           (2,[1],[1.0])|              0.0|      (2,[0],[1.0])|              0.0|      (2,[0],[1.0])|                  0.0|          (2,[0],[1.0])|           0.0|   (2,[0],[1.0])|                   0.0|           (1,[0],[1.0])|                0.0|        (3,[0],[1.0])|[1.0,1.0,1.0,1.0,...|\n",
      "|0011-IGKFF|  Male|            1|    Yes|        No|    13|         Yes|              No|    Fiber optic|            No|         Yes|             Yes|         No|        Yes|            Yes|Month-to-month|             Yes|    Electronic check|          98.0|     1237.85|    0|         0.0| (1,[0],[1.0])|                1.0|            (1,[],[])|          1.0|      (1,[],[])|             0.0|     (1,[0],[1.0])|               0.0|       (1,[0],[1.0])|                0.0|        (2,[0],[1.0])|                  0.0|          (2,[0],[1.0])|                 0.0|         (2,[0],[1.0])|               1.0|       (2,[1],[1.0])|                   1.0|           (2,[1],[1.0])|              0.0|      (2,[0],[1.0])|              1.0|      (2,[1],[1.0])|                  1.0|          (2,[1],[1.0])|           0.0|   (2,[0],[1.0])|                   0.0|           (1,[0],[1.0])|                0.0|        (3,[0],[1.0])|(30,[0,3,4,5,7,9,...|\n",
      "|0013-EXCHZ|Female|            1|    Yes|        No|     3|         Yes|              No|    Fiber optic|            No|          No|              No|        Yes|        Yes|             No|Month-to-month|             Yes|        Mailed check|          83.9|       267.4|    0|         1.0|     (1,[],[])|                1.0|            (1,[],[])|          1.0|      (1,[],[])|             0.0|     (1,[0],[1.0])|               0.0|       (1,[0],[1.0])|                0.0|        (2,[0],[1.0])|                  0.0|          (2,[0],[1.0])|                 0.0|         (2,[0],[1.0])|               0.0|       (2,[0],[1.0])|                   0.0|           (2,[0],[1.0])|              1.0|      (2,[1],[1.0])|              1.0|      (2,[1],[1.0])|                  0.0|          (2,[0],[1.0])|           0.0|   (2,[0],[1.0])|                   0.0|           (1,[0],[1.0])|                1.0|        (3,[1],[1.0])|(30,[3,4,5,7,9,11...|\n",
      "|0013-MHZWF|Female|            0|     No|       Yes|     9|         Yes|              No|            DSL|            No|          No|              No|        Yes|        Yes|            Yes|Month-to-month|             Yes|Credit card (auto...|          69.4|      571.45|    1|         1.0|     (1,[],[])|                0.0|        (1,[0],[1.0])|          0.0|  (1,[0],[1.0])|             1.0|         (1,[],[])|               0.0|       (1,[0],[1.0])|                0.0|        (2,[0],[1.0])|                  1.0|          (2,[1],[1.0])|                 0.0|         (2,[0],[1.0])|               0.0|       (2,[0],[1.0])|                   0.0|           (2,[0],[1.0])|              1.0|      (2,[1],[1.0])|              1.0|      (2,[1],[1.0])|                  1.0|          (2,[1],[1.0])|           0.0|   (2,[0],[1.0])|                   0.0|           (1,[0],[1.0])|                3.0|            (3,[],[])|(30,[1,2,4,5,8,9,...|\n",
      "|0014-BMAQU|  Male|            0|    Yes|        No|    63|         Yes|             Yes|    Fiber optic|           Yes|          No|              No|        Yes|         No|             No|      Two year|             Yes|Credit card (auto...|         84.65|      5377.8|    1|         0.0| (1,[0],[1.0])|                0.0|        (1,[0],[1.0])|          1.0|      (1,[],[])|             0.0|     (1,[0],[1.0])|               0.0|       (1,[0],[1.0])|                1.0|        (2,[1],[1.0])|                  0.0|          (2,[0],[1.0])|                 1.0|         (2,[1],[1.0])|               0.0|       (2,[0],[1.0])|                   0.0|           (2,[0],[1.0])|              1.0|      (2,[1],[1.0])|              0.0|      (2,[0],[1.0])|                  0.0|          (2,[0],[1.0])|           1.0|   (2,[1],[1.0])|                   0.0|           (1,[0],[1.0])|                3.0|            (3,[],[])|(30,[0,1,3,4,6,7,...|\n",
      "|0015-UOCOJ|Female|            1|     No|        No|     7|         Yes|              No|            DSL|           Yes|          No|              No|         No|         No|             No|Month-to-month|             Yes|    Electronic check|          48.2|      340.35|    1|         1.0|     (1,[],[])|                1.0|            (1,[],[])|          0.0|  (1,[0],[1.0])|             0.0|     (1,[0],[1.0])|               0.0|       (1,[0],[1.0])|                0.0|        (2,[0],[1.0])|                  1.0|          (2,[1],[1.0])|                 1.0|         (2,[1],[1.0])|               0.0|       (2,[0],[1.0])|                   0.0|           (2,[0],[1.0])|              0.0|      (2,[0],[1.0])|              0.0|      (2,[0],[1.0])|                  0.0|          (2,[0],[1.0])|           0.0|   (2,[0],[1.0])|                   0.0|           (1,[0],[1.0])|                0.0|        (3,[0],[1.0])|(30,[2,3,4,5,8,10...|\n",
      "|0016-QLJIS|Female|            0|    Yes|       Yes|    65|         Yes|             Yes|            DSL|           Yes|         Yes|             Yes|        Yes|        Yes|            Yes|      Two year|             Yes|        Mailed check|         90.45|      5957.9|    1|         1.0|     (1,[],[])|                0.0|        (1,[0],[1.0])|          1.0|      (1,[],[])|             1.0|         (1,[],[])|               0.0|       (1,[0],[1.0])|                1.0|        (2,[1],[1.0])|                  1.0|          (2,[1],[1.0])|                 1.0|         (2,[1],[1.0])|               1.0|       (2,[1],[1.0])|                   1.0|           (2,[1],[1.0])|              1.0|      (2,[1],[1.0])|              1.0|      (2,[1],[1.0])|                  1.0|          (2,[1],[1.0])|           1.0|   (2,[1],[1.0])|                   0.0|           (1,[0],[1.0])|                1.0|        (3,[1],[1.0])|(30,[1,4,6,8,10,1...|\n",
      "|0017-DINOC|  Male|            0|     No|        No|    54|          No|No phone service|            DSL|           Yes|          No|              No|        Yes|        Yes|             No|      Two year|              No|Credit card (auto...|          45.2|     2460.55|    1|         0.0| (1,[0],[1.0])|                0.0|        (1,[0],[1.0])|          0.0|  (1,[0],[1.0])|             0.0|     (1,[0],[1.0])|               1.0|           (1,[],[])|                2.0|            (2,[],[])|                  1.0|          (2,[1],[1.0])|                 1.0|         (2,[1],[1.0])|               0.0|       (2,[0],[1.0])|                   0.0|           (2,[0],[1.0])|              1.0|      (2,[1],[1.0])|              1.0|      (2,[1],[1.0])|                  0.0|          (2,[0],[1.0])|           1.0|   (2,[1],[1.0])|                   1.0|               (1,[],[])|                3.0|            (3,[],[])|(30,[0,1,2,3,8,10...|\n",
      "|0018-NYROU|Female|            0|    Yes|        No|     5|         Yes|              No|    Fiber optic|            No|          No|              No|         No|         No|             No|Month-to-month|             Yes|    Electronic check|         68.95|       351.5|    1|         1.0|     (1,[],[])|                0.0|        (1,[0],[1.0])|          1.0|      (1,[],[])|             0.0|     (1,[0],[1.0])|               0.0|       (1,[0],[1.0])|                0.0|        (2,[0],[1.0])|                  0.0|          (2,[0],[1.0])|                 0.0|         (2,[0],[1.0])|               0.0|       (2,[0],[1.0])|                   0.0|           (2,[0],[1.0])|              0.0|      (2,[0],[1.0])|              0.0|      (2,[0],[1.0])|                  0.0|          (2,[0],[1.0])|           0.0|   (2,[0],[1.0])|                   0.0|           (1,[0],[1.0])|                0.0|        (3,[0],[1.0])|(30,[1,3,4,5,7,9,...|\n",
      "|0019-EFAEP|Female|            0|     No|        No|    72|         Yes|             Yes|    Fiber optic|           Yes|         Yes|             Yes|         No|        Yes|             No|      Two year|             Yes|Bank transfer (au...|         101.3|     7261.25|    1|         1.0|     (1,[],[])|                0.0|        (1,[0],[1.0])|          0.0|  (1,[0],[1.0])|             0.0|     (1,[0],[1.0])|               0.0|       (1,[0],[1.0])|                1.0|        (2,[1],[1.0])|                  0.0|          (2,[0],[1.0])|                 1.0|         (2,[1],[1.0])|               1.0|       (2,[1],[1.0])|                   1.0|           (2,[1],[1.0])|              0.0|      (2,[0],[1.0])|              1.0|      (2,[1],[1.0])|                  0.0|          (2,[0],[1.0])|           1.0|   (2,[1],[1.0])|                   0.0|           (1,[0],[1.0])|                2.0|        (3,[2],[1.0])|(30,[1,2,3,4,6,7,...|\n",
      "|0019-GFNTW|Female|            0|     No|        No|    56|          No|No phone service|            DSL|           Yes|         Yes|             Yes|        Yes|         No|             No|      Two year|              No|Bank transfer (au...|         45.05|      2560.1|    1|         1.0|     (1,[],[])|                0.0|        (1,[0],[1.0])|          0.0|  (1,[0],[1.0])|             0.0|     (1,[0],[1.0])|               1.0|           (1,[],[])|                2.0|            (2,[],[])|                  1.0|          (2,[1],[1.0])|                 1.0|         (2,[1],[1.0])|               1.0|       (2,[1],[1.0])|                   1.0|           (2,[1],[1.0])|              1.0|      (2,[1],[1.0])|              0.0|      (2,[0],[1.0])|                  0.0|          (2,[0],[1.0])|           1.0|   (2,[1],[1.0])|                   1.0|               (1,[],[])|                2.0|        (3,[2],[1.0])|(30,[1,2,3,8,10,1...|\n",
      "|0020-INWCK|Female|            0|    Yes|       Yes|    71|         Yes|             Yes|    Fiber optic|            No|         Yes|             Yes|         No|         No|            Yes|      Two year|             Yes|Credit card (auto...|         95.75|      6849.4|    1|         1.0|     (1,[],[])|                0.0|        (1,[0],[1.0])|          1.0|      (1,[],[])|             1.0|         (1,[],[])|               0.0|       (1,[0],[1.0])|                1.0|        (2,[1],[1.0])|                  0.0|          (2,[0],[1.0])|                 0.0|         (2,[0],[1.0])|               1.0|       (2,[1],[1.0])|                   1.0|           (2,[1],[1.0])|              0.0|      (2,[0],[1.0])|              0.0|      (2,[0],[1.0])|                  1.0|          (2,[1],[1.0])|           1.0|   (2,[1],[1.0])|                   0.0|           (1,[0],[1.0])|                3.0|            (3,[],[])|(30,[1,4,6,7,9,12...|\n",
      "|0020-JDNXP|Female|            0|    Yes|       Yes|    34|          No|No phone service|            DSL|           Yes|          No|             Yes|        Yes|        Yes|            Yes|      One year|              No|        Mailed check|         61.25|      1993.2|    1|         1.0|     (1,[],[])|                0.0|        (1,[0],[1.0])|          1.0|      (1,[],[])|             1.0|         (1,[],[])|               1.0|           (1,[],[])|                2.0|            (2,[],[])|                  1.0|          (2,[1],[1.0])|                 1.0|         (2,[1],[1.0])|               0.0|       (2,[0],[1.0])|                   1.0|           (2,[1],[1.0])|              1.0|      (2,[1],[1.0])|              1.0|      (2,[1],[1.0])|                  1.0|          (2,[1],[1.0])|           2.0|       (2,[],[])|                   1.0|               (1,[],[])|                1.0|        (3,[1],[1.0])|(30,[1,8,10,11,14...|\n",
      "|0021-IKXGC|Female|            1|     No|        No|     1|         Yes|             Yes|    Fiber optic|            No|          No|              No|         No|         No|             No|Month-to-month|             Yes|    Electronic check|          72.1|        72.1|    1|         1.0|     (1,[],[])|                1.0|            (1,[],[])|          0.0|  (1,[0],[1.0])|             0.0|     (1,[0],[1.0])|               0.0|       (1,[0],[1.0])|                1.0|        (2,[1],[1.0])|                  0.0|          (2,[0],[1.0])|                 0.0|         (2,[0],[1.0])|               0.0|       (2,[0],[1.0])|                   0.0|           (2,[0],[1.0])|              0.0|      (2,[0],[1.0])|              0.0|      (2,[0],[1.0])|                  0.0|          (2,[0],[1.0])|           0.0|   (2,[0],[1.0])|                   0.0|           (1,[0],[1.0])|                0.0|        (3,[0],[1.0])|(30,[2,3,4,6,7,9,...|\n",
      "|0022-TCJCI|  Male|            1|     No|        No|    45|         Yes|              No|            DSL|           Yes|          No|             Yes|         No|         No|            Yes|      One year|              No|Credit card (auto...|          62.7|      2791.5|    0|         0.0| (1,[0],[1.0])|                1.0|            (1,[],[])|          0.0|  (1,[0],[1.0])|             0.0|     (1,[0],[1.0])|               0.0|       (1,[0],[1.0])|                0.0|        (2,[0],[1.0])|                  1.0|          (2,[1],[1.0])|                 1.0|         (2,[1],[1.0])|               0.0|       (2,[0],[1.0])|                   1.0|           (2,[1],[1.0])|              0.0|      (2,[0],[1.0])|              0.0|      (2,[0],[1.0])|                  1.0|          (2,[1],[1.0])|           2.0|       (2,[],[])|                   1.0|               (1,[],[])|                3.0|            (3,[],[])|(30,[0,2,3,4,5,8,...|\n",
      "|0023-HGHWL|  Male|            1|     No|        No|     1|          No|No phone service|            DSL|            No|          No|              No|         No|         No|             No|Month-to-month|             Yes|    Electronic check|          25.1|        25.1|    0|         0.0| (1,[0],[1.0])|                1.0|            (1,[],[])|          0.0|  (1,[0],[1.0])|             0.0|     (1,[0],[1.0])|               1.0|           (1,[],[])|                2.0|            (2,[],[])|                  1.0|          (2,[1],[1.0])|                 0.0|         (2,[0],[1.0])|               0.0|       (2,[0],[1.0])|                   0.0|           (2,[0],[1.0])|              0.0|      (2,[0],[1.0])|              0.0|      (2,[0],[1.0])|                  0.0|          (2,[0],[1.0])|           0.0|   (2,[0],[1.0])|                   0.0|           (1,[0],[1.0])|                0.0|        (3,[0],[1.0])|(30,[0,2,3,8,9,11...|\n",
      "|0023-XUOPT|Female|            0|    Yes|        No|    13|         Yes|             Yes|    Fiber optic|            No|         Yes|             Yes|         No|        Yes|             No|Month-to-month|              No|    Electronic check|          94.1|      1215.6|    0|         1.0|     (1,[],[])|                0.0|        (1,[0],[1.0])|          1.0|      (1,[],[])|             0.0|     (1,[0],[1.0])|               0.0|       (1,[0],[1.0])|                1.0|        (2,[1],[1.0])|                  0.0|          (2,[0],[1.0])|                 0.0|         (2,[0],[1.0])|               1.0|       (2,[1],[1.0])|                   1.0|           (2,[1],[1.0])|              0.0|      (2,[0],[1.0])|              1.0|      (2,[1],[1.0])|                  0.0|          (2,[0],[1.0])|           0.0|   (2,[0],[1.0])|                   1.0|               (1,[],[])|                0.0|        (3,[0],[1.0])|(30,[1,3,4,6,7,9,...|\n",
      "|0027-KWYKW|Female|            0|    Yes|       Yes|    23|         Yes|             Yes|    Fiber optic|            No|          No|              No|         No|        Yes|             No|Month-to-month|             Yes|    Electronic check|         83.75|     1849.95|    1|         1.0|     (1,[],[])|                0.0|        (1,[0],[1.0])|          1.0|      (1,[],[])|             1.0|         (1,[],[])|               0.0|       (1,[0],[1.0])|                1.0|        (2,[1],[1.0])|                  0.0|          (2,[0],[1.0])|                 0.0|         (2,[0],[1.0])|               0.0|       (2,[0],[1.0])|                   0.0|           (2,[0],[1.0])|              0.0|      (2,[0],[1.0])|              1.0|      (2,[1],[1.0])|                  0.0|          (2,[0],[1.0])|           0.0|   (2,[0],[1.0])|                   0.0|           (1,[0],[1.0])|                0.0|        (3,[0],[1.0])|(30,[1,4,6,7,9,11...|\n",
      "+----------+------+-------------+-------+----------+------+------------+----------------+---------------+--------------+------------+----------------+-----------+-----------+---------------+--------------+----------------+--------------------+--------------+------------+-----+------------+--------------+-------------------+---------------------+-------------+---------------+----------------+------------------+------------------+--------------------+-------------------+---------------------+---------------------+-----------------------+--------------------+----------------------+------------------+--------------------+----------------------+------------------------+-----------------+-------------------+-----------------+-------------------+---------------------+-----------------------+--------------+----------------+----------------------+------------------------+-------------------+---------------------+--------------------+\n",
      "only showing top 20 rows\n",
      "\n"
     ]
    }
   ],
   "source": [
    "train.show()"
   ]
  },
  {
   "cell_type": "code",
   "execution_count": 392,
   "id": "0975f10e",
   "metadata": {},
   "outputs": [
    {
     "data": {
      "text/plain": [
       "DataFrame[features: vector, Churn: int]"
      ]
     },
     "execution_count": 392,
     "metadata": {},
     "output_type": "execute_result"
    }
   ],
   "source": [
    "train.select(['features', 'Churn'])"
   ]
  },
  {
   "cell_type": "markdown",
   "id": "b781549e",
   "metadata": {},
   "source": [
    "##### Decision tree classifier"
   ]
  },
  {
   "cell_type": "code",
   "execution_count": 404,
   "id": "ba758a02",
   "metadata": {},
   "outputs": [],
   "source": [
    "from pyspark.ml.classification import DecisionTreeClassifier, LogisticRegressionModel, RandomForestClassificationModel\n",
    "tree = DecisionTreeClassifier(featuresCol = 'features', labelCol = 'Churn')\n",
    "decision_model = tree.fit(train)"
   ]
  },
  {
   "cell_type": "code",
   "execution_count": 405,
   "id": "064ea02f",
   "metadata": {},
   "outputs": [],
   "source": [
    "#prediction on test data\n",
    "predictions = decision_model.transform(test)"
   ]
  },
  {
   "cell_type": "code",
   "execution_count": 406,
   "id": "7f139cd0",
   "metadata": {
    "scrolled": true
   },
   "outputs": [
    {
     "name": "stdout",
     "output_type": "stream",
     "text": [
      "+-------------------------------------------------------------------------------------------------------------------------------------------+-----+----------------------------------------+----------+\n",
      "|features                                                                                                                                   |Churn|probability                             |prediction|\n",
      "+-------------------------------------------------------------------------------------------------------------------------------------------+-----+----------------------------------------+----------+\n",
      "|(30,[3,4,5,7,10,12,14,16,18,20,22,23,26,27,28,29],[1.0,1.0,1.0,1.0,1.0,1.0,1.0,1.0,1.0,1.0,1.0,1.0,1.0,71.0,109.7,7904.25])                |1    |[0.0682261208576998,0.9317738791423001] |1.0       |\n",
      "|(30,[1,4,6,7,10,12,14,16,18,20,22,23,27,28,29],[1.0,1.0,1.0,1.0,1.0,1.0,1.0,1.0,1.0,1.0,1.0,1.0,72.0,116.8,8456.75])                       |1    |[0.0682261208576998,0.9317738791423001] |1.0       |\n",
      "|(30,[3,4,6,24,27,28,29],[1.0,1.0,1.0,1.0,50.0,25.2,1306.300048828125])                                                                     |1    |[0.0682261208576998,0.9317738791423001] |1.0       |\n",
      "|(30,[0,1,4,5,22,27,28,29],[1.0,1.0,1.0,1.0,1.0,54.0,20.4,1090.5999755859375])                                                              |1    |[0.0682261208576998,0.9317738791423001] |1.0       |\n",
      "|(30,[0,1,4,5,7,9,11,13,15,18,20,27,28,29],[1.0,1.0,1.0,1.0,1.0,1.0,1.0,1.0,1.0,1.0,1.0,37.0,91.2,3247.550048828125])                       |1    |[0.0682261208576998,0.9317738791423001] |1.0       |\n",
      "|(30,[1,2,4,6,22,23,24,27,28,29],[1.0,1.0,1.0,1.0,1.0,1.0,1.0,43.0,25.1,1070.1500244140625])                                                |1    |[0.0682261208576998,0.9317738791423001] |1.0       |\n",
      "|(30,[0,1,4,5,8,10,12,14,15,17,19,23,26,27,28,29],[1.0,1.0,1.0,1.0,1.0,1.0,1.0,1.0,1.0,1.0,1.0,1.0,1.0,25.0,61.6,1611.0])                   |1    |[0.0682261208576998,0.9317738791423001] |1.0       |\n",
      "|(30,[0,1,2,8,10,12,14,16,17,19,21,23,25,27,28,29],[1.0,1.0,1.0,1.0,1.0,1.0,1.0,1.0,1.0,1.0,1.0,1.0,1.0,29.0,45.0,1242.449951171875])       |1    |[0.1844888366627497,0.8155111633372503] |1.0       |\n",
      "|(30,[1,4,6,7,9,11,13,16,18,20,21,23,27,28,29],[1.0,1.0,1.0,1.0,1.0,1.0,1.0,1.0,1.0,1.0,1.0,1.0,39.0,99.95,3767.39990234375])               |1    |[0.39429928741092635,0.6057007125890737]|1.0       |\n",
      "|[1.0,1.0,1.0,1.0,1.0,0.0,1.0,0.0,1.0,0.0,1.0,1.0,0.0,1.0,0.0,1.0,0.0,1.0,0.0,0.0,1.0,1.0,0.0,1.0,0.0,1.0,0.0,30.0,64.5,1888.449951171875]  |1    |[0.1844888366627497,0.8155111633372503] |1.0       |\n",
      "|[1.0,1.0,1.0,1.0,1.0,0.0,1.0,0.0,1.0,1.0,0.0,0.0,1.0,0.0,1.0,1.0,0.0,1.0,0.0,0.0,1.0,1.0,0.0,1.0,0.0,0.0,1.0,16.0,71.4,1212.0999755859375] |1    |[0.1844888366627497,0.8155111633372503] |1.0       |\n",
      "|(30,[0,1,2,3,4,5,21,23,24,27,28,29],[1.0,1.0,1.0,1.0,1.0,1.0,1.0,1.0,1.0,1.0,19.85,19.850000381469727])                                    |0    |[0.30223880597014924,0.6977611940298507]|1.0       |\n",
      "|(30,[1,2,3,4,6,7,9,12,14,15,18,20,21,24,27,28,29],[1.0,1.0,1.0,1.0,1.0,1.0,1.0,1.0,1.0,1.0,1.0,1.0,1.0,1.0,33.0,107.55,3645.5])            |1    |[0.39429928741092635,0.6057007125890737]|1.0       |\n",
      "|[1.0,1.0,1.0,1.0,1.0,1.0,0.0,1.0,0.0,1.0,0.0,1.0,0.0,0.0,1.0,0.0,1.0,0.0,1.0,0.0,1.0,1.0,0.0,1.0,1.0,0.0,0.0,15.0,101.35,1553.949951171875]|0    |[0.6267605633802817,0.3732394366197183] |0.0       |\n",
      "|(30,[0,1,2,3,4,6,7,9,12,13,15,17,20,21,27,28,29],[1.0,1.0,1.0,1.0,1.0,1.0,1.0,1.0,1.0,1.0,1.0,1.0,1.0,1.0,66.0,89.4,5976.89990234375])     |1    |[0.39429928741092635,0.6057007125890737]|1.0       |\n",
      "|(30,[2,3,4,6,7,9,12,14,15,17,19,21,23,26,27,28,29],[1.0,1.0,1.0,1.0,1.0,1.0,1.0,1.0,1.0,1.0,1.0,1.0,1.0,1.0,27.0,86.45,2401.050048828125]) |1    |[0.39429928741092635,0.6057007125890737]|1.0       |\n",
      "|(30,[1,2,3,4,5,22,23,26,27,28,29],[1.0,1.0,1.0,1.0,1.0,1.0,1.0,1.0,24.0,19.55,470.20001220703125])                                         |1    |[0.0682261208576998,0.9317738791423001] |1.0       |\n",
      "|(30,[0,3,4,6,7,10,11,14,16,18,20,21,23,26,27,28,29],[1.0,1.0,1.0,1.0,1.0,1.0,1.0,1.0,1.0,1.0,1.0,1.0,1.0,1.0,33.0,109.9,3694.699951171875])|1    |[0.39429928741092635,0.6057007125890737]|1.0       |\n",
      "|(30,[1,4,6,7,10,11,14,15,17,19,26,27,28,29],[1.0,1.0,1.0,1.0,1.0,1.0,1.0,1.0,1.0,1.0,1.0,69.0,84.45,5848.60009765625])                     |1    |[0.0682261208576998,0.9317738791423001] |1.0       |\n",
      "|(30,[1,4,5,21,26,27,28,29],[1.0,1.0,1.0,1.0,1.0,12.0,19.4,198.10000610351562])                                                             |1    |[0.1844888366627497,0.8155111633372503] |1.0       |\n",
      "+-------------------------------------------------------------------------------------------------------------------------------------------+-----+----------------------------------------+----------+\n",
      "only showing top 20 rows\n",
      "\n"
     ]
    }
   ],
   "source": [
    "predictions.select(['features','Churn','probability','prediction']).show(truncate = False)"
   ]
  },
  {
   "cell_type": "code",
   "execution_count": 407,
   "id": "a447858b",
   "metadata": {},
   "outputs": [],
   "source": [
    "from pyspark.ml.evaluation import MulticlassClassificationEvaluator\n",
    "evaluator = MulticlassClassificationEvaluator(labelCol=\"Churn\", predictionCol=\"prediction\",metricName=\"accuracy\")\n",
    "accuracy = evaluator.evaluate(predictions)"
   ]
  },
  {
   "cell_type": "code",
   "execution_count": 408,
   "id": "58536026",
   "metadata": {},
   "outputs": [
    {
     "data": {
      "text/plain": [
       "0.7941176470588235"
      ]
     },
     "execution_count": 408,
     "metadata": {},
     "output_type": "execute_result"
    }
   ],
   "source": [
    "accuracy"
   ]
  },
  {
   "cell_type": "markdown",
   "id": "7f01d1ec",
   "metadata": {},
   "source": [
    "#### Logistic Regression"
   ]
  },
  {
   "cell_type": "code",
   "execution_count": 409,
   "id": "dc4fd335",
   "metadata": {},
   "outputs": [],
   "source": [
    "logit = LogisticRegression(featuresCol='features', labelCol='Churn')\n",
    "logit_model = logit.fit(train)"
   ]
  },
  {
   "cell_type": "code",
   "execution_count": 410,
   "id": "19ff3f72",
   "metadata": {},
   "outputs": [],
   "source": [
    "predictions = logit_model.transform(test)"
   ]
  },
  {
   "cell_type": "code",
   "execution_count": 411,
   "id": "cc5635dc",
   "metadata": {},
   "outputs": [
    {
     "data": {
      "text/plain": [
       "0.8122171945701357"
      ]
     },
     "execution_count": 411,
     "metadata": {},
     "output_type": "execute_result"
    }
   ],
   "source": [
    "evaluator = MulticlassClassificationEvaluator(labelCol=\"Churn\", predictionCol=\"prediction\",metricName=\"accuracy\")\n",
    "accuracy = evaluator.evaluate(predictions)\n",
    "accuracy"
   ]
  },
  {
   "cell_type": "code",
   "execution_count": 412,
   "id": "f7b6d497",
   "metadata": {},
   "outputs": [],
   "source": [
    "rf_clf = RandomForestClassifier(featuresCol=\"features\", labelCol='Churn')\n",
    "rf_model = rf_clf.fit(train)"
   ]
  },
  {
   "cell_type": "code",
   "execution_count": 415,
   "id": "6dfbecaf",
   "metadata": {},
   "outputs": [],
   "source": [
    "predictions = rf_model.transform(test)"
   ]
  },
  {
   "cell_type": "code",
   "execution_count": 416,
   "id": "393d349d",
   "metadata": {},
   "outputs": [
    {
     "data": {
      "text/plain": [
       "0.8009049773755657"
      ]
     },
     "execution_count": 416,
     "metadata": {},
     "output_type": "execute_result"
    }
   ],
   "source": [
    "evaluator = MulticlassClassificationEvaluator(labelCol=\"Churn\", predictionCol=\"prediction\",metricName=\"accuracy\")\n",
    "accuracy = evaluator.evaluate(predictions)\n",
    "accuracy"
   ]
  },
  {
   "cell_type": "code",
   "execution_count": null,
   "id": "370ce6fd",
   "metadata": {},
   "outputs": [],
   "source": []
  }
 ],
 "metadata": {
  "kernelspec": {
   "display_name": "Python 3",
   "language": "python",
   "name": "python3"
  },
  "language_info": {
   "codemirror_mode": {
    "name": "ipython",
    "version": 3
   },
   "file_extension": ".py",
   "mimetype": "text/x-python",
   "name": "python",
   "nbconvert_exporter": "python",
   "pygments_lexer": "ipython3",
   "version": "3.6.9"
  }
 },
 "nbformat": 4,
 "nbformat_minor": 5
}
