{
 "cells": [
  {
   "cell_type": "code",
   "execution_count": 11,
   "id": "780f9d9d",
   "metadata": {},
   "outputs": [
    {
     "data": {
      "text/html": [
       "\n",
       "        <div>\n",
       "            <p><b>SparkContext</b></p>\n",
       "\n",
       "            <p><a href=\"http://10.0.2.15:4041\">Spark UI</a></p>\n",
       "\n",
       "            <dl>\n",
       "              <dt>Version</dt>\n",
       "                <dd><code>v2.4.8</code></dd>\n",
       "              <dt>Master</dt>\n",
       "                <dd><code>local[4]</code></dd>\n",
       "              <dt>AppName</dt>\n",
       "                <dd><code>PysparkSession</code></dd>\n",
       "            </dl>\n",
       "        </div>\n",
       "        "
      ],
      "text/plain": [
       "<SparkContext master=local[4] appName=PysparkSession>"
      ]
     },
     "execution_count": 11,
     "metadata": {},
     "output_type": "execute_result"
    }
   ],
   "source": [
    "sc"
   ]
  },
  {
   "cell_type": "code",
   "execution_count": 7,
   "id": "9766267a",
   "metadata": {},
   "outputs": [],
   "source": [
    "sc.stop()"
   ]
  },
  {
   "cell_type": "markdown",
   "id": "15f8dc61",
   "metadata": {},
   "source": [
    "#### 1. Create a new Spark Session Instance"
   ]
  },
  {
   "cell_type": "code",
   "execution_count": 15,
   "id": "c513e6b1",
   "metadata": {},
   "outputs": [
    {
     "data": {
      "text/html": [
       "\n",
       "            <div>\n",
       "                <p><b>SparkSession - hive</b></p>\n",
       "                \n",
       "        <div>\n",
       "            <p><b>SparkContext</b></p>\n",
       "\n",
       "            <p><a href=\"http://10.0.2.15:4041\">Spark UI</a></p>\n",
       "\n",
       "            <dl>\n",
       "              <dt>Version</dt>\n",
       "                <dd><code>v2.4.8</code></dd>\n",
       "              <dt>Master</dt>\n",
       "                <dd><code>local[4]</code></dd>\n",
       "              <dt>AppName</dt>\n",
       "                <dd><code>PysparkSession</code></dd>\n",
       "            </dl>\n",
       "        </div>\n",
       "        \n",
       "            </div>\n",
       "        "
      ],
      "text/plain": [
       "<pyspark.sql.session.SparkSession at 0x7fe259b21cc0>"
      ]
     },
     "execution_count": 15,
     "metadata": {},
     "output_type": "execute_result"
    }
   ],
   "source": [
    "spark"
   ]
  },
  {
   "cell_type": "code",
   "execution_count": 9,
   "id": "7e57079b",
   "metadata": {},
   "outputs": [],
   "source": [
    "from pyspark import SparkContext, SparkConf\n",
    "config = SparkConf().setAppName(\"PysparkSession\").setMaster(\"local[4]\")\n",
    "sc = SparkContext(conf = config)"
   ]
  },
  {
   "cell_type": "code",
   "execution_count": 14,
   "id": "d44761cc",
   "metadata": {},
   "outputs": [],
   "source": [
    "# spark session ()- \n",
    "from pyspark.sql import SparkSession\n",
    "spark = SparkSession.builder.appName(\"PysparkSession\").getOrCreate()"
   ]
  },
  {
   "cell_type": "code",
   "execution_count": 1,
   "id": "0ab35366",
   "metadata": {},
   "outputs": [],
   "source": [
    "!hdfs dfs -mkdir /flights"
   ]
  },
  {
   "cell_type": "code",
   "execution_count": 2,
   "id": "3a6bde0a",
   "metadata": {},
   "outputs": [],
   "source": [
    "!hdfs dfs -put /home/hadoop/Downloads/raw_flight_data.csv /flights"
   ]
  },
  {
   "cell_type": "code",
   "execution_count": 7,
   "id": "0ad2860c",
   "metadata": {},
   "outputs": [],
   "source": [
    "#inferSchema - it will read data based on the corresponding datatype\n",
    "flights_df = spark.read.csv(\"/flights/raw_flight_data.csv\", inferSchema=True, header = True)"
   ]
  },
  {
   "cell_type": "code",
   "execution_count": 8,
   "id": "eb932334",
   "metadata": {},
   "outputs": [
    {
     "data": {
      "text/plain": [
       "[Row(DayofMonth=19, DayOfWeek=5, Carrier='DL', OriginAirportID=11433, DestAirportID=13303, DepDelay=-3, ArrDelay=1),\n",
       " Row(DayofMonth=19, DayOfWeek=5, Carrier='DL', OriginAirportID=14869, DestAirportID=12478, DepDelay=0, ArrDelay=-8),\n",
       " Row(DayofMonth=19, DayOfWeek=5, Carrier='DL', OriginAirportID=14057, DestAirportID=14869, DepDelay=-4, ArrDelay=-15),\n",
       " Row(DayofMonth=19, DayOfWeek=5, Carrier='DL', OriginAirportID=15016, DestAirportID=11433, DepDelay=28, ArrDelay=24),\n",
       " Row(DayofMonth=19, DayOfWeek=5, Carrier='DL', OriginAirportID=11193, DestAirportID=12892, DepDelay=-6, ArrDelay=-11)]"
      ]
     },
     "execution_count": 8,
     "metadata": {},
     "output_type": "execute_result"
    }
   ],
   "source": [
    "flights_df.head(5)"
   ]
  },
  {
   "cell_type": "code",
   "execution_count": 9,
   "id": "bafc1285",
   "metadata": {
    "collapsed": true
   },
   "outputs": [
    {
     "name": "stdout",
     "output_type": "stream",
     "text": [
      "+----------+---------+-------+---------------+-------------+--------+--------+\n",
      "|DayofMonth|DayOfWeek|Carrier|OriginAirportID|DestAirportID|DepDelay|ArrDelay|\n",
      "+----------+---------+-------+---------------+-------------+--------+--------+\n",
      "|        19|        5|     DL|          11433|        13303|      -3|       1|\n",
      "|        19|        5|     DL|          14869|        12478|       0|      -8|\n",
      "|        19|        5|     DL|          14057|        14869|      -4|     -15|\n",
      "|        19|        5|     DL|          15016|        11433|      28|      24|\n",
      "|        19|        5|     DL|          11193|        12892|      -6|     -11|\n",
      "|        19|        5|     DL|          10397|        15016|      -1|     -19|\n",
      "|        19|        5|     DL|          15016|        10397|       0|      -1|\n",
      "|        19|        5|     DL|          10397|        14869|      15|      24|\n",
      "|        19|        5|     DL|          10397|        10423|      33|      34|\n",
      "|        19|        5|     DL|          11278|        10397|     323|     322|\n",
      "|        19|        5|     DL|          14107|        13487|      -7|     -13|\n",
      "|        19|        5|     DL|          11433|        11298|      22|      41|\n",
      "|        19|        5|     DL|          11298|        11433|      40|      20|\n",
      "|        19|        5|     DL|          11433|        12892|      -2|      -7|\n",
      "|        19|        5|     DL|          10397|        12451|      71|      75|\n",
      "|        19|        5|     DL|          12451|        10397|      75|      57|\n",
      "|        19|        5|     DL|          12953|        10397|      -1|      10|\n",
      "|        19|        5|     DL|          11433|        12953|      -3|     -10|\n",
      "|        19|        5|     DL|          10397|        14771|      31|      38|\n",
      "|        19|        5|     DL|          13204|        10397|       8|      25|\n",
      "+----------+---------+-------+---------------+-------------+--------+--------+\n",
      "only showing top 20 rows\n",
      "\n"
     ]
    }
   ],
   "source": [
    "flights_df.show()"
   ]
  },
  {
   "cell_type": "markdown",
   "id": "71cda822",
   "metadata": {},
   "source": [
    "#### Select\n",
    "    * To select specific column"
   ]
  },
  {
   "cell_type": "code",
   "execution_count": 10,
   "id": "78bceb1e",
   "metadata": {
    "collapsed": true
   },
   "outputs": [
    {
     "name": "stdout",
     "output_type": "stream",
     "text": [
      "+----------+-------+---------------+--------+\n",
      "|DayofMonth|Carrier|OriginAirportID|DepDelay|\n",
      "+----------+-------+---------------+--------+\n",
      "|        19|     DL|          11433|      -3|\n",
      "|        19|     DL|          14869|       0|\n",
      "|        19|     DL|          14057|      -4|\n",
      "|        19|     DL|          15016|      28|\n",
      "|        19|     DL|          11193|      -6|\n",
      "|        19|     DL|          10397|      -1|\n",
      "|        19|     DL|          15016|       0|\n",
      "|        19|     DL|          10397|      15|\n",
      "|        19|     DL|          10397|      33|\n",
      "|        19|     DL|          11278|     323|\n",
      "|        19|     DL|          14107|      -7|\n",
      "|        19|     DL|          11433|      22|\n",
      "|        19|     DL|          11298|      40|\n",
      "|        19|     DL|          11433|      -2|\n",
      "|        19|     DL|          10397|      71|\n",
      "|        19|     DL|          12451|      75|\n",
      "|        19|     DL|          12953|      -1|\n",
      "|        19|     DL|          11433|      -3|\n",
      "|        19|     DL|          10397|      31|\n",
      "|        19|     DL|          13204|       8|\n",
      "+----------+-------+---------------+--------+\n",
      "only showing top 20 rows\n",
      "\n"
     ]
    }
   ],
   "source": [
    "flights_df.select(['DayofMonth','Carrier','OriginAirportID','DepDelay']).show()"
   ]
  },
  {
   "cell_type": "code",
   "execution_count": 11,
   "id": "4f12c1df",
   "metadata": {
    "collapsed": true
   },
   "outputs": [
    {
     "name": "stdout",
     "output_type": "stream",
     "text": [
      "+-------+\n",
      "|Carrier|\n",
      "+-------+\n",
      "|     UA|\n",
      "|     AA|\n",
      "|     EV|\n",
      "|     B6|\n",
      "|     DL|\n",
      "|     OO|\n",
      "|     F9|\n",
      "|     YV|\n",
      "|     US|\n",
      "|     MQ|\n",
      "|     HA|\n",
      "|     AS|\n",
      "|     FL|\n",
      "|     VX|\n",
      "|     WN|\n",
      "|     9E|\n",
      "+-------+\n",
      "\n"
     ]
    }
   ],
   "source": [
    "flights_df.select(['Carrier']).distinct().show()"
   ]
  },
  {
   "cell_type": "markdown",
   "id": "11e00b06",
   "metadata": {},
   "source": [
    "#### 2. count() - Aggregate method to display count of carrier\n"
   ]
  },
  {
   "cell_type": "code",
   "execution_count": 13,
   "id": "a57e4382",
   "metadata": {},
   "outputs": [
    {
     "data": {
      "text/plain": [
       "16"
      ]
     },
     "execution_count": 13,
     "metadata": {},
     "output_type": "execute_result"
    }
   ],
   "source": [
    "flights_df.select(['Carrier']).distinct().count()"
   ]
  },
  {
   "cell_type": "markdown",
   "id": "ab6b42e6",
   "metadata": {},
   "source": [
    "#### where() :\n",
    "    * It is just like filter() method of RDD with boleean condition statements"
   ]
  },
  {
   "cell_type": "code",
   "execution_count": 14,
   "id": "c5581dee",
   "metadata": {
    "collapsed": true
   },
   "outputs": [
    {
     "name": "stdout",
     "output_type": "stream",
     "text": [
      "+----------+---------+-------+---------------+-------------+--------+--------+\n",
      "|DayofMonth|DayOfWeek|Carrier|OriginAirportID|DestAirportID|DepDelay|ArrDelay|\n",
      "+----------+---------+-------+---------------+-------------+--------+--------+\n",
      "|        19|        5|     DL|          15016|        11433|      28|      24|\n",
      "|        19|        5|     DL|          10397|        14869|      15|      24|\n",
      "|        19|        5|     DL|          10397|        10423|      33|      34|\n",
      "|        19|        5|     DL|          11278|        10397|     323|     322|\n",
      "|        19|        5|     DL|          11433|        11298|      22|      41|\n",
      "|        19|        5|     DL|          11298|        11433|      40|      20|\n",
      "|        19|        5|     DL|          10397|        12451|      71|      75|\n",
      "|        19|        5|     DL|          12451|        10397|      75|      57|\n",
      "|        19|        5|     DL|          10397|        14771|      31|      38|\n",
      "|        19|        5|     DL|          13204|        10397|       8|      25|\n",
      "|        19|        5|     DL|          12889|        13487|       7|      16|\n",
      "|        19|        5|     DL|          14027|        10397|      13|      25|\n",
      "|        19|        5|     DL|          13244|        10397|       4|      13|\n",
      "|        19|        5|     DL|          10397|        12892|      15|       7|\n",
      "|        19|        5|     DL|          14747|        14869|      15|      18|\n",
      "|        19|        5|     DL|          10423|        10397|      56|      49|\n",
      "|        20|        6|     DL|          10397|        11278|       2|       1|\n",
      "|        20|        6|     DL|          11278|        10397|      34|      38|\n",
      "|        20|        6|     DL|          11697|        12953|      20|       1|\n",
      "|        20|        6|     DL|          13487|        13198|      35|      26|\n",
      "+----------+---------+-------+---------------+-------------+--------+--------+\n",
      "only showing top 20 rows\n",
      "\n"
     ]
    }
   ],
   "source": [
    "flights_df.where((flights_df.DepDelay > 0) & (flights_df.ArrDelay > 0)).show()"
   ]
  },
  {
   "cell_type": "code",
   "execution_count": 15,
   "id": "667a9ac3",
   "metadata": {
    "collapsed": true
   },
   "outputs": [
    {
     "name": "stdout",
     "output_type": "stream",
     "text": [
      "+----------+---------+-------+---------------+-------------+--------+--------+\n",
      "|DayofMonth|DayOfWeek|Carrier|OriginAirportID|DestAirportID|DepDelay|ArrDelay|\n",
      "+----------+---------+-------+---------------+-------------+--------+--------+\n",
      "|        19|        5|     DL|          15016|        11433|      28|      24|\n",
      "|        19|        5|     DL|          10397|        14869|      15|      24|\n",
      "|        19|        5|     DL|          10397|        10423|      33|      34|\n",
      "|        19|        5|     DL|          11278|        10397|     323|     322|\n",
      "|        19|        5|     DL|          11433|        11298|      22|      41|\n",
      "|        19|        5|     DL|          11298|        11433|      40|      20|\n",
      "|        19|        5|     DL|          10397|        12451|      71|      75|\n",
      "|        19|        5|     DL|          12451|        10397|      75|      57|\n",
      "|        19|        5|     DL|          10397|        14771|      31|      38|\n",
      "|        19|        5|     DL|          13204|        10397|       8|      25|\n",
      "|        19|        5|     DL|          12889|        13487|       7|      16|\n",
      "|        19|        5|     DL|          14027|        10397|      13|      25|\n",
      "|        19|        5|     DL|          13244|        10397|       4|      13|\n",
      "|        19|        5|     DL|          10397|        12892|      15|       7|\n",
      "|        19|        5|     DL|          14747|        14869|      15|      18|\n",
      "|        19|        5|     DL|          10423|        10397|      56|      49|\n",
      "|        20|        6|     DL|          10397|        11278|       2|       1|\n",
      "|        20|        6|     DL|          11278|        10397|      34|      38|\n",
      "|        20|        6|     DL|          11697|        12953|      20|       1|\n",
      "|        20|        6|     DL|          13487|        13198|      35|      26|\n",
      "+----------+---------+-------+---------------+-------------+--------+--------+\n",
      "only showing top 20 rows\n",
      "\n"
     ]
    }
   ],
   "source": [
    "flights_df.filter((flights_df.DepDelay > 0) & (flights_df.ArrDelay > 0)).show()"
   ]
  },
  {
   "cell_type": "markdown",
   "id": "a6459298",
   "metadata": {},
   "source": [
    "#### 5. isin()\n",
    "    * Filter values by matching pattern"
   ]
  },
  {
   "cell_type": "code",
   "execution_count": 17,
   "id": "bf52efab",
   "metadata": {},
   "outputs": [
    {
     "name": "stdout",
     "output_type": "stream",
     "text": [
      "+----------+---------+-------+---------------+-------------+--------+--------+\n",
      "|DayofMonth|DayOfWeek|Carrier|OriginAirportID|DestAirportID|DepDelay|ArrDelay|\n",
      "+----------+---------+-------+---------------+-------------+--------+--------+\n",
      "|        19|        5|     DL|          11433|        13303|      -3|       1|\n",
      "|        19|        5|     DL|          14869|        12478|       0|      -8|\n",
      "|        19|        5|     DL|          14057|        14869|      -4|     -15|\n",
      "|        19|        5|     DL|          15016|        11433|      28|      24|\n",
      "|        19|        5|     DL|          11193|        12892|      -6|     -11|\n",
      "|        19|        5|     DL|          10397|        15016|      -1|     -19|\n",
      "|        19|        5|     DL|          15016|        10397|       0|      -1|\n",
      "|        19|        5|     DL|          10397|        14869|      15|      24|\n",
      "|        19|        5|     DL|          10397|        10423|      33|      34|\n",
      "|        19|        5|     DL|          11278|        10397|     323|     322|\n",
      "|        19|        5|     DL|          14107|        13487|      -7|     -13|\n",
      "|        19|        5|     DL|          11433|        11298|      22|      41|\n",
      "|        19|        5|     DL|          11298|        11433|      40|      20|\n",
      "|        19|        5|     DL|          11433|        12892|      -2|      -7|\n",
      "|        19|        5|     DL|          10397|        12451|      71|      75|\n",
      "|        19|        5|     DL|          12451|        10397|      75|      57|\n",
      "|        19|        5|     DL|          12953|        10397|      -1|      10|\n",
      "|        19|        5|     DL|          11433|        12953|      -3|     -10|\n",
      "|        19|        5|     DL|          10397|        14771|      31|      38|\n",
      "|        19|        5|     DL|          13204|        10397|       8|      25|\n",
      "+----------+---------+-------+---------------+-------------+--------+--------+\n",
      "only showing top 20 rows\n",
      "\n"
     ]
    }
   ],
   "source": [
    "flights_df.where(flights_df.Carrier.isin('DL','B6','UA')).show()"
   ]
  },
  {
   "cell_type": "code",
   "execution_count": 26,
   "id": "d3e3181a",
   "metadata": {},
   "outputs": [],
   "source": [
    "airports_df = spark.read.csv(\"file:///home/hadoop/Downloads/airports.csv\", inferSchema=True, header=True)"
   ]
  },
  {
   "cell_type": "markdown",
   "id": "b784808f",
   "metadata": {},
   "source": [
    "#### 7. printSchema()\n",
    "    * shows column name , Data type of each column and if column is having null values"
   ]
  },
  {
   "cell_type": "code",
   "execution_count": 27,
   "id": "0534cb47",
   "metadata": {},
   "outputs": [
    {
     "name": "stdout",
     "output_type": "stream",
     "text": [
      "root\n",
      " |-- airport_id: integer (nullable = true)\n",
      " |-- city: string (nullable = true)\n",
      " |-- state: string (nullable = true)\n",
      " |-- name: string (nullable = true)\n",
      "\n"
     ]
    }
   ],
   "source": [
    "airports_df.printSchema()"
   ]
  },
  {
   "cell_type": "code",
   "execution_count": 28,
   "id": "64a33731",
   "metadata": {
    "scrolled": true
   },
   "outputs": [
    {
     "name": "stdout",
     "output_type": "stream",
     "text": [
      "+----------+-----------+-----+--------------------+\n",
      "|airport_id|       city|state|                name|\n",
      "+----------+-----------+-----+--------------------+\n",
      "|     10165|Adak Island|   AK|                Adak|\n",
      "|     10299|  Anchorage|   AK|Ted Stevens Ancho...|\n",
      "|     10304|      Aniak|   AK|       Aniak Airport|\n",
      "|     10754|     Barrow|   AK|Wiley Post/Will R...|\n",
      "|     10551|     Bethel|   AK|      Bethel Airport|\n",
      "|     10926|    Cordova|   AK|Merle K Mudhole S...|\n",
      "|     14709|  Deadhorse|   AK|   Deadhorse Airport|\n",
      "|     11336| Dillingham|   AK|  Dillingham Airport|\n",
      "|     11630|  Fairbanks|   AK|Fairbanks Interna...|\n",
      "|     11997|   Gustavus|   AK|    Gustavus Airport|\n",
      "|     12523|     Juneau|   AK|Juneau International|\n",
      "|     12819|  Ketchikan|   AK|Ketchikan Interna...|\n",
      "|     10245|King Salmon|   AK| King Salmon Airport|\n",
      "|     10170|     Kodiak|   AK|      Kodiak Airport|\n",
      "|     13970|   Kotzebue|   AK| Ralph Wien Memorial|\n",
      "|     13873|       Nome|   AK|        Nome Airport|\n",
      "|     14256| Petersburg|   AK|Petersburg James ...|\n",
      "|     14828|      Sitka|   AK|Sitka Rocky Gutie...|\n",
      "|     12807| St. Mary's|   AK|  St. Mary's Airport|\n",
      "|     11445|   Unalaska|   AK|    Unalaska Airport|\n",
      "+----------+-----------+-----+--------------------+\n",
      "only showing top 20 rows\n",
      "\n"
     ]
    }
   ],
   "source": [
    "airports_df.show()"
   ]
  },
  {
   "cell_type": "code",
   "execution_count": null,
   "id": "9a67f220",
   "metadata": {},
   "outputs": [],
   "source": [
    "#### 8. join method\n",
    "    * To join between two or more than two DataFrames "
   ]
  },
  {
   "cell_type": "code",
   "execution_count": 30,
   "id": "37d5c3db",
   "metadata": {
    "collapsed": true
   },
   "outputs": [
    {
     "name": "stdout",
     "output_type": "stream",
     "text": [
      "+----------+---------+-------+---------------+-------------+--------+--------+----------+-----------------+-----+--------------------+\n",
      "|DayofMonth|DayOfWeek|Carrier|OriginAirportID|DestAirportID|DepDelay|ArrDelay|airport_id|             city|state|                name|\n",
      "+----------+---------+-------+---------------+-------------+--------+--------+----------+-----------------+-----+--------------------+\n",
      "|        19|        5|     DL|          11433|        13303|      -3|       1|     11433|          Detroit|   MI|Detroit Metro Way...|\n",
      "|        19|        5|     DL|          14869|        12478|       0|      -8|     14869|   Salt Lake City|   UT|Salt Lake City In...|\n",
      "|        19|        5|     DL|          14057|        14869|      -4|     -15|     14057|         Portland|   OR|Portland Internat...|\n",
      "|        19|        5|     DL|          15016|        11433|      28|      24|     15016|        St. Louis|   MO|Lambert-St. Louis...|\n",
      "|        19|        5|     DL|          11193|        12892|      -6|     -11|     11193|       Cincinnati|   OH|Cincinnati/Northe...|\n",
      "|        19|        5|     DL|          10397|        15016|      -1|     -19|     10397|          Atlanta|   GA|Hartsfield-Jackso...|\n",
      "|        19|        5|     DL|          15016|        10397|       0|      -1|     15016|        St. Louis|   MO|Lambert-St. Louis...|\n",
      "|        19|        5|     DL|          10397|        14869|      15|      24|     10397|          Atlanta|   GA|Hartsfield-Jackso...|\n",
      "|        19|        5|     DL|          10397|        10423|      33|      34|     10397|          Atlanta|   GA|Hartsfield-Jackso...|\n",
      "|        19|        5|     DL|          11278|        10397|     323|     322|     11278|       Washington|   DC|Ronald Reagan Was...|\n",
      "|        19|        5|     DL|          14107|        13487|      -7|     -13|     14107|          Phoenix|   AZ|Phoenix Sky Harbo...|\n",
      "|        19|        5|     DL|          11433|        11298|      22|      41|     11433|          Detroit|   MI|Detroit Metro Way...|\n",
      "|        19|        5|     DL|          11298|        11433|      40|      20|     11298|Dallas/Fort Worth|   TX|Dallas/Fort Worth...|\n",
      "|        19|        5|     DL|          11433|        12892|      -2|      -7|     11433|          Detroit|   MI|Detroit Metro Way...|\n",
      "|        19|        5|     DL|          10397|        12451|      71|      75|     10397|          Atlanta|   GA|Hartsfield-Jackso...|\n",
      "|        19|        5|     DL|          12451|        10397|      75|      57|     12451|     Jacksonville|   FL|Jacksonville Inte...|\n",
      "|        19|        5|     DL|          12953|        10397|      -1|      10|     12953|         New York|   NY|           LaGuardia|\n",
      "|        19|        5|     DL|          11433|        12953|      -3|     -10|     11433|          Detroit|   MI|Detroit Metro Way...|\n",
      "|        19|        5|     DL|          10397|        14771|      31|      38|     10397|          Atlanta|   GA|Hartsfield-Jackso...|\n",
      "|        19|        5|     DL|          13204|        10397|       8|      25|     13204|          Orlando|   FL|Orlando Internati...|\n",
      "+----------+---------+-------+---------------+-------------+--------+--------+----------+-----------------+-----+--------------------+\n",
      "only showing top 20 rows\n",
      "\n"
     ]
    }
   ],
   "source": [
    "flight_airportDF = flights_df.join(airports_df, flights_df.OriginAirportID == airports_df.airport_id)\n",
    "flight_airportDF.show()"
   ]
  },
  {
   "cell_type": "code",
   "execution_count": 34,
   "id": "b20e8783",
   "metadata": {
    "scrolled": false
   },
   "outputs": [
    {
     "ename": "AnalysisException",
     "evalue": "'Resolved attribute(s) OriginAirportID#58 missing from name#336,state#335,city#334,airport_id#333,name#451,airport_id#448 in operator !Join Inner, (OriginAirportID#58 = airport_id#333).;;\\n!Join Inner, (OriginAirportID#58 = airport_id#333)\\n:- Relation[airport_id#333,city#334,state#335,name#336] csv\\n+- Project [airport_id#448, name#451]\\n   +- Relation[airport_id#448,city#449,state#450,name#451] csv\\n'",
     "output_type": "error",
     "traceback": [
      "\u001b[0;31m---------------------------------------------------------------------------\u001b[0m",
      "\u001b[0;31mPy4JJavaError\u001b[0m                             Traceback (most recent call last)",
      "\u001b[0;32m/usr/local/spark/python/pyspark/sql/utils.py\u001b[0m in \u001b[0;36mdeco\u001b[0;34m(*a, **kw)\u001b[0m\n\u001b[1;32m     62\u001b[0m         \u001b[0;32mtry\u001b[0m\u001b[0;34m:\u001b[0m\u001b[0;34m\u001b[0m\u001b[0;34m\u001b[0m\u001b[0m\n\u001b[0;32m---> 63\u001b[0;31m             \u001b[0;32mreturn\u001b[0m \u001b[0mf\u001b[0m\u001b[0;34m(\u001b[0m\u001b[0;34m*\u001b[0m\u001b[0ma\u001b[0m\u001b[0;34m,\u001b[0m \u001b[0;34m**\u001b[0m\u001b[0mkw\u001b[0m\u001b[0;34m)\u001b[0m\u001b[0;34m\u001b[0m\u001b[0;34m\u001b[0m\u001b[0m\n\u001b[0m\u001b[1;32m     64\u001b[0m         \u001b[0;32mexcept\u001b[0m \u001b[0mpy4j\u001b[0m\u001b[0;34m.\u001b[0m\u001b[0mprotocol\u001b[0m\u001b[0;34m.\u001b[0m\u001b[0mPy4JJavaError\u001b[0m \u001b[0;32mas\u001b[0m \u001b[0me\u001b[0m\u001b[0;34m:\u001b[0m\u001b[0;34m\u001b[0m\u001b[0;34m\u001b[0m\u001b[0m\n",
      "\u001b[0;32m/usr/local/spark/python/lib/py4j-0.10.7-src.zip/py4j/protocol.py\u001b[0m in \u001b[0;36mget_return_value\u001b[0;34m(answer, gateway_client, target_id, name)\u001b[0m\n\u001b[1;32m    327\u001b[0m                     \u001b[0;34m\"An error occurred while calling {0}{1}{2}.\\n\"\u001b[0m\u001b[0;34m.\u001b[0m\u001b[0;34m\u001b[0m\u001b[0;34m\u001b[0m\u001b[0m\n\u001b[0;32m--> 328\u001b[0;31m                     format(target_id, \".\", name), value)\n\u001b[0m\u001b[1;32m    329\u001b[0m             \u001b[0;32melse\u001b[0m\u001b[0;34m:\u001b[0m\u001b[0;34m\u001b[0m\u001b[0;34m\u001b[0m\u001b[0m\n",
      "\u001b[0;31mPy4JJavaError\u001b[0m: An error occurred while calling o132.join.\n: org.apache.spark.sql.AnalysisException: Resolved attribute(s) OriginAirportID#58 missing from name#336,state#335,city#334,airport_id#333,name#451,airport_id#448 in operator !Join Inner, (OriginAirportID#58 = airport_id#333).;;\n!Join Inner, (OriginAirportID#58 = airport_id#333)\n:- Relation[airport_id#333,city#334,state#335,name#336] csv\n+- Project [airport_id#448, name#451]\n   +- Relation[airport_id#448,city#449,state#450,name#451] csv\n\n\tat org.apache.spark.sql.catalyst.analysis.CheckAnalysis$class.failAnalysis(CheckAnalysis.scala:45)\n\tat org.apache.spark.sql.catalyst.analysis.Analyzer.failAnalysis(Analyzer.scala:95)\n\tat org.apache.spark.sql.catalyst.analysis.CheckAnalysis$$anonfun$checkAnalysis$1.apply(CheckAnalysis.scala:372)\n\tat org.apache.spark.sql.catalyst.analysis.CheckAnalysis$$anonfun$checkAnalysis$1.apply(CheckAnalysis.scala:88)\n\tat org.apache.spark.sql.catalyst.trees.TreeNode.foreachUp(TreeNode.scala:126)\n\tat org.apache.spark.sql.catalyst.analysis.CheckAnalysis$class.checkAnalysis(CheckAnalysis.scala:88)\n\tat org.apache.spark.sql.catalyst.analysis.Analyzer.checkAnalysis(Analyzer.scala:95)\n\tat org.apache.spark.sql.catalyst.analysis.Analyzer$$anonfun$executeAndCheck$1.apply(Analyzer.scala:108)\n\tat org.apache.spark.sql.catalyst.analysis.Analyzer$$anonfun$executeAndCheck$1.apply(Analyzer.scala:105)\n\tat org.apache.spark.sql.catalyst.plans.logical.AnalysisHelper$.markInAnalyzer(AnalysisHelper.scala:201)\n\tat org.apache.spark.sql.catalyst.analysis.Analyzer.executeAndCheck(Analyzer.scala:105)\n\tat org.apache.spark.sql.execution.QueryExecution.analyzed$lzycompute(QueryExecution.scala:58)\n\tat org.apache.spark.sql.execution.QueryExecution.analyzed(QueryExecution.scala:56)\n\tat org.apache.spark.sql.execution.QueryExecution.assertAnalyzed(QueryExecution.scala:48)\n\tat org.apache.spark.sql.Dataset$.ofRows(Dataset.scala:78)\n\tat org.apache.spark.sql.Dataset.org$apache$spark$sql$Dataset$$withPlan(Dataset.scala:3411)\n\tat org.apache.spark.sql.Dataset.join(Dataset.scala:1001)\n\tat sun.reflect.NativeMethodAccessorImpl.invoke0(Native Method)\n\tat sun.reflect.NativeMethodAccessorImpl.invoke(NativeMethodAccessorImpl.java:62)\n\tat sun.reflect.DelegatingMethodAccessorImpl.invoke(DelegatingMethodAccessorImpl.java:43)\n\tat java.lang.reflect.Method.invoke(Method.java:498)\n\tat py4j.reflection.MethodInvoker.invoke(MethodInvoker.java:244)\n\tat py4j.reflection.ReflectionEngine.invoke(ReflectionEngine.java:357)\n\tat py4j.Gateway.invoke(Gateway.java:282)\n\tat py4j.commands.AbstractCommand.invokeMethod(AbstractCommand.java:132)\n\tat py4j.commands.CallCommand.execute(CallCommand.java:79)\n\tat py4j.GatewayConnection.run(GatewayConnection.java:238)\n\tat java.lang.Thread.run(Thread.java:745)\n",
      "\nDuring handling of the above exception, another exception occurred:\n",
      "\u001b[0;31mAnalysisException\u001b[0m                         Traceback (most recent call last)",
      "\u001b[0;32m<ipython-input-34-ac398a84f46c>\u001b[0m in \u001b[0;36m<module>\u001b[0;34m\u001b[0m\n\u001b[0;32m----> 1\u001b[0;31m \u001b[0mairports_df\u001b[0m\u001b[0;34m.\u001b[0m\u001b[0mjoin\u001b[0m\u001b[0;34m(\u001b[0m\u001b[0mairports_df\u001b[0m\u001b[0;34m.\u001b[0m\u001b[0mselect\u001b[0m\u001b[0;34m(\u001b[0m\u001b[0;34m[\u001b[0m\u001b[0;34m'airport_id'\u001b[0m\u001b[0;34m,\u001b[0m\u001b[0;34m'name'\u001b[0m\u001b[0;34m]\u001b[0m\u001b[0;34m)\u001b[0m\u001b[0;34m,\u001b[0m\u001b[0mflights_df\u001b[0m\u001b[0;34m.\u001b[0m\u001b[0mOriginAirportID\u001b[0m \u001b[0;34m==\u001b[0m \u001b[0mairports_df\u001b[0m\u001b[0;34m.\u001b[0m\u001b[0mairport_id\u001b[0m\u001b[0;34m)\u001b[0m\u001b[0;34m.\u001b[0m\u001b[0mshow\u001b[0m\u001b[0;34m(\u001b[0m\u001b[0;34m)\u001b[0m\u001b[0;34m\u001b[0m\u001b[0;34m\u001b[0m\u001b[0m\n\u001b[0m",
      "\u001b[0;32m/usr/local/spark/python/pyspark/sql/dataframe.py\u001b[0m in \u001b[0;36mjoin\u001b[0;34m(self, other, on, how)\u001b[0m\n\u001b[1;32m   1050\u001b[0m                 \u001b[0mon\u001b[0m \u001b[0;34m=\u001b[0m \u001b[0mself\u001b[0m\u001b[0;34m.\u001b[0m\u001b[0m_jseq\u001b[0m\u001b[0;34m(\u001b[0m\u001b[0;34m[\u001b[0m\u001b[0;34m]\u001b[0m\u001b[0;34m)\u001b[0m\u001b[0;34m\u001b[0m\u001b[0;34m\u001b[0m\u001b[0m\n\u001b[1;32m   1051\u001b[0m             \u001b[0;32massert\u001b[0m \u001b[0misinstance\u001b[0m\u001b[0;34m(\u001b[0m\u001b[0mhow\u001b[0m\u001b[0;34m,\u001b[0m \u001b[0mbasestring\u001b[0m\u001b[0;34m)\u001b[0m\u001b[0;34m,\u001b[0m \u001b[0;34m\"how should be basestring\"\u001b[0m\u001b[0;34m\u001b[0m\u001b[0;34m\u001b[0m\u001b[0m\n\u001b[0;32m-> 1052\u001b[0;31m             \u001b[0mjdf\u001b[0m \u001b[0;34m=\u001b[0m \u001b[0mself\u001b[0m\u001b[0;34m.\u001b[0m\u001b[0m_jdf\u001b[0m\u001b[0;34m.\u001b[0m\u001b[0mjoin\u001b[0m\u001b[0;34m(\u001b[0m\u001b[0mother\u001b[0m\u001b[0;34m.\u001b[0m\u001b[0m_jdf\u001b[0m\u001b[0;34m,\u001b[0m \u001b[0mon\u001b[0m\u001b[0;34m,\u001b[0m \u001b[0mhow\u001b[0m\u001b[0;34m)\u001b[0m\u001b[0;34m\u001b[0m\u001b[0;34m\u001b[0m\u001b[0m\n\u001b[0m\u001b[1;32m   1053\u001b[0m         \u001b[0;32mreturn\u001b[0m \u001b[0mDataFrame\u001b[0m\u001b[0;34m(\u001b[0m\u001b[0mjdf\u001b[0m\u001b[0;34m,\u001b[0m \u001b[0mself\u001b[0m\u001b[0;34m.\u001b[0m\u001b[0msql_ctx\u001b[0m\u001b[0;34m)\u001b[0m\u001b[0;34m\u001b[0m\u001b[0;34m\u001b[0m\u001b[0m\n\u001b[1;32m   1054\u001b[0m \u001b[0;34m\u001b[0m\u001b[0m\n",
      "\u001b[0;32m/usr/local/spark/python/lib/py4j-0.10.7-src.zip/py4j/java_gateway.py\u001b[0m in \u001b[0;36m__call__\u001b[0;34m(self, *args)\u001b[0m\n\u001b[1;32m   1255\u001b[0m         \u001b[0manswer\u001b[0m \u001b[0;34m=\u001b[0m \u001b[0mself\u001b[0m\u001b[0;34m.\u001b[0m\u001b[0mgateway_client\u001b[0m\u001b[0;34m.\u001b[0m\u001b[0msend_command\u001b[0m\u001b[0;34m(\u001b[0m\u001b[0mcommand\u001b[0m\u001b[0;34m)\u001b[0m\u001b[0;34m\u001b[0m\u001b[0;34m\u001b[0m\u001b[0m\n\u001b[1;32m   1256\u001b[0m         return_value = get_return_value(\n\u001b[0;32m-> 1257\u001b[0;31m             answer, self.gateway_client, self.target_id, self.name)\n\u001b[0m\u001b[1;32m   1258\u001b[0m \u001b[0;34m\u001b[0m\u001b[0m\n\u001b[1;32m   1259\u001b[0m         \u001b[0;32mfor\u001b[0m \u001b[0mtemp_arg\u001b[0m \u001b[0;32min\u001b[0m \u001b[0mtemp_args\u001b[0m\u001b[0;34m:\u001b[0m\u001b[0;34m\u001b[0m\u001b[0;34m\u001b[0m\u001b[0m\n",
      "\u001b[0;32m/usr/local/spark/python/pyspark/sql/utils.py\u001b[0m in \u001b[0;36mdeco\u001b[0;34m(*a, **kw)\u001b[0m\n\u001b[1;32m     67\u001b[0m                                              e.java_exception.getStackTrace()))\n\u001b[1;32m     68\u001b[0m             \u001b[0;32mif\u001b[0m \u001b[0ms\u001b[0m\u001b[0;34m.\u001b[0m\u001b[0mstartswith\u001b[0m\u001b[0;34m(\u001b[0m\u001b[0;34m'org.apache.spark.sql.AnalysisException: '\u001b[0m\u001b[0;34m)\u001b[0m\u001b[0;34m:\u001b[0m\u001b[0;34m\u001b[0m\u001b[0;34m\u001b[0m\u001b[0m\n\u001b[0;32m---> 69\u001b[0;31m                 \u001b[0;32mraise\u001b[0m \u001b[0mAnalysisException\u001b[0m\u001b[0;34m(\u001b[0m\u001b[0ms\u001b[0m\u001b[0;34m.\u001b[0m\u001b[0msplit\u001b[0m\u001b[0;34m(\u001b[0m\u001b[0;34m': '\u001b[0m\u001b[0;34m,\u001b[0m \u001b[0;36m1\u001b[0m\u001b[0;34m)\u001b[0m\u001b[0;34m[\u001b[0m\u001b[0;36m1\u001b[0m\u001b[0;34m]\u001b[0m\u001b[0;34m,\u001b[0m \u001b[0mstackTrace\u001b[0m\u001b[0;34m)\u001b[0m\u001b[0;34m\u001b[0m\u001b[0;34m\u001b[0m\u001b[0m\n\u001b[0m\u001b[1;32m     70\u001b[0m             \u001b[0;32mif\u001b[0m \u001b[0ms\u001b[0m\u001b[0;34m.\u001b[0m\u001b[0mstartswith\u001b[0m\u001b[0;34m(\u001b[0m\u001b[0;34m'org.apache.spark.sql.catalyst.analysis'\u001b[0m\u001b[0;34m)\u001b[0m\u001b[0;34m:\u001b[0m\u001b[0;34m\u001b[0m\u001b[0;34m\u001b[0m\u001b[0m\n\u001b[1;32m     71\u001b[0m                 \u001b[0;32mraise\u001b[0m \u001b[0mAnalysisException\u001b[0m\u001b[0;34m(\u001b[0m\u001b[0ms\u001b[0m\u001b[0;34m.\u001b[0m\u001b[0msplit\u001b[0m\u001b[0;34m(\u001b[0m\u001b[0;34m': '\u001b[0m\u001b[0;34m,\u001b[0m \u001b[0;36m1\u001b[0m\u001b[0;34m)\u001b[0m\u001b[0;34m[\u001b[0m\u001b[0;36m1\u001b[0m\u001b[0;34m]\u001b[0m\u001b[0;34m,\u001b[0m \u001b[0mstackTrace\u001b[0m\u001b[0;34m)\u001b[0m\u001b[0;34m\u001b[0m\u001b[0;34m\u001b[0m\u001b[0m\n",
      "\u001b[0;31mAnalysisException\u001b[0m: 'Resolved attribute(s) OriginAirportID#58 missing from name#336,state#335,city#334,airport_id#333,name#451,airport_id#448 in operator !Join Inner, (OriginAirportID#58 = airport_id#333).;;\\n!Join Inner, (OriginAirportID#58 = airport_id#333)\\n:- Relation[airport_id#333,city#334,state#335,name#336] csv\\n+- Project [airport_id#448, name#451]\\n   +- Relation[airport_id#448,city#449,state#450,name#451] csv\\n'"
     ]
    }
   ],
   "source": [
    "airports_df.join(airports_df.select(['airport_id','name']),flights_df.OriginAirportID == airports_df.airport_id).show()"
   ]
  },
  {
   "cell_type": "markdown",
   "id": "d472a619",
   "metadata": {},
   "source": [
    "#### isnull()"
   ]
  },
  {
   "cell_type": "code",
   "execution_count": 38,
   "id": "a0257e93",
   "metadata": {
    "collapsed": true
   },
   "outputs": [
    {
     "name": "stdout",
     "output_type": "stream",
     "text": [
      "+----------+---------+-------+---------------+-------------+--------+--------+\n",
      "|DayofMonth|DayOfWeek|Carrier|OriginAirportID|DestAirportID|DepDelay|ArrDelay|\n",
      "+----------+---------+-------+---------------+-------------+--------+--------+\n",
      "|         0|        0|      0|              0|            0|   27444|   29033|\n",
      "+----------+---------+-------+---------------+-------------+--------+--------+\n",
      "\n"
     ]
    }
   ],
   "source": [
    "from pyspark.sql.functions import *\n",
    "flights_df.select([count(when(isnull(col),col)).alias(col) for col in flights_df.columns]).show()"
   ]
  },
  {
   "cell_type": "code",
   "execution_count": null,
   "id": "696cc518",
   "metadata": {},
   "outputs": [],
   "source": [
    "# flights_df.toPandas() - Typecasting Spark DF to pandas DF"
   ]
  },
  {
   "cell_type": "markdown",
   "id": "6a1f3d97",
   "metadata": {},
   "source": [
    "#### Drop Duplicates()\n",
    "* It will dop the duplicate records from existing Dataframes"
   ]
  },
  {
   "cell_type": "code",
   "execution_count": 39,
   "id": "d0e00b85",
   "metadata": {},
   "outputs": [],
   "source": [
    "flights_df1 = flights_df.dropDuplicates()"
   ]
  },
  {
   "cell_type": "code",
   "execution_count": 40,
   "id": "0411f003",
   "metadata": {},
   "outputs": [
    {
     "data": {
      "text/html": [
       "\n",
       "            <div>\n",
       "                <p><b>SparkSession - hive</b></p>\n",
       "                \n",
       "        <div>\n",
       "            <p><b>SparkContext</b></p>\n",
       "\n",
       "            <p><a href=\"http://10.0.2.15:4042\">Spark UI</a></p>\n",
       "\n",
       "            <dl>\n",
       "              <dt>Version</dt>\n",
       "                <dd><code>v2.4.8</code></dd>\n",
       "              <dt>Master</dt>\n",
       "                <dd><code>local[*]</code></dd>\n",
       "              <dt>AppName</dt>\n",
       "                <dd><code>PySparkShell</code></dd>\n",
       "            </dl>\n",
       "        </div>\n",
       "        \n",
       "            </div>\n",
       "        "
      ],
      "text/plain": [
       "<pyspark.sql.session.SparkSession at 0x7fd250035b00>"
      ]
     },
     "execution_count": 40,
     "metadata": {},
     "output_type": "execute_result"
    }
   ],
   "source": [
    "spark"
   ]
  },
  {
   "cell_type": "code",
   "execution_count": 41,
   "id": "2fda4895",
   "metadata": {},
   "outputs": [
    {
     "name": "stdout",
     "output_type": "stream",
     "text": [
      "+----------+---------+-------+---------------+-------------+--------+--------+\n",
      "|DayofMonth|DayOfWeek|Carrier|OriginAirportID|DestAirportID|DepDelay|ArrDelay|\n",
      "+----------+---------+-------+---------------+-------------+--------+--------+\n",
      "|         6|        1|     WN|          10821|        10140|       1|     -22|\n",
      "|         8|        1|     AA|          11298|        10140|       0|       6|\n",
      "|        15|        1|     WN|          11259|        10140|      21|      20|\n",
      "|        15|        1|     WN|          14747|        10140|      -6|       3|\n",
      "|        17|        1|     WN|          12889|        10140|      -4|      -9|\n",
      "|        27|        1|     AA|          11298|        10140|     113|     117|\n",
      "|         4|        2|     WN|          12191|        10140|      51|      55|\n",
      "|         7|        2|     OO|          12266|        10140|      -3|     -11|\n",
      "|        25|        2|     OO|          14869|        10140|      -2|       2|\n",
      "|        28|        2|     WN|          14107|        10140|      -3|       0|\n",
      "|        30|        2|     OO|          12266|        10140|      -4|     -11|\n",
      "|         1|        3|     EV|          12266|        10140|     -11|     -26|\n",
      "|         3|        3|     WN|          11292|        10140|      45|      36|\n",
      "|         3|        3|     OO|          12892|        10140|      -4|      -2|\n",
      "|         5|        3|     OO|          13930|        10140|      -2|       4|\n",
      "|        17|        3|     WN|          12892|        10140|      -1|       3|\n",
      "|        22|        3|     WN|          14107|        10140|     109|     106|\n",
      "|        24|        3|     WN|          14747|        10140|       0|      -4|\n",
      "|         2|        4|     OO|          14869|        10140|      -8|     -25|\n",
      "|         4|        4|     WN|          11259|        10140|      -5|      -9|\n",
      "+----------+---------+-------+---------------+-------------+--------+--------+\n",
      "only showing top 20 rows\n",
      "\n"
     ]
    }
   ],
   "source": [
    "flights_df1.show()"
   ]
  },
  {
   "cell_type": "code",
   "execution_count": 50,
   "id": "75d0d4e1",
   "metadata": {},
   "outputs": [],
   "source": [
    "flights_per = ((flights_df.count())-(flights_df1.count())) * 100/(flights_df.count())"
   ]
  },
  {
   "cell_type": "code",
   "execution_count": 51,
   "id": "f9b9aac3",
   "metadata": {},
   "outputs": [
    {
     "name": "stdout",
     "output_type": "stream",
     "text": [
      "0.8249927006440348\n"
     ]
    }
   ],
   "source": [
    "print(flights_per)"
   ]
  },
  {
   "cell_type": "code",
   "execution_count": 54,
   "id": "4eadd8c2",
   "metadata": {},
   "outputs": [
    {
     "name": "stdout",
     "output_type": "stream",
     "text": [
      "Percentage of duplicate records 0.8249927006440348\n"
     ]
    }
   ],
   "source": [
    "def dup_per(x,y):\n",
    "    val = x - y\n",
    "    per = val * 100 / x\n",
    "    return per\n",
    "res = dup_per(flights_df.count(),flights_df1.count())\n",
    "print(\"Percentage of duplicate records\",res)"
   ]
  },
  {
   "cell_type": "markdown",
   "id": "f96a940a",
   "metadata": {},
   "source": [
    "#### 10. fillna()\n",
    "* To replace or fill missing columns with central tendency(mean, median, mode).\n",
    "* Here will replace missing values by 0s."
   ]
  },
  {
   "cell_type": "code",
   "execution_count": 63,
   "id": "7f241bc4",
   "metadata": {},
   "outputs": [],
   "source": [
    "flights_data = flight_airportDF.dropDuplicates().fillna(0, subset = ['DepDelay','ArrDelay'])\n"
   ]
  },
  {
   "cell_type": "code",
   "execution_count": 64,
   "id": "59522d56",
   "metadata": {},
   "outputs": [
    {
     "name": "stdout",
     "output_type": "stream",
     "text": [
      "+----------+---------+-------+---------------+-------------+--------+--------+----------+-----------+-----+--------------------+\n",
      "|DayofMonth|DayOfWeek|Carrier|OriginAirportID|DestAirportID|DepDelay|ArrDelay|airport_id|       city|state|                name|\n",
      "+----------+---------+-------+---------------+-------------+--------+--------+----------+-----------+-----+--------------------+\n",
      "|         8|        1|     DL|          10140|        10397|      -3|     -10|     10140|Albuquerque|   NM|Albuquerque Inter...|\n",
      "|        28|        5|     WN|          10140|        10821|      97|      82|     10140|Albuquerque|   NM|Albuquerque Inter...|\n",
      "|        22|        6|     WN|          10140|        11259|      27|      22|     10140|Albuquerque|   NM|Albuquerque Inter...|\n",
      "|         7|        7|     WN|          10140|        11259|       6|       1|     10140|Albuquerque|   NM|Albuquerque Inter...|\n",
      "|        13|        1|     WN|          10140|        11292|      -1|      -2|     10140|Albuquerque|   NM|Albuquerque Inter...|\n",
      "|        25|        4|     WN|          10140|        11292|       7|      -2|     10140|Albuquerque|   NM|Albuquerque Inter...|\n",
      "|         6|        6|     WN|          10140|        11292|       0|      -5|     10140|Albuquerque|   NM|Albuquerque Inter...|\n",
      "|        28|        2|     AA|          10140|        11298|      -9|     -17|     10140|Albuquerque|   NM|Albuquerque Inter...|\n",
      "|        15|        3|     AA|          10140|        11298|      31|      43|     10140|Albuquerque|   NM|Albuquerque Inter...|\n",
      "|        14|        7|     AA|          10140|        11298|       9|      -2|     10140|Albuquerque|   NM|Albuquerque Inter...|\n",
      "|        21|        7|     AA|          10140|        11298|     196|     186|     10140|Albuquerque|   NM|Albuquerque Inter...|\n",
      "|        28|        7|     AA|          10140|        11298|      -5|       4|     10140|Albuquerque|   NM|Albuquerque Inter...|\n",
      "|        14|        2|     WN|          10140|        12191|      14|      12|     10140|Albuquerque|   NM|Albuquerque Inter...|\n",
      "|        12|        3|     WN|          10140|        12191|      -3|      -9|     10140|Albuquerque|   NM|Albuquerque Inter...|\n",
      "|        19|        5|     WN|          10140|        12191|      60|      45|     10140|Albuquerque|   NM|Albuquerque Inter...|\n",
      "|         9|        2|     OO|          10140|        12266|      -8|      -6|     10140|Albuquerque|   NM|Albuquerque Inter...|\n",
      "|        27|        4|     EV|          10140|        12266|      -8|     -22|     10140|Albuquerque|   NM|Albuquerque Inter...|\n",
      "|        14|        2|     WN|          10140|        12889|      -4|     -13|     10140|Albuquerque|   NM|Albuquerque Inter...|\n",
      "|        11|        4|     WN|          10140|        12889|       0|       4|     10140|Albuquerque|   NM|Albuquerque Inter...|\n",
      "|        29|        1|     WN|          10140|        12892|      25|      10|     10140|Albuquerque|   NM|Albuquerque Inter...|\n",
      "+----------+---------+-------+---------------+-------------+--------+--------+----------+-----------+-----+--------------------+\n",
      "only showing top 20 rows\n",
      "\n"
     ]
    }
   ],
   "source": [
    "flights_data.show()"
   ]
  },
  {
   "cell_type": "code",
   "execution_count": 74,
   "id": "c9b7abe6",
   "metadata": {},
   "outputs": [
    {
     "name": "stdout",
     "output_type": "stream",
     "text": [
      "+----+\n",
      "|mean|\n",
      "+----+\n",
      "|11.0|\n",
      "+----+\n",
      "\n"
     ]
    }
   ],
   "source": [
    "flights_data.select(round(mean(col('DepDelay'))).alias('mean')).show()"
   ]
  },
  {
   "cell_type": "code",
   "execution_count": 75,
   "id": "4525b1bb",
   "metadata": {},
   "outputs": [
    {
     "name": "stdout",
     "output_type": "stream",
     "text": [
      "+-------+\n",
      "|std_dev|\n",
      "+-------+\n",
      "|   36.0|\n",
      "+-------+\n",
      "\n"
     ]
    }
   ],
   "source": [
    "flights_data.select(round(stddev(col('DepDelay'))).alias('std_dev')).show()"
   ]
  },
  {
   "cell_type": "code",
   "execution_count": 77,
   "id": "0b76ae15",
   "metadata": {},
   "outputs": [
    {
     "ename": "ImportError",
     "evalue": "cannot import name 'stddev'",
     "output_type": "error",
     "traceback": [
      "\u001b[0;31m---------------------------------------------------------------------------\u001b[0m",
      "\u001b[0;31mImportError\u001b[0m                               Traceback (most recent call last)",
      "\u001b[0;32m<ipython-input-77-6284c6f74277>\u001b[0m in \u001b[0;36m<module>\u001b[0;34m\u001b[0m\n\u001b[0;32m----> 1\u001b[0;31m \u001b[0;32mfrom\u001b[0m \u001b[0mpyspark\u001b[0m\u001b[0;34m.\u001b[0m\u001b[0msql\u001b[0m \u001b[0;32mimport\u001b[0m \u001b[0mstddev\u001b[0m\u001b[0;34m,\u001b[0m \u001b[0mcol\u001b[0m\u001b[0;34m\u001b[0m\u001b[0;34m\u001b[0m\u001b[0m\n\u001b[0m\u001b[1;32m      2\u001b[0m \u001b[0mflights_data\u001b[0m\u001b[0;34m.\u001b[0m\u001b[0mselect\u001b[0m\u001b[0;34m(\u001b[0m\u001b[0mround\u001b[0m\u001b[0;34m(\u001b[0m\u001b[0mstddev\u001b[0m\u001b[0;34m(\u001b[0m\u001b[0mcol\u001b[0m\u001b[0;34m(\u001b[0m\u001b[0;34m'DepDelay'\u001b[0m\u001b[0;34m)\u001b[0m\u001b[0;34m)\u001b[0m\u001b[0;34m)\u001b[0m\u001b[0;34m.\u001b[0m\u001b[0malias\u001b[0m\u001b[0;34m(\u001b[0m\u001b[0;34m'std_dev'\u001b[0m\u001b[0;34m)\u001b[0m\u001b[0;34m)\u001b[0m\u001b[0;34m.\u001b[0m\u001b[0mshow\u001b[0m\u001b[0;34m(\u001b[0m\u001b[0;34m)\u001b[0m\u001b[0;34m\u001b[0m\u001b[0;34m\u001b[0m\u001b[0m\n",
      "\u001b[0;31mImportError\u001b[0m: cannot import name 'stddev'"
     ]
    }
   ],
   "source": [
    "from pyspark.sql import stddev, col\n",
    "flights_data.select(round(stddev(col('DepDelay'))).alias('std_dev')).show()"
   ]
  },
  {
   "cell_type": "code",
   "execution_count": 83,
   "id": "b3ba4160",
   "metadata": {},
   "outputs": [
    {
     "data": {
      "text/plain": [
       "36.0"
      ]
     },
     "execution_count": 83,
     "metadata": {},
     "output_type": "execute_result"
    }
   ],
   "source": [
    "flights_data.select(round(stddev(col('DepDelay'))).alias('std_dev')).collect()[0][0]"
   ]
  },
  {
   "cell_type": "markdown",
   "id": "ad42c082",
   "metadata": {},
   "source": [
    "###3 11. groupBy() agg()"
   ]
  },
  {
   "cell_type": "code",
   "execution_count": 84,
   "id": "48cbc999",
   "metadata": {},
   "outputs": [
    {
     "data": {
      "text/plain": [
       "<pyspark.sql.group.GroupedData at 0x7fd1cfaebcc0>"
      ]
     },
     "execution_count": 84,
     "metadata": {},
     "output_type": "execute_result"
    }
   ],
   "source": [
    "flights_data.groupBy('Carrier')\n"
   ]
  },
  {
   "cell_type": "code",
   "execution_count": 86,
   "id": "ea9e032f",
   "metadata": {},
   "outputs": [
    {
     "name": "stdout",
     "output_type": "stream",
     "text": [
      "+-------+------------------+\n",
      "|Carrier|         Avd Delay|\n",
      "+-------+------------------+\n",
      "|     UA| 12.56328450054194|\n",
      "|     AA|12.047073483091621|\n",
      "|     EV|14.201382793318832|\n",
      "|     B6| 12.62300717948718|\n",
      "|     DL|  7.44057536536854|\n",
      "|     OO| 7.852680109497053|\n",
      "|     F9|12.124132527423326|\n",
      "|     YV| 9.400170648464163|\n",
      "|     US| 4.982146766542894|\n",
      "|     MQ|15.197729076913472|\n",
      "|     HA|1.5346074380165289|\n",
      "|     AS|0.6593429038281979|\n",
      "|     FL|10.165958089647582|\n",
      "|     VX|14.391637389851985|\n",
      "|     WN|12.860663548314177|\n",
      "|     9E| 9.546332530604055|\n",
      "+-------+------------------+\n",
      "\n"
     ]
    }
   ],
   "source": [
    "flights_data.groupBy('Carrier').agg(mean('DepDelay').alias('Avd Delay')).show()"
   ]
  },
  {
   "cell_type": "code",
   "execution_count": 88,
   "id": "e6f85eb1",
   "metadata": {},
   "outputs": [
    {
     "data": {
      "text/plain": [
       "-3.0"
      ]
     },
     "execution_count": 88,
     "metadata": {},
     "output_type": "execute_result"
    }
   ],
   "source": [
    "flights_data.approxQuantile('ArrDelay', [0.5], 0.001)[0]"
   ]
  },
  {
   "cell_type": "code",
   "execution_count": 93,
   "id": "e94bbb85",
   "metadata": {},
   "outputs": [
    {
     "data": {
      "text/plain": [
       "-3"
      ]
     },
     "execution_count": 93,
     "metadata": {},
     "output_type": "execute_result"
    }
   ],
   "source": [
    "from pyspark.sql.functions import expr\n",
    "median_expr = expr(f\"percentile_approx({'ArrDelay'}, 0.5)\")\n",
    "\n",
    "flights_data.agg(median_expr.alias(\"medians\")).collect()[0][0]"
   ]
  },
  {
   "cell_type": "markdown",
   "id": "d0a07944",
   "metadata": {},
   "source": [
    "#### 13. Spark SQL"
   ]
  },
  {
   "cell_type": "code",
   "execution_count": 94,
   "id": "8b0bd47e",
   "metadata": {},
   "outputs": [],
   "source": [
    "flights_data.createOrReplaceTempView(\"flights\") #create a temporary table using spark dataframe"
   ]
  },
  {
   "cell_type": "code",
   "execution_count": 95,
   "id": "70079bb2",
   "metadata": {
    "collapsed": true
   },
   "outputs": [
    {
     "name": "stdout",
     "output_type": "stream",
     "text": [
      "+----------+---------+-------+---------------+-------------+--------+--------+----------+-----------+-----+--------------------+\n",
      "|DayofMonth|DayOfWeek|Carrier|OriginAirportID|DestAirportID|DepDelay|ArrDelay|airport_id|       city|state|                name|\n",
      "+----------+---------+-------+---------------+-------------+--------+--------+----------+-----------+-----+--------------------+\n",
      "|         8|        1|     DL|          10140|        10397|      -3|     -10|     10140|Albuquerque|   NM|Albuquerque Inter...|\n",
      "|        28|        5|     WN|          10140|        10821|      97|      82|     10140|Albuquerque|   NM|Albuquerque Inter...|\n",
      "|        22|        6|     WN|          10140|        11259|      27|      22|     10140|Albuquerque|   NM|Albuquerque Inter...|\n",
      "|         7|        7|     WN|          10140|        11259|       6|       1|     10140|Albuquerque|   NM|Albuquerque Inter...|\n",
      "|        13|        1|     WN|          10140|        11292|      -1|      -2|     10140|Albuquerque|   NM|Albuquerque Inter...|\n",
      "|        25|        4|     WN|          10140|        11292|       7|      -2|     10140|Albuquerque|   NM|Albuquerque Inter...|\n",
      "|         6|        6|     WN|          10140|        11292|       0|      -5|     10140|Albuquerque|   NM|Albuquerque Inter...|\n",
      "|        28|        2|     AA|          10140|        11298|      -9|     -17|     10140|Albuquerque|   NM|Albuquerque Inter...|\n",
      "|        15|        3|     AA|          10140|        11298|      31|      43|     10140|Albuquerque|   NM|Albuquerque Inter...|\n",
      "|        14|        7|     AA|          10140|        11298|       9|      -2|     10140|Albuquerque|   NM|Albuquerque Inter...|\n",
      "+----------+---------+-------+---------------+-------------+--------+--------+----------+-----------+-----+--------------------+\n",
      "\n"
     ]
    }
   ],
   "source": [
    "spark.sql(\"select * from flights limit 10\").show()"
   ]
  },
  {
   "cell_type": "code",
   "execution_count": 96,
   "id": "6fa71416",
   "metadata": {},
   "outputs": [
    {
     "name": "stdout",
     "output_type": "stream",
     "text": [
      "+----------+---------+-------+---------------+-------------+--------+--------+----------+-----------+-----+--------------------+\n",
      "|DayofMonth|DayOfWeek|Carrier|OriginAirportID|DestAirportID|DepDelay|ArrDelay|airport_id|       city|state|                name|\n",
      "+----------+---------+-------+---------------+-------------+--------+--------+----------+-----------+-----+--------------------+\n",
      "|         8|        1|     DL|          10140|        10397|      -3|     -10|     10140|Albuquerque|   NM|Albuquerque Inter...|\n",
      "|        28|        5|     WN|          10140|        10821|      97|      82|     10140|Albuquerque|   NM|Albuquerque Inter...|\n",
      "|        22|        6|     WN|          10140|        11259|      27|      22|     10140|Albuquerque|   NM|Albuquerque Inter...|\n",
      "|         7|        7|     WN|          10140|        11259|       6|       1|     10140|Albuquerque|   NM|Albuquerque Inter...|\n",
      "|        13|        1|     WN|          10140|        11292|      -1|      -2|     10140|Albuquerque|   NM|Albuquerque Inter...|\n",
      "|        25|        4|     WN|          10140|        11292|       7|      -2|     10140|Albuquerque|   NM|Albuquerque Inter...|\n",
      "|         6|        6|     WN|          10140|        11292|       0|      -5|     10140|Albuquerque|   NM|Albuquerque Inter...|\n",
      "|        28|        2|     AA|          10140|        11298|      -9|     -17|     10140|Albuquerque|   NM|Albuquerque Inter...|\n",
      "|        15|        3|     AA|          10140|        11298|      31|      43|     10140|Albuquerque|   NM|Albuquerque Inter...|\n",
      "|        14|        7|     AA|          10140|        11298|       9|      -2|     10140|Albuquerque|   NM|Albuquerque Inter...|\n",
      "|        21|        7|     AA|          10140|        11298|     196|     186|     10140|Albuquerque|   NM|Albuquerque Inter...|\n",
      "|        28|        7|     AA|          10140|        11298|      -5|       4|     10140|Albuquerque|   NM|Albuquerque Inter...|\n",
      "|        14|        2|     WN|          10140|        12191|      14|      12|     10140|Albuquerque|   NM|Albuquerque Inter...|\n",
      "|        12|        3|     WN|          10140|        12191|      -3|      -9|     10140|Albuquerque|   NM|Albuquerque Inter...|\n",
      "|        19|        5|     WN|          10140|        12191|      60|      45|     10140|Albuquerque|   NM|Albuquerque Inter...|\n",
      "|         9|        2|     OO|          10140|        12266|      -8|      -6|     10140|Albuquerque|   NM|Albuquerque Inter...|\n",
      "|        27|        4|     EV|          10140|        12266|      -8|     -22|     10140|Albuquerque|   NM|Albuquerque Inter...|\n",
      "|        14|        2|     WN|          10140|        12889|      -4|     -13|     10140|Albuquerque|   NM|Albuquerque Inter...|\n",
      "|        11|        4|     WN|          10140|        12889|       0|       4|     10140|Albuquerque|   NM|Albuquerque Inter...|\n",
      "|        29|        1|     WN|          10140|        12892|      25|      10|     10140|Albuquerque|   NM|Albuquerque Inter...|\n",
      "+----------+---------+-------+---------------+-------------+--------+--------+----------+-----------+-----+--------------------+\n",
      "only showing top 20 rows\n",
      "\n"
     ]
    }
   ],
   "source": [
    "# 1. query to show total count of flights by each carrier in descending order\n",
    "# 2. compute median DepDelay for each carrier\n",
    "# 3. Find out most busiest Airport out of all.\n",
    "flights_data.show()\n",
    "spark.sql(\"select Carrier, avg(DepDelay) Median from  \")"
   ]
  },
  {
   "cell_type": "code",
   "execution_count": 110,
   "id": "162aaa74",
   "metadata": {},
   "outputs": [
    {
     "name": "stdout",
     "output_type": "stream",
     "text": [
      "+-------+------+\n",
      "|Carrier| Count|\n",
      "+-------+------+\n",
      "|     WN|575090|\n",
      "|     DL|381601|\n",
      "|     AA|288910|\n",
      "|     UA|286010|\n",
      "|     US|232955|\n",
      "|     OO|159639|\n",
      "|     EV|157218|\n",
      "|     B6|121875|\n",
      "|     MQ|112113|\n",
      "|     FL| 92674|\n",
      "|     9E| 79728|\n",
      "|     AS| 68544|\n",
      "|     YV| 52740|\n",
      "|     F9| 35736|\n",
      "|     VX| 34726|\n",
      "|     HA| 17424|\n",
      "+-------+------+\n",
      "\n"
     ]
    }
   ],
   "source": [
    "spark.sql(\"select Carrier, count(Carrier) Count from flights group by Carrier order by count(Carrier) desc\").show()"
   ]
  },
  {
   "cell_type": "code",
   "execution_count": 111,
   "id": "155d2a36",
   "metadata": {},
   "outputs": [
    {
     "name": "stdout",
     "output_type": "stream",
     "text": [
      "+----------+---------+-------+---------------+-------------+--------+--------+----------+-----------+-----+--------------------+\n",
      "|DayofMonth|DayOfWeek|Carrier|OriginAirportID|DestAirportID|DepDelay|ArrDelay|airport_id|       city|state|                name|\n",
      "+----------+---------+-------+---------------+-------------+--------+--------+----------+-----------+-----+--------------------+\n",
      "|         8|        1|     DL|          10140|        10397|      -3|     -10|     10140|Albuquerque|   NM|Albuquerque Inter...|\n",
      "|        28|        5|     WN|          10140|        10821|      97|      82|     10140|Albuquerque|   NM|Albuquerque Inter...|\n",
      "|        22|        6|     WN|          10140|        11259|      27|      22|     10140|Albuquerque|   NM|Albuquerque Inter...|\n",
      "|         7|        7|     WN|          10140|        11259|       6|       1|     10140|Albuquerque|   NM|Albuquerque Inter...|\n",
      "|        13|        1|     WN|          10140|        11292|      -1|      -2|     10140|Albuquerque|   NM|Albuquerque Inter...|\n",
      "|        25|        4|     WN|          10140|        11292|       7|      -2|     10140|Albuquerque|   NM|Albuquerque Inter...|\n",
      "|         6|        6|     WN|          10140|        11292|       0|      -5|     10140|Albuquerque|   NM|Albuquerque Inter...|\n",
      "|        28|        2|     AA|          10140|        11298|      -9|     -17|     10140|Albuquerque|   NM|Albuquerque Inter...|\n",
      "|        15|        3|     AA|          10140|        11298|      31|      43|     10140|Albuquerque|   NM|Albuquerque Inter...|\n",
      "|        14|        7|     AA|          10140|        11298|       9|      -2|     10140|Albuquerque|   NM|Albuquerque Inter...|\n",
      "|        21|        7|     AA|          10140|        11298|     196|     186|     10140|Albuquerque|   NM|Albuquerque Inter...|\n",
      "|        28|        7|     AA|          10140|        11298|      -5|       4|     10140|Albuquerque|   NM|Albuquerque Inter...|\n",
      "|        14|        2|     WN|          10140|        12191|      14|      12|     10140|Albuquerque|   NM|Albuquerque Inter...|\n",
      "|        12|        3|     WN|          10140|        12191|      -3|      -9|     10140|Albuquerque|   NM|Albuquerque Inter...|\n",
      "|        19|        5|     WN|          10140|        12191|      60|      45|     10140|Albuquerque|   NM|Albuquerque Inter...|\n",
      "|         9|        2|     OO|          10140|        12266|      -8|      -6|     10140|Albuquerque|   NM|Albuquerque Inter...|\n",
      "|        27|        4|     EV|          10140|        12266|      -8|     -22|     10140|Albuquerque|   NM|Albuquerque Inter...|\n",
      "|        14|        2|     WN|          10140|        12889|      -4|     -13|     10140|Albuquerque|   NM|Albuquerque Inter...|\n",
      "|        11|        4|     WN|          10140|        12889|       0|       4|     10140|Albuquerque|   NM|Albuquerque Inter...|\n",
      "|        29|        1|     WN|          10140|        12892|      25|      10|     10140|Albuquerque|   NM|Albuquerque Inter...|\n",
      "+----------+---------+-------+---------------+-------------+--------+--------+----------+-----------+-----+--------------------+\n",
      "only showing top 20 rows\n",
      "\n"
     ]
    }
   ],
   "source": [
    "spark.sql(\"select * from flights\").show()"
   ]
  },
  {
   "cell_type": "code",
   "execution_count": 114,
   "id": "622bbe01",
   "metadata": {},
   "outputs": [
    {
     "name": "stdout",
     "output_type": "stream",
     "text": [
      "+-------+------+\n",
      "|Carrier|median|\n",
      "+-------+------+\n",
      "|     UA|    12|\n",
      "|     AA|    14|\n",
      "|     EV|    24|\n",
      "|     B6|    21|\n",
      "|     DL|    13|\n",
      "|     OO|    17|\n",
      "|     F9|    14|\n",
      "|     YV|    19|\n",
      "|     US|    12|\n",
      "|     MQ|    24|\n",
      "|     HA|     6|\n",
      "|     AS|     9|\n",
      "|     FL|    13|\n",
      "|     VX|    15|\n",
      "|     WN|    12|\n",
      "|     9E|    22|\n",
      "+-------+------+\n",
      "\n"
     ]
    }
   ],
   "source": [
    "spark.sql(\"select Carrier, percentile_approx(DepDelay, 0.5) as median from flights where DepDelay > 0 group by Carrier\").show()"
   ]
  },
  {
   "cell_type": "code",
   "execution_count": 117,
   "id": "57acf263",
   "metadata": {},
   "outputs": [
    {
     "name": "stdout",
     "output_type": "stream",
     "text": [
      "+----------+-------------+\n",
      "|airport_id|sum(ArrDelay)|\n",
      "+----------+-------------+\n",
      "|     14570|        63251|\n",
      "|     12264|       314645|\n",
      "|     14771|       734292|\n",
      "|     11057|       647048|\n",
      "|     13830|        50909|\n",
      "|     12191|       262889|\n",
      "|     10529|        34820|\n",
      "|     10800|        38585|\n",
      "|     11259|       178044|\n",
      "|     14831|       116234|\n",
      "|     12889|       630833|\n",
      "|     14730|        89290|\n",
      "|     13303|       287396|\n",
      "|     10140|       101305|\n",
      "|     13342|       117888|\n",
      "|     11278|       249385|\n",
      "|     10792|        81243|\n",
      "|     15304|       188767|\n",
      "|     14524|        65225|\n",
      "|     10423|       158292|\n",
      "+----------+-------------+\n",
      "only showing top 20 rows\n",
      "\n"
     ]
    }
   ],
   "source": [
    "spark.sql(\"select airport_id, sum(ArrDelay) from flights group by airport_id\").show()"
   ]
  },
  {
   "cell_type": "code",
   "execution_count": 119,
   "id": "45f1f053",
   "metadata": {},
   "outputs": [
    {
     "name": "stdout",
     "output_type": "stream",
     "text": [
      "+----------+-------------+\n",
      "|airport_id|sum(DepDelay)|\n",
      "+----------+-------------+\n",
      "|     14570|        94025|\n",
      "|     12264|       486909|\n",
      "|     14771|      1137146|\n",
      "|     11057|       723881|\n",
      "|     13830|        49323|\n",
      "|     12191|       380773|\n",
      "|     10529|       100078|\n",
      "|     10800|        86573|\n",
      "|     11259|       224828|\n",
      "|     14831|       169083|\n",
      "|     12889|       925573|\n",
      "|     14730|       121673|\n",
      "|     13303|       423343|\n",
      "|     10140|       161989|\n",
      "|     13342|       191907|\n",
      "|     11278|       354763|\n",
      "|     10792|       130299|\n",
      "|     15304|       309050|\n",
      "|     14524|       101901|\n",
      "|     10423|       271547|\n",
      "+----------+-------------+\n",
      "only showing top 20 rows\n",
      "\n"
     ]
    }
   ],
   "source": [
    "spark.sql(\"select airport_id, sum(DepDelay) from flights group by airport_id\").show()"
   ]
  },
  {
   "cell_type": "code",
   "execution_count": null,
   "id": "ee4d4583",
   "metadata": {},
   "outputs": [],
   "source": []
  }
 ],
 "metadata": {
  "kernelspec": {
   "display_name": "Python 3",
   "language": "python",
   "name": "python3"
  },
  "language_info": {
   "codemirror_mode": {
    "name": "ipython",
    "version": 3
   },
   "file_extension": ".py",
   "mimetype": "text/x-python",
   "name": "python",
   "nbconvert_exporter": "python",
   "pygments_lexer": "ipython3",
   "version": "3.6.9"
  }
 },
 "nbformat": 4,
 "nbformat_minor": 5
}
