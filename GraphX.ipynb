{
 "cells": [
  {
   "cell_type": "code",
   "execution_count": 12,
   "id": "5438167a",
   "metadata": {
    "scrolled": true
   },
   "outputs": [
    {
     "data": {
      "text/html": [
       "\n",
       "        <div>\n",
       "            <p><b>SparkContext</b></p>\n",
       "\n",
       "            <p><a href=\"http://10.0.2.15:4040\">Spark UI</a></p>\n",
       "\n",
       "            <dl>\n",
       "              <dt>Version</dt>\n",
       "                <dd><code>v2.4.8</code></dd>\n",
       "              <dt>Master</dt>\n",
       "                <dd><code>local[*]</code></dd>\n",
       "              <dt>AppName</dt>\n",
       "                <dd><code>PySparkShell</code></dd>\n",
       "            </dl>\n",
       "        </div>\n",
       "        "
      ],
      "text/plain": [
       "<SparkContext master=local[*] appName=PySparkShell>"
      ]
     },
     "execution_count": 12,
     "metadata": {},
     "output_type": "execute_result"
    }
   ],
   "source": [
    "sc"
   ]
  },
  {
   "cell_type": "code",
   "execution_count": 13,
   "id": "05bc456d",
   "metadata": {},
   "outputs": [
    {
     "data": {
      "text/html": [
       "\n",
       "            <div>\n",
       "                <p><b>SparkSession - hive</b></p>\n",
       "                \n",
       "        <div>\n",
       "            <p><b>SparkContext</b></p>\n",
       "\n",
       "            <p><a href=\"http://10.0.2.15:4040\">Spark UI</a></p>\n",
       "\n",
       "            <dl>\n",
       "              <dt>Version</dt>\n",
       "                <dd><code>v2.4.8</code></dd>\n",
       "              <dt>Master</dt>\n",
       "                <dd><code>local[*]</code></dd>\n",
       "              <dt>AppName</dt>\n",
       "                <dd><code>PySparkShell</code></dd>\n",
       "            </dl>\n",
       "        </div>\n",
       "        \n",
       "            </div>\n",
       "        "
      ],
      "text/plain": [
       "<pyspark.sql.session.SparkSession at 0x7fdf15bc7438>"
      ]
     },
     "execution_count": 13,
     "metadata": {},
     "output_type": "execute_result"
    }
   ],
   "source": [
    "spark"
   ]
  },
  {
   "cell_type": "code",
   "execution_count": 14,
   "id": "5b179b6d",
   "metadata": {},
   "outputs": [],
   "source": [
    "from pyspark.sql.functions import *"
   ]
  },
  {
   "cell_type": "code",
   "execution_count": 15,
   "id": "4ee224e6",
   "metadata": {},
   "outputs": [],
   "source": [
    "#load user data\n",
    "user_data = spark.read.csv(\"/graphx/users/user.txt\",header=True,inferSchema=True)\n",
    "#load followers data\n",
    "followers_data = spark.read.csv(\"/graphx/follower/followers.txt\",header=True,inferSchema=True)"
   ]
  },
  {
   "cell_type": "markdown",
   "id": "0dbbc238",
   "metadata": {},
   "source": [
    "#### create GraphX DataFrame"
   ]
  },
  {
   "cell_type": "code",
   "execution_count": 16,
   "id": "0bd8974c",
   "metadata": {},
   "outputs": [
    {
     "name": "stdout",
     "output_type": "stream",
     "text": [
      "Defaulting to user installation because normal site-packages is not writeable\n",
      "Requirement already satisfied: graphframes in ./.local/lib/python3.6/site-packages (0.6)\n",
      "Requirement already satisfied: numpy in ./.local/lib/python3.6/site-packages (from graphframes) (1.19.5)\n",
      "Requirement already satisfied: nose in ./.local/lib/python3.6/site-packages (from graphframes) (1.3.7)\n"
     ]
    }
   ],
   "source": [
    "#!pip install graphframes"
   ]
  },
  {
   "cell_type": "code",
   "execution_count": 17,
   "id": "c0cf3529",
   "metadata": {},
   "outputs": [],
   "source": [
    "from graphframes import GraphFrame"
   ]
  },
  {
   "cell_type": "code",
   "execution_count": 18,
   "id": "9687d587",
   "metadata": {},
   "outputs": [],
   "source": [
    "#create vertices and edges dataframe\n",
    "vertices = user_data.withColumnRenamed(\"user_id\",\"id\").select(\"id\",\"user_name\")"
   ]
  },
  {
   "cell_type": "code",
   "execution_count": 19,
   "id": "ee452f47",
   "metadata": {},
   "outputs": [],
   "source": [
    "edges = followers_data.withColumnRenamed(\"follower_id\",\"src\")\\\n",
    "        .withColumnRenamed(\"followee_id\",\"dst\")"
   ]
  },
  {
   "cell_type": "code",
   "execution_count": 20,
   "id": "0986c418",
   "metadata": {},
   "outputs": [],
   "source": [
    "# create a GraphFrame = Property graph using vertices and edges\n",
    "graph = GraphFrame(vertices,edges)"
   ]
  },
  {
   "cell_type": "code",
   "execution_count": 21,
   "id": "cfd627c9",
   "metadata": {},
   "outputs": [],
   "source": [
    "#run PageRank algorith from graphX\n",
    "ranks = graph.pageRank(resetProbability=0.15, maxIter=10)"
   ]
  },
  {
   "cell_type": "code",
   "execution_count": 22,
   "id": "619e6a06",
   "metadata": {},
   "outputs": [
    {
     "name": "stdout",
     "output_type": "stream",
     "text": [
      "+---+-------------+------------------+\n",
      "| id|    user_name|          pagerank|\n",
      "+---+-------------+------------------+\n",
      "|  6|   devika9091| 2.114669473746382|\n",
      "|  5|  bhagya10200|2.0376039342322696|\n",
      "|  4|     siva2109|0.7216117000227338|\n",
      "|  2|     sharon_1|0.7216117000227338|\n",
      "|  1|   mubeentm01|0.6731037647948335|\n",
      "|  3|    naveen007|0.5291478311931067|\n",
      "|  7|amithmishra08|0.5291478311931067|\n",
      "+---+-------------+------------------+\n",
      "\n"
     ]
    }
   ],
   "source": [
    "#Display PageRank Results\n",
    "ranks.vertices.orderBy(ranks.vertices.pagerank.desc()).show()"
   ]
  },
  {
   "cell_type": "code",
   "execution_count": null,
   "id": "6614654d",
   "metadata": {},
   "outputs": [],
   "source": []
  }
 ],
 "metadata": {
  "kernelspec": {
   "display_name": "Python 3",
   "language": "python",
   "name": "python3"
  },
  "language_info": {
   "codemirror_mode": {
    "name": "ipython",
    "version": 3
   },
   "file_extension": ".py",
   "mimetype": "text/x-python",
   "name": "python",
   "nbconvert_exporter": "python",
   "pygments_lexer": "ipython3",
   "version": "3.6.9"
  }
 },
 "nbformat": 4,
 "nbformat_minor": 5
}
